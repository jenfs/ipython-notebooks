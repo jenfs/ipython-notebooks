{
 "metadata": {
  "name": "",
  "signature": "sha256:7a8fc587af58be50a407579b61b9cfd1a29f083fa856acd4a2b1b4349ba75b6a"
 },
 "nbformat": 3,
 "nbformat_minor": 0,
 "worksheets": [
  {
   "cells": [
    {
     "cell_type": "markdown",
     "metadata": {},
     "source": [
      "#Heights of Women's College Basketball Players\n",
      "This analysis stemmed from a simple question -- what is considered \"tall\" for a wcbb player? I then wondered whether this varied by ranked vs. non-ranked teams; by conference; and by position.\n"
     ]
    },
    {
     "cell_type": "markdown",
     "metadata": {},
     "source": [
      "###Step 1: Gathering the list of NCAA Division 1 Schools\n",
      "The NCAA's website has rosters for all the teams. I could not find a comprehensive list of all the schools who have D1 teams. Instead I will crawl the list of schools, and then find which of those are D1.\n",
      "\n",
      "The directory of schools is http://www.ncaa.com/schools/. This will be the starting url for my scrapy spider. Scrapy is easiest to run from the command line, so I will write the Scrapy spider to a python file, then run it via command line."
     ]
    },
    {
     "cell_type": "code",
     "collapsed": false,
     "input": [
      "%%writefile school_crawler.py\n",
      "from scrapy.contrib.spiders import CrawlSpider, Rule\n",
      "from scrapy.contrib.linkextractors.sgml import SgmlLinkExtractor\n",
      "from bs4 import BeautifulSoup\n",
      "import os\n",
      "\n",
      "class NcaaSchoolSpider(CrawlSpider):\n",
      "    name = 'schoolspider'\n",
      "    start_urls = ['http://www.ncaa.com/schools/']\n",
      "    allowed_domains = ['ncaa.com']\n",
      "    \n",
      "    rules = (\n",
      "        Rule(SgmlLinkExtractor(allow=(r'/schools/[a-z]$',), allow_domains=('ncaa.com'))),\n",
      "        Rule(SgmlLinkExtractor(allow=(r'/schools/[a-z]',), allow_domains=('ncaa.com')), callback='parse_item'),\n",
      "    )\n",
      "    \n",
      "    def __init__(self):\n",
      "        CrawlSpider.__init__(self)\n",
      "        try:\n",
      "            os.remove('ncaa_d1_schools.txt')\n",
      "        except OSError:\n",
      "            pass\n",
      "    \n",
      "    def parse_item(self, response):\n",
      "        page_soup = BeautifulSoup(response.body)\n",
      "        try:\n",
      "            if page_soup.find('div', {'class':'school-meta'}).find('h2').text == 'Div I':\n",
      "                with open('ncaa_d1_schools.txt', 'a') as f:\n",
      "                    f.write(response.url + '\\n')\n",
      "        except AttributeError:\n",
      "            pass\n",
      "            \n"
     ],
     "language": "python",
     "metadata": {},
     "outputs": [
      {
       "output_type": "stream",
       "stream": "stdout",
       "text": [
        "Overwriting school_crawler.py\n"
       ]
      }
     ],
     "prompt_number": 1
    },
    {
     "cell_type": "code",
     "collapsed": false,
     "input": [
      "!scrapy runspider --loglevel=INFO school_crawler.py"
     ],
     "language": "python",
     "metadata": {},
     "outputs": [
      {
       "output_type": "stream",
       "stream": "stdout",
       "text": [
        "/Users/jfly/anaconda/lib/python2.7/site-packages/twisted/internet/_sslverify.py:184: UserWarning: You do not have the service_identity module installed. Please install it from <https://pypi.python.org/pypi/service_identity>. Without the service_identity module and a recent enough pyOpenSSL tosupport it, Twisted can perform only rudimentary TLS client hostnameverification.  Many valid certificate/hostname mappings may be rejected.\r\n",
        "  verifyHostname, VerificationError = _selectVerifyImplementation()\r\n"
       ]
      },
      {
       "output_type": "stream",
       "stream": "stdout",
       "text": [
        "2015-01-09 19:21:01-0800 [scrapy] INFO: Scrapy 0.24.4 started (bot: scrapybot)\r\n",
        "2015-01-09 19:21:01-0800 [scrapy] INFO: Optional features available: ssl, http11, boto\r\n",
        "2015-01-09 19:21:01-0800 [scrapy] INFO: Overridden settings: {'LOG_LEVEL': 'INFO'}\r\n"
       ]
      },
      {
       "output_type": "stream",
       "stream": "stdout",
       "text": [
        "2015-01-09 19:21:01-0800 [scrapy] INFO: Enabled extensions: LogStats, TelnetConsole, CloseSpider, WebService, CoreStats, SpiderState\r\n"
       ]
      },
      {
       "output_type": "stream",
       "stream": "stdout",
       "text": [
        "2015-01-09 19:21:02-0800 [scrapy] INFO: Enabled downloader middlewares: HttpAuthMiddleware, DownloadTimeoutMiddleware, UserAgentMiddleware, RetryMiddleware, DefaultHeadersMiddleware, MetaRefreshMiddleware, HttpCompressionMiddleware, RedirectMiddleware, CookiesMiddleware, ChunkedTransferMiddleware, DownloaderStats\r\n",
        "2015-01-09 19:21:02-0800 [scrapy] INFO: Enabled spider middlewares: HttpErrorMiddleware, OffsiteMiddleware, RefererMiddleware, UrlLengthMiddleware, DepthMiddleware\r\n"
       ]
      },
      {
       "output_type": "stream",
       "stream": "stdout",
       "text": [
        "2015-01-09 19:21:02-0800 [scrapy] INFO: Enabled item pipelines: \r\n",
        "2015-01-09 19:21:02-0800 [schoolspider] INFO: Spider opened\r\n",
        "2015-01-09 19:21:02-0800 [schoolspider] INFO: Crawled 0 pages (at 0 pages/min), scraped 0 items (at 0 items/min)\r\n"
       ]
      },
      {
       "output_type": "stream",
       "stream": "stdout",
       "text": [
        "2015-01-09 19:22:02-0800 [schoolspider] INFO: Crawled 412 pages (at 412 pages/min), scraped 0 items (at 0 items/min)\r\n"
       ]
      },
      {
       "output_type": "stream",
       "stream": "stdout",
       "text": [
        "2015-01-09 19:23:02-0800 [schoolspider] INFO: Crawled 858 pages (at 446 pages/min), scraped 0 items (at 0 items/min)\r\n"
       ]
      },
      {
       "output_type": "stream",
       "stream": "stdout",
       "text": [
        "2015-01-09 19:23:43-0800 [schoolspider] INFO: Closing spider (finished)\r\n",
        "2015-01-09 19:23:43-0800 [schoolspider] INFO: Dumping Scrapy stats:\r\n",
        "\t{'downloader/request_bytes': 315066,\r\n",
        "\t 'downloader/request_count': 1172,\r\n",
        "\t 'downloader/request_method_count/GET': 1172,\r\n",
        "\t 'downloader/response_bytes': 17983093,\r\n",
        "\t 'downloader/response_count': 1172,\r\n",
        "\t 'downloader/response_status_count/200': 1171,\r\n",
        "\t 'downloader/response_status_count/301': 1,\r\n",
        "\t 'dupefilter/filtered': 1182,\r\n",
        "\t 'finish_reason': 'finished',\r\n",
        "\t 'finish_time': datetime.datetime(2015, 1, 10, 3, 23, 43, 919119),\r\n",
        "\t 'log_count/INFO': 9,\r\n",
        "\t 'request_depth_max': 2,\r\n",
        "\t 'response_received_count': 1171,\r\n",
        "\t 'scheduler/dequeued': 1172,\r\n",
        "\t 'scheduler/dequeued/memory': 1172,\r\n",
        "\t 'scheduler/enqueued': 1172,\r\n",
        "\t 'scheduler/enqueued/memory': 1172,\r\n",
        "\t 'start_time': datetime.datetime(2015, 1, 10, 3, 21, 2, 328603)}\r\n",
        "2015-01-09 19:23:43-0800 [schoolspider] INFO: Spider closed (finished)\r\n"
       ]
      }
     ],
     "prompt_number": 2
    },
    {
     "cell_type": "markdown",
     "metadata": {},
     "source": [
      "Let's see how many schools we got and what they look like."
     ]
    },
    {
     "cell_type": "code",
     "collapsed": false,
     "input": [
      "!wc -l ncaa_d1_schools.txt"
     ],
     "language": "python",
     "metadata": {},
     "outputs": [
      {
       "output_type": "stream",
       "stream": "stdout",
       "text": [
        "     351 ncaa_d1_schools.txt\r\n"
       ]
      }
     ],
     "prompt_number": 3
    },
    {
     "cell_type": "code",
     "collapsed": false,
     "input": [
      "!head ncaa_d1_schools.txt"
     ],
     "language": "python",
     "metadata": {},
     "outputs": [
      {
       "output_type": "stream",
       "stream": "stdout",
       "text": [
        "http://www.ncaa.com/schools/alabama\r\n",
        "http://www.ncaa.com/schools/xavier\r\n",
        "http://www.ncaa.com/schools/youngstown-st\r\n",
        "http://www.ncaa.com/schools/austin-peay\r\n",
        "http://www.ncaa.com/schools/syracuse\r\n",
        "http://www.ncaa.com/schools/vmi\r\n",
        "http://www.ncaa.com/schools/quinnipiac\r\n",
        "http://www.ncaa.com/schools/murray-st\r\n",
        "http://www.ncaa.com/schools/mt-st-marys\r\n",
        "http://www.ncaa.com/schools/morgan-st\r\n"
       ]
      }
     ],
     "prompt_number": 4
    },
    {
     "cell_type": "markdown",
     "metadata": {},
     "source": [
      "###Step 2: Finding the rosters for those D1 teams who have wcbb teams\n",
      "The pages for wcbb teams follow the pattern http://www.ncaa.com/schools/[school-name]/basketball-women. For each of the 351 teams above, I will attempt to get their basketball roster. I will populate a dataframe with each player's school, school conference, position and height."
     ]
    },
    {
     "cell_type": "code",
     "collapsed": false,
     "input": [
      "from bs4 import BeautifulSoup\n",
      "import pandas as pd\n",
      "import requests\n",
      "\n",
      "\n",
      "class WcbbRosterScraper:\n",
      "    def __init__(self, school_url):\n",
      "        self._wcbb_url = school_url + '/basketball-women'\n",
      "        self._fields = ['school', 'conference', 'position', 'height']\n",
      "    \n",
      "    def get_roster_data(self):\n",
      "        r = requests.get(self._wcbb_url)\n",
      "        data = []\n",
      "        if r.ok:\n",
      "            page_soup = BeautifulSoup(r.text)\n",
      "            school_name = page_soup.find('span', {'class':'school-name'}).text\n",
      "            conference = page_soup.find('div', {'class':'school-meta'}).find_all('li')[1].text[6:]\n",
      "            roster = page_soup.find('div', id='tabs-2').find('table').find('tbody')\n",
      "            for tr in roster.find_all('tr'):\n",
      "                tds = tr.find_all('td')\n",
      "                data.append( pd.Series([school_name, conference, tds[2].text, tds[3].text],\n",
      "                          index=self._fields))\n",
      "        return data\n",
      "    \n",
      "\n",
      "\n"
     ],
     "language": "python",
     "metadata": {},
     "outputs": [],
     "prompt_number": 1
    },
    {
     "cell_type": "markdown",
     "metadata": {},
     "source": [
      "Using the above scraper, loop through each of our D1 schools and add the player data. This takes 5-10 minutes to run."
     ]
    },
    {
     "cell_type": "code",
     "collapsed": false,
     "input": [
      "import numpy as np\n",
      "\n",
      "schools = [s.strip() for s in open('ncaa_d1_schools.txt', 'r')]\n",
      "\n",
      "i=0\n",
      "data = []\n",
      "for s in schools:\n",
      "    scraper = WcbbRosterScraper(s)\n",
      "    data.extend(scraper.get_roster_data())\n",
      "    if i%5==0: print i,'\\r', \n",
      "    i+=1  \n",
      "\n",
      "df = pd.concat(data, axis=1).transpose()\n",
      "print np.shape(df)\n",
      "df.head()\n"
     ],
     "language": "python",
     "metadata": {},
     "outputs": []
    },
    {
     "cell_type": "markdown",
     "metadata": {},
     "source": [
      "Save the results in files to expedite future work"
     ]
    },
    {
     "cell_type": "code",
     "collapsed": false,
     "input": [
      "df.to_csv('player_data.txt')"
     ],
     "language": "python",
     "metadata": {},
     "outputs": []
    },
    {
     "cell_type": "markdown",
     "metadata": {},
     "source": [
      "Run the following cell if skipping the above scraping and instead loading the results from disk."
     ]
    },
    {
     "cell_type": "code",
     "collapsed": false,
     "input": [
      "df = pd.DataFrame.from_csv('player_data.txt')"
     ],
     "language": "python",
     "metadata": {},
     "outputs": [],
     "prompt_number": 2
    },
    {
     "cell_type": "markdown",
     "metadata": {},
     "source": [
      "###Step 3: Analyze Height Distribution\n",
      "First, drop rows that are missing heights, and convert height to inches so it is a continuous numeric value"
     ]
    },
    {
     "cell_type": "code",
     "collapsed": false,
     "input": [
      "df = df[df['height'] != '-']\n",
      "def height_to_inches(h):\n",
      "    try:\n",
      "        feet,inches = h.split('-')\n",
      "        return int(feet) * 12 + int(inches)\n",
      "    except:\n",
      "        print h\n",
      "        return None\n",
      "\n",
      "df['height'] = df['height'].apply(lambda x: height_to_inches(x))"
     ],
     "language": "python",
     "metadata": {},
     "outputs": [],
     "prompt_number": 6
    },
    {
     "cell_type": "code",
     "collapsed": false,
     "input": [
      "df.sort(['height']).head(15)"
     ],
     "language": "python",
     "metadata": {},
     "outputs": [
      {
       "html": [
        "<div style=\"max-height:1000px;max-width:1500px;overflow:auto;\">\n",
        "<table border=\"1\" class=\"dataframe\">\n",
        "  <thead>\n",
        "    <tr style=\"text-align: right;\">\n",
        "      <th></th>\n",
        "      <th>school</th>\n",
        "      <th>conference</th>\n",
        "      <th>position</th>\n",
        "      <th>height</th>\n",
        "    </tr>\n",
        "  </thead>\n",
        "  <tbody>\n",
        "    <tr>\n",
        "      <th>437 </th>\n",
        "      <td>               UMass Lowell</td>\n",
        "      <td>     America East Conference</td>\n",
        "      <td> F</td>\n",
        "      <td> 48</td>\n",
        "    </tr>\n",
        "    <tr>\n",
        "      <th>4805</th>\n",
        "      <td>      Kent State University</td>\n",
        "      <td>     Mid-American Conference</td>\n",
        "      <td> C</td>\n",
        "      <td> 48</td>\n",
        "    </tr>\n",
        "    <tr>\n",
        "      <th>4252</th>\n",
        "      <td> Grambling State University</td>\n",
        "      <td> Southwestern Athletic Conf.</td>\n",
        "      <td> G</td>\n",
        "      <td> 48</td>\n",
        "    </tr>\n",
        "    <tr>\n",
        "      <th>4256</th>\n",
        "      <td> Grambling State University</td>\n",
        "      <td> Southwestern Athletic Conf.</td>\n",
        "      <td> G</td>\n",
        "      <td> 48</td>\n",
        "    </tr>\n",
        "    <tr>\n",
        "      <th>4260</th>\n",
        "      <td> Grambling State University</td>\n",
        "      <td> Southwestern Athletic Conf.</td>\n",
        "      <td> F</td>\n",
        "      <td> 48</td>\n",
        "    </tr>\n",
        "    <tr>\n",
        "      <th>4261</th>\n",
        "      <td> Grambling State University</td>\n",
        "      <td> Southwestern Athletic Conf.</td>\n",
        "      <td> G</td>\n",
        "      <td> 48</td>\n",
        "    </tr>\n",
        "    <tr>\n",
        "      <th>4257</th>\n",
        "      <td> Grambling State University</td>\n",
        "      <td> Southwestern Athletic Conf.</td>\n",
        "      <td> G</td>\n",
        "      <td> 48</td>\n",
        "    </tr>\n",
        "    <tr>\n",
        "      <th>4262</th>\n",
        "      <td> Grambling State University</td>\n",
        "      <td> Southwestern Athletic Conf.</td>\n",
        "      <td> G</td>\n",
        "      <td> 48</td>\n",
        "    </tr>\n",
        "    <tr>\n",
        "      <th>4254</th>\n",
        "      <td> Grambling State University</td>\n",
        "      <td> Southwestern Athletic Conf.</td>\n",
        "      <td> G</td>\n",
        "      <td> 48</td>\n",
        "    </tr>\n",
        "    <tr>\n",
        "      <th>4258</th>\n",
        "      <td> Grambling State University</td>\n",
        "      <td> Southwestern Athletic Conf.</td>\n",
        "      <td> G</td>\n",
        "      <td> 48</td>\n",
        "    </tr>\n",
        "    <tr>\n",
        "      <th>4263</th>\n",
        "      <td> Grambling State University</td>\n",
        "      <td> Southwestern Athletic Conf.</td>\n",
        "      <td> G</td>\n",
        "      <td> 48</td>\n",
        "    </tr>\n",
        "    <tr>\n",
        "      <th>4264</th>\n",
        "      <td> Grambling State University</td>\n",
        "      <td> Southwestern Athletic Conf.</td>\n",
        "      <td> G</td>\n",
        "      <td> 48</td>\n",
        "    </tr>\n",
        "    <tr>\n",
        "      <th>4259</th>\n",
        "      <td> Grambling State University</td>\n",
        "      <td> Southwestern Athletic Conf.</td>\n",
        "      <td> G</td>\n",
        "      <td> 48</td>\n",
        "    </tr>\n",
        "    <tr>\n",
        "      <th>4265</th>\n",
        "      <td> Grambling State University</td>\n",
        "      <td> Southwestern Athletic Conf.</td>\n",
        "      <td> G</td>\n",
        "      <td> 48</td>\n",
        "    </tr>\n",
        "    <tr>\n",
        "      <th>2026</th>\n",
        "      <td>              Virginia Tech</td>\n",
        "      <td>   Atlantic Coast Conference</td>\n",
        "      <td> F</td>\n",
        "      <td> 48</td>\n",
        "    </tr>\n",
        "  </tbody>\n",
        "</table>\n",
        "</div>"
       ],
       "metadata": {},
       "output_type": "pyout",
       "prompt_number": 8,
       "text": [
        "                          school                   conference position  height\n",
        "437                 UMass Lowell      America East Conference        F      48\n",
        "4805       Kent State University      Mid-American Conference        C      48\n",
        "4252  Grambling State University  Southwestern Athletic Conf.        G      48\n",
        "4256  Grambling State University  Southwestern Athletic Conf.        G      48\n",
        "4260  Grambling State University  Southwestern Athletic Conf.        F      48\n",
        "4261  Grambling State University  Southwestern Athletic Conf.        G      48\n",
        "4257  Grambling State University  Southwestern Athletic Conf.        G      48\n",
        "4262  Grambling State University  Southwestern Athletic Conf.        G      48\n",
        "4254  Grambling State University  Southwestern Athletic Conf.        G      48\n",
        "4258  Grambling State University  Southwestern Athletic Conf.        G      48\n",
        "4263  Grambling State University  Southwestern Athletic Conf.        G      48\n",
        "4264  Grambling State University  Southwestern Athletic Conf.        G      48\n",
        "4259  Grambling State University  Southwestern Athletic Conf.        G      48\n",
        "4265  Grambling State University  Southwestern Athletic Conf.        G      48\n",
        "2026               Virginia Tech    Atlantic Coast Conference        F      48"
       ]
      }
     ],
     "prompt_number": 8
    },
    {
     "cell_type": "markdown",
     "metadata": {},
     "source": [
      "48 inches (4 feet) seems to be a filler height used when data are missing. I'll drop these rows as well."
     ]
    },
    {
     "cell_type": "code",
     "collapsed": false,
     "input": [
      "df = df[df['height'] != 48]"
     ],
     "language": "python",
     "metadata": {},
     "outputs": [],
     "prompt_number": 7
    },
    {
     "cell_type": "code",
     "collapsed": false,
     "input": [
      "%pylab inline\n"
     ],
     "language": "python",
     "metadata": {},
     "outputs": [
      {
       "output_type": "stream",
       "stream": "stdout",
       "text": [
        "Populating the interactive namespace from numpy and matplotlib\n"
       ]
      }
     ],
     "prompt_number": 10
    },
    {
     "cell_type": "code",
     "collapsed": false,
     "input": [
      "positions = ['Guard', 'Forward', 'Center']\n",
      "fig, ax = plt.subplots(figsize=(11,6))\n",
      "\n",
      "temp_data = [df[df['position'] == positions[i][0]].reset_index()['height'] for i in xrange(3)]\n",
      "\n",
      "bp = plt.boxplot(temp_data,)\n",
      "plt.setp(bp['boxes'], color='black')\n",
      "plt.setp(bp['whiskers'], color='black')\n",
      "plt.setp(bp['fliers'], color='red', marker='+')\n",
      "ax.yaxis.grid(True, linestyle='-', which='major', color='lightgrey',\n",
      "              alpha=0.5)\n",
      "\n",
      "ax.set_title('WCBB Height Distribution by Position')\n",
      "ax.set_ylabel('Height (inches)')\n",
      "\n",
      "plt.setp(ax, xticklabels=positions)\n",
      "plt.show()"
     ],
     "language": "python",
     "metadata": {},
     "outputs": [
      {
       "metadata": {},
       "output_type": "display_data",
       "png": "[encoded data removed]",
       "text": [
        "<matplotlib.figure.Figure at 0x107d1fdd0>"
       ]
      }
     ],
     "prompt_number": 11
    },
    {
     "cell_type": "markdown",
     "metadata": {},
     "source": [
      "How many players are 6'5\" or taller? 70 players, or less than 1.5%"
     ]
    },
    {
     "cell_type": "markdown",
     "metadata": {},
     "source": [
      "Is there a difference in distributions between the major conferences and the mid-major conferences? List of mid-majors is taken from http://www.collegeinsider.com/womens-mid-major-top-25.php"
     ]
    },
    {
     "cell_type": "code",
     "collapsed": false,
     "input": [
      "df['conference'].unique()"
     ],
     "language": "python",
     "metadata": {},
     "outputs": [
      {
       "metadata": {},
       "output_type": "pyout",
       "prompt_number": 15,
       "text": [
        "array(['Southeastern Conference', 'Ohio Valley Conference',\n",
        "       'Conference USA', 'Mountain West Conference', 'Big East Conference',\n",
        "       'Horizon League', 'Big Ten Conference',\n",
        "       'Metro Atlantic Athletic Conference', 'Northeast Conference',\n",
        "       'Mid-Eastern Athletic Conf.', 'Big Sky Conference',\n",
        "       'Missouri Valley Conference', 'Southwestern Athletic Conf.',\n",
        "       'Atlantic Coast Conference', 'Mid-American Conference',\n",
        "       'Atlantic Sun Conference', 'American Athletic Conference',\n",
        "       'Southland Conference', 'America East Conference',\n",
        "       'Atlantic 10 Conference', 'West Coast Conference', 'Patriot League',\n",
        "       'Big South Conference', 'Big West Conference',\n",
        "       'Sun Belt Conference', 'Colonial Athletic Association',\n",
        "       'The Summit League', 'Western Athletic Conference',\n",
        "       'Pac-12 Conference', 'Big 12 Conference', 'The Ivy League',\n",
        "       'Southern Conference', 'Independent'], dtype=object)"
       ]
      }
     ],
     "prompt_number": 15
    },
    {
     "cell_type": "code",
     "collapsed": false,
     "input": [
      "major_conferences = ['Southeastern Conference', 'Mountain West Conference', 'Big East Conference', 'Big Ten Conference',\n",
      "                     'Atlantic Coast Conference', 'American Athletic Conference', 'Atlantic 10 Conference', 'Pac-12 Conference',\n",
      "                     'Big 12 Conference', 'Conference USA']"
     ],
     "language": "python",
     "metadata": {},
     "outputs": [],
     "prompt_number": 14
    },
    {
     "cell_type": "code",
     "collapsed": false,
     "input": [
      "df_majors = df[df['conference'].isin(major_conferences)]\n",
      "df_mid_majors = df[~df.index.isin(df_majors.index)]"
     ],
     "language": "python",
     "metadata": {},
     "outputs": [],
     "prompt_number": 16
    },
    {
     "cell_type": "code",
     "collapsed": false,
     "input": [
      "import itertools\n",
      "fig, ax = plt.subplots(figsize=(11,6))\n",
      "\n",
      "temp_mid_majors = [df_mid_majors[df_mid_majors['position'] == positions[i][0]].reset_index()['height'] for i in xrange(3)]\n",
      "temp_majors = [df_majors[df_majors['position'] == positions[i][0]].reset_index()['height'] for i in xrange(3)]\n",
      "temp_data = [val for pair in zip(temp_mid_majors, temp_majors) for val in pair] #interleave\n",
      "\n",
      "bp = plt.boxplot(temp_data,)\n",
      "plt.setp(bp['boxes'], color='black')\n",
      "plt.setp(bp['whiskers'], color='black')\n",
      "plt.setp(bp['fliers'], color='red', marker='+')\n",
      "ax.yaxis.grid(True, linestyle='-', which='major', color='lightgrey',\n",
      "              alpha=0.5)\n",
      "\n",
      "ax.set_title('WCBB Height Distribution by Position')\n",
      "ax.set_ylabel('Height (inches)')\n",
      "\n",
      "labels = list(x + ' ' + y for x,y in itertools.product(positions, ['Mid Majors', 'Majors']))\n",
      "plt.setp(ax, xticklabels=labels)\n",
      "plt.show()"
     ],
     "language": "python",
     "metadata": {},
     "outputs": [
      {
       "metadata": {},
       "output_type": "display_data",
       "png": "[encoded data removed]",
       "text": [
        "<matplotlib.figure.Figure at 0x107f2ab10>"
       ]
      }
     ],
     "prompt_number": 17
    },
    {
     "cell_type": "markdown",
     "metadata": {},
     "source": [
      "Is there a difference in distributions between the ranked teams and non-ranked teams? Ranked teams taken to be those appearing in either the AP or the coaches' polls on Jan 05. See http://www.ncaa.com/rankings/basketball-women/d1"
     ]
    },
    {
     "cell_type": "code",
     "collapsed": false,
     "input": [
      "ranked = ['University of South Carolina', 'University of Connecticut', 'University of Texas',\n",
      "          'University of Notre Dame', 'Baylor University', 'University of North Carolina',\n",
      "          'University of Louisville', 'Texas A&M University', 'University of Tennessee',\n",
      "          'University of Maryland-College Park', 'University of Kentucky', 'Duke University',\n",
      "          'Oregon State University', 'Stanford University', 'Mississippi State University',\n",
      "          'Oklahoma State University', 'University of Iowa', 'University of Nebraska',\n",
      "          'University of Georgia', 'Arizona State University', 'Syracuse University',\n",
      "          'Florida State University', 'Rutgers University', 'Princeton University', \n",
      "          'West Virginia University', 'University of Minnesota', 'Western Kentucky University']"
     ],
     "language": "python",
     "metadata": {},
     "outputs": [],
     "prompt_number": 3
    },
    {
     "cell_type": "code",
     "collapsed": false,
     "input": [
      "df_ranked = df[df['school'].isin(ranked)]\n",
      "df_unranked = df[~df.index.isin(df_ranked.index)]"
     ],
     "language": "python",
     "metadata": {},
     "outputs": [],
     "prompt_number": 9
    },
    {
     "cell_type": "code",
     "collapsed": false,
     "input": [
      "fig, ax = plt.subplots(figsize=(11,6))\n",
      "\n",
      "temp_ranked = [df_ranked[df_ranked['position'] == positions[i][0]].reset_index()['height'] for i in xrange(3)]\n",
      "temp_unranked = [df_unranked[df_unranked['position'] == positions[i][0]].reset_index()['height'] for i in xrange(3)]\n",
      "temp_data = [val for pair in zip(temp_unranked, temp_ranked) for val in pair] #interleave\n",
      "\n",
      "bp = plt.boxplot(temp_data,)\n",
      "plt.setp(bp['boxes'], color='black')\n",
      "plt.setp(bp['whiskers'], color='black')\n",
      "plt.setp(bp['fliers'], color='red', marker='+')\n",
      "ax.yaxis.grid(True, linestyle='-', which='major', color='lightgrey',\n",
      "              alpha=0.5)\n",
      "\n",
      "ax.set_title('WCBB Height Distribution by Position')\n",
      "ax.set_ylabel('Height (inches)')\n",
      "\n",
      "labels = list(x + ' ' + y for x,y in itertools.product(positions, ['Unranked', 'Ranked']))\n",
      "plt.setp(ax, xticklabels=labels)\n",
      "plt.show()"
     ],
     "language": "python",
     "metadata": {},
     "outputs": [
      {
       "metadata": {},
       "output_type": "display_data",
       "png": "[encoded data removed]",
       "text": [
        "<matplotlib.figure.Figure at 0x107f1b1d0>"
       ]
      }
     ],
     "prompt_number": 20
    },
    {
     "cell_type": "markdown",
     "metadata": {},
     "source": [
      "How many players on ranked / unranked teams are 6'5\" or taller?"
     ]
    },
    {
     "cell_type": "code",
     "collapsed": false,
     "input": [
      "print 'overall percentage:', 100 * df[df['height'] >= 77].count()['height'] / float(df.count()['height'])\n",
      "print 'percentage in ranked teams:', \\\n",
      " 100 * df_ranked[df_ranked['height'] >= 77].count()['height'] / float(df_ranked.count()['height'])\n",
      "\n",
      "print 'percentage in unranked teams:', \\\n",
      " 100 * df_unranked[df_unranked['height'] >= 77].count()['height'] / float(df_unranked.count()['height'])\n",
      "\n"
     ],
     "language": "python",
     "metadata": {},
     "outputs": [
      {
       "output_type": "stream",
       "stream": "stdout",
       "text": [
        "overall percentage: 1.47027935308\n",
        "percentage in ranked teams: 5.46448087432\n",
        "percentage in unranked teams: 1.13765642776\n"
       ]
      }
     ],
     "prompt_number": 15
    },
    {
     "cell_type": "markdown",
     "metadata": {},
     "source": [
      "The percentage of players 6'5\" or taller is nearly 5 times higher in ranked teams than on unranked teams. Given a player 6'5\" or taller, is it more likely that she is on a ranked team or an unranked team? I'll use Bayes' theorem.\n",
      "\n",
      "Let $T$ signify the event that the player is at least 6'5\" tall. Let $R$ signify the event that the player is on a ranked team. Let $R^C$ signify the event the player is on an unranked team. Then we have:\n",
      "$$\n",
      "\\begin{aligned}\n",
      "Pr(T) & = & 0.0147 \\\\\n",
      "Pr(T | R) & = & 0.0546 \\\\\n",
      "Pr(T | R^C) & = & 0.0114\n",
      "\\end{aligned}\n",
      "$$\n",
      "\n",
      "To find $Pr(R | T)$ using Bayes' theorem, we also need to know $Pr(R)$"
     ]
    },
    {
     "cell_type": "code",
     "collapsed": false,
     "input": [
      "ranked_players_ct = len(df_ranked)\n",
      "unranked_players_ct = len(df_unranked)\n",
      "print 'total players:', ranked_players_ct + unranked_player_ct\n",
      "print 'percentage ranked players: ', 100 * ranked_players_ct / float(ranked_players_ct + unranked_players_ct)\n",
      "print 'percentage unranked players: ', 100 * unranked_players_ct / float(ranked_players_ct + unranked_players_ct)\n"
     ],
     "language": "python",
     "metadata": {},
     "outputs": [
      {
       "output_type": "stream",
       "stream": "stdout",
       "text": [
        " total players: 4761\n",
        "percentage ranked players:  7.68746061752\n",
        "percentage unranked players:  92.3125393825\n"
       ]
      }
     ],
     "prompt_number": 18
    },
    {
     "cell_type": "markdown",
     "metadata": {},
     "source": [
      "This gives us \n",
      "$$Pr(R) = 0.0769 $$\n",
      "\n",
      "Apply Bayes' theorem:\n",
      "$$\n",
      "  \\begin{aligned}\n",
      "        Pr(R | T)  = & \\frac{Pr(T|R) \\cdot Pr(R)}{Pr(T)}     \\\\\n",
      "                = & \\frac{0.0546 \\cdot 0.0769}{0.0147} \\\\\n",
      "                = & 0.286\n",
      "  \\end{aligned}\n",
      "$$\n",
      "\n",
      "Thus, if we know a randomly selected player is 6'5\" or taller, our belief that she is on a ranked team increases nearly four-fold (7.69% to 28.6%). Yet even with this knowledge, it is still more likely that she is on an unranked team."
     ]
    }
   ],
   "metadata": {}
  }
 ]
}