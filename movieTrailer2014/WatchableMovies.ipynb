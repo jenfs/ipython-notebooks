{
 "metadata": {
  "name": "",
  "signature": "sha256:0e518872cc71405b17bfe4bbecde752cbb90657bbd43a50cb8647b3bc56168a5"
 },
 "nbformat": 3,
 "nbformat_minor": 0,
 "worksheets": [
  {
   "cells": [
    {
     "cell_type": "markdown",
     "metadata": {},
     "source": [
      "#Finding Movies to Watch\n",
      "I stumbled upon this video which spliced together a bunch of movies from 2014: http://youtu.be/HCERNDg8ESY. The creator lists the movies here: http://sleepyskunk.tumblr.com/post/104156041179/list-of-movies-used-in-my-2014-movie-trailer\n",
      "\n",
      "I did not recognize many of the movies and many looked interesting. I wanted to find promising looking ones to add to my movie queue. The movie titles are given in the page. There are many duplicates and over 100 unique movies. Instead of looking them all up manually, I decided to sharpen my programming.\n",
      "\n"
     ]
    },
    {
     "cell_type": "markdown",
     "metadata": {},
     "source": [
      "###Step 1: Getting the movie list\n",
      "I viewed the page source and copied and pasted the movie list portion into a text file, tumblr-movies.txt"
     ]
    },
    {
     "cell_type": "code",
     "collapsed": false,
     "input": [
      "!head /Users/jfly/Projects/movieTrailer2014/tumblr-movies.txt\n",
      "!wc -l tumblr-movies.txt"
     ],
     "language": "python",
     "metadata": {},
     "outputs": [
      {
       "output_type": "stream",
       "stream": "stdout",
       "text": [
        " 0:16 - The Maze Runner\r\n",
        " 0:17 - Extraterrestrial\r\n",
        " 0:19 - Godzilla\r\n",
        " 0:20 - The Imitation Game\r\n",
        " 0:21 - Earth to Echo\r\n",
        " 0:22 - Exodus: Gods and Kings\r\n",
        " 0:24 - Extraterrestrial\r\n",
        " 0:25 - X-Men: Days of Future Past\r\n",
        " 0:26 - Big Bad Wolves\r\n",
        " 0:27 - Automata\r\n"
       ]
      },
      {
       "output_type": "stream",
       "stream": "stdout",
       "text": [
        "     285 tumblr-movies.txt\r\n"
       ]
      }
     ],
     "prompt_number": 1
    },
    {
     "cell_type": "markdown",
     "metadata": {},
     "source": [
      "Next, de-dupe and clean up the list so we just have titles."
     ]
    },
    {
     "cell_type": "code",
     "collapsed": false,
     "input": [
      "!grep \"^ \\d:\\d\\d - [A-Z].*\" tumblr-movies.txt | cut -c 9- | sort | uniq > movie-titles.txt\n",
      "!head movie-titles.txt\n",
      "!wc -l movie-titles.txt"
     ],
     "language": "python",
     "metadata": {},
     "outputs": [
      {
       "output_type": "stream",
       "stream": "stdout",
       "text": [
        "A Dolphin Tale 2\r\n",
        "A Million Ways to Die in the West\r\n",
        "A Most Wanted Man\r\n",
        "A Walk Among The Tombstones\r\n",
        "Addicted\r\n",
        "American Sniper\r\n",
        "Annabelle\r\n",
        "Annie\r\n",
        "Antboy\r\n",
        "As Above, So Below\r\n"
       ]
      },
      {
       "output_type": "stream",
       "stream": "stdout",
       "text": [
        "     178 movie-titles.txt\r\n"
       ]
      }
     ],
     "prompt_number": 2
    },
    {
     "cell_type": "markdown",
     "metadata": {},
     "source": [
      "###Step 2: Get rotten-tomatoes rating\n",
      "I wanted to narrow down the list of 178 movies, so I decided to filter by Rotten Tomatoes ratings. The format of the Rotten Tomatoes search url is: http://www.rottentomatoes.com/search/?search=Movie+Title.  This link will either direct to a search results page with 0 or 2+ results; or to the page of a single movie. This leaves three cases to handle: \n",
      "* 0 results: done processing; e.g., http://www.rottentomatoes.com/search/?search=A+Dolphin+Tale+2\n",
      "* 1 result: grab rating from page; e.g., http://www.rottentomatoes.com/m/antboy/\n",
      "* 2+ results: pick the movie from 2014 and get its rating; e.g., http://www.rottentomatoes.com/search/?search=Annie"
     ]
    },
    {
     "cell_type": "code",
     "collapsed": false,
     "input": [
      "#case 2 - take max of critic and user scores, if they exist\n",
      "def get_score_movie_page(page_text):\n",
      "    scores = []\n",
      "    soup = BeautifulSoup(page_text)\n",
      "\n",
      "    critic_text = soup.findAll(\"meta\", { \"name\" : \"twitter:data1\" })[0].attrs['content']\n",
      "    m = re.match('(\\d\\d?)% of critics liked it', critic_text)\n",
      "    if m:\n",
      "        scores.append(int(m.group(1)))\n",
      "    user_text = soup.findAll(\"meta\", { \"name\" : \"twitter:data2\" })[0].attrs['content']\n",
      "    m = re.match('(\\d\\d?)% of users liked it', user_text)\n",
      "    if m:\n",
      "        scores.append(int(m.group(1)))\n",
      "    return np.max(scores) if len(scores) > 0 else np.nan"
     ],
     "language": "python",
     "metadata": {},
     "outputs": [],
     "prompt_number": 3
    },
    {
     "cell_type": "code",
     "collapsed": false,
     "input": [
      "#case 3 - take the score for the 2014 film, if score exists\n",
      "def get_score_multi_results(page_text):\n",
      "    score = np.nan\n",
      "    soup = BeautifulSoup(page_text)\n",
      "    ul_tag = soup.find('ul', id = 'movie_results_ul')\n",
      "    for li in ul_tag.findAll('li'):\n",
      "        for sp in li.findAll('span', {'class' : 'movie_year'}):\n",
      "            if sp.contents[0].strip() == '(2014)':\n",
      "                tmeter = li.find('span', {'class' : 'tMeterScore'})\n",
      "                if tmeter:\n",
      "                    score = int(tmeter.contents[0][:-1])\n",
      "                break\n",
      "    return score"
     ],
     "language": "python",
     "metadata": {},
     "outputs": [],
     "prompt_number": 4
    },
    {
     "cell_type": "markdown",
     "metadata": {},
     "source": [
      "Then I searched for each movie and scraped its score. The following took about 5 minutes to run."
     ]
    },
    {
     "cell_type": "code",
     "collapsed": false,
     "input": [
      "import numpy as np\n",
      "import re\n",
      "import requests\n",
      "from bs4 import BeautifulSoup\n",
      "ratings = {}\n",
      "not_rated = []\n",
      "not_found = []\n",
      "\n",
      "search_base_url = 'http://www.rottentomatoes.com/search/?search='\n",
      "titles = [t.strip() for t in open(\"movie-titles.txt\",\"r\")]\n",
      "\n",
      "i=0\n",
      "for t in titles:\n",
      "    search_url = search_base_url + t.replace(' ', '+')\n",
      "    r = requests.get(search_url)\n",
      "    if r.text.find('Sorry, no results found for ') >= 0: #case 1\n",
      "        not_found.append(t)\n",
      "    elif re.search('^http://www.rottentomatoes.com/m/', r.url): #case 2\n",
      "        score = get_score_movie_page(r.text.encode('utf8'))\n",
      "        if np.isnan(score):\n",
      "            not_rated.append(t)\n",
      "        else:\n",
      "            ratings[t] = score\n",
      "    else: #case 3\n",
      "        score = get_score_multi_results(r.text.encode('utf8')) \n",
      "        if np.isnan(score):\n",
      "            not_rated.append(t)\n",
      "        else:\n",
      "            ratings[t] = score\n",
      "        \n",
      "    \n",
      "    if i%5==0: print i,'\\r', \n",
      "    i+=1                      "
     ],
     "language": "python",
     "metadata": {},
     "outputs": [
      {
       "output_type": "stream",
       "stream": "stdout",
       "text": [
        "0 \r",
        "5"
       ]
      },
      {
       "output_type": "stream",
       "stream": "stdout",
       "text": [
        " \r",
        "10"
       ]
      },
      {
       "output_type": "stream",
       "stream": "stdout",
       "text": [
        " \r",
        "15"
       ]
      },
      {
       "output_type": "stream",
       "stream": "stdout",
       "text": [
        " \r",
        "20"
       ]
      },
      {
       "output_type": "stream",
       "stream": "stdout",
       "text": [
        " \r",
        "25"
       ]
      },
      {
       "output_type": "stream",
       "stream": "stdout",
       "text": [
        " \r",
        "30"
       ]
      },
      {
       "output_type": "stream",
       "stream": "stdout",
       "text": [
        " \r",
        "35"
       ]
      },
      {
       "output_type": "stream",
       "stream": "stdout",
       "text": [
        " \r",
        "40"
       ]
      },
      {
       "output_type": "stream",
       "stream": "stdout",
       "text": [
        " \r",
        "45"
       ]
      },
      {
       "output_type": "stream",
       "stream": "stdout",
       "text": [
        " \r",
        "50"
       ]
      },
      {
       "output_type": "stream",
       "stream": "stdout",
       "text": [
        " \r",
        "55"
       ]
      },
      {
       "output_type": "stream",
       "stream": "stdout",
       "text": [
        " \r",
        "60"
       ]
      },
      {
       "output_type": "stream",
       "stream": "stdout",
       "text": [
        " \r",
        "65"
       ]
      },
      {
       "output_type": "stream",
       "stream": "stdout",
       "text": [
        " \r",
        "70"
       ]
      },
      {
       "output_type": "stream",
       "stream": "stdout",
       "text": [
        " \r",
        "75"
       ]
      },
      {
       "output_type": "stream",
       "stream": "stdout",
       "text": [
        " \r",
        "80"
       ]
      },
      {
       "output_type": "stream",
       "stream": "stdout",
       "text": [
        " \r",
        "85"
       ]
      },
      {
       "output_type": "stream",
       "stream": "stdout",
       "text": [
        " \r",
        "90"
       ]
      },
      {
       "output_type": "stream",
       "stream": "stdout",
       "text": [
        " \r",
        "95"
       ]
      },
      {
       "output_type": "stream",
       "stream": "stdout",
       "text": [
        " \r",
        "100"
       ]
      },
      {
       "output_type": "stream",
       "stream": "stdout",
       "text": [
        " \r",
        "105"
       ]
      },
      {
       "output_type": "stream",
       "stream": "stdout",
       "text": [
        " \r",
        "110"
       ]
      },
      {
       "output_type": "stream",
       "stream": "stdout",
       "text": [
        " \r",
        "115"
       ]
      },
      {
       "output_type": "stream",
       "stream": "stdout",
       "text": [
        " \r",
        "120"
       ]
      },
      {
       "output_type": "stream",
       "stream": "stdout",
       "text": [
        " \r",
        "125"
       ]
      },
      {
       "output_type": "stream",
       "stream": "stdout",
       "text": [
        " \r",
        "130"
       ]
      },
      {
       "output_type": "stream",
       "stream": "stdout",
       "text": [
        " \r",
        "135"
       ]
      },
      {
       "output_type": "stream",
       "stream": "stdout",
       "text": [
        " \r",
        "140"
       ]
      },
      {
       "output_type": "stream",
       "stream": "stdout",
       "text": [
        " \r",
        "145"
       ]
      },
      {
       "output_type": "stream",
       "stream": "stdout",
       "text": [
        " \r",
        "150"
       ]
      },
      {
       "output_type": "stream",
       "stream": "stdout",
       "text": [
        " \r",
        "155"
       ]
      },
      {
       "output_type": "stream",
       "stream": "stdout",
       "text": [
        " \r",
        "160"
       ]
      },
      {
       "output_type": "stream",
       "stream": "stdout",
       "text": [
        " \r",
        "165"
       ]
      },
      {
       "output_type": "stream",
       "stream": "stdout",
       "text": [
        " \r",
        "170"
       ]
      },
      {
       "output_type": "stream",
       "stream": "stdout",
       "text": [
        " \r",
        "175"
       ]
      },
      {
       "output_type": "stream",
       "stream": "stdout",
       "text": [
        " \r"
       ]
      }
     ],
     "prompt_number": 17
    },
    {
     "cell_type": "markdown",
     "metadata": {},
     "source": [
      "Since that took some time to run, I saved the results in files to expedite future work. Also, I'll still have results in case RT changes their page styles."
     ]
    },
    {
     "cell_type": "code",
     "collapsed": false,
     "input": [
      "import operator\n",
      "\n",
      "f = open(\"titles_not_found.txt\", \"w\")\n",
      "for item in not_found:\n",
      "  print>>f, item\n",
      "f.close()\n",
      "\n",
      "f = open(\"titles_not_rated.txt\", \"w\")\n",
      "for item in not_rated:\n",
      "  print>>f, item\n",
      "f.close()\n",
      "\n",
      "sorted_ratings = sorted(ratings.items(), key=operator.itemgetter(1), reverse=True)\n",
      "\n",
      "f = open(\"titles_rated.txt\", \"w\")\n",
      "for t,r in sorted_ratings:\n",
      "  print>>f, t,r\n",
      "f.close()\n",
      "\n"
     ],
     "language": "python",
     "metadata": {},
     "outputs": [],
     "prompt_number": 18
    },
    {
     "cell_type": "markdown",
     "metadata": {},
     "source": [
      "###Step 3: Examining the scraping results\n"
     ]
    },
    {
     "cell_type": "markdown",
     "metadata": {},
     "source": [
      "There were only 4 movies not found on Rotten Tomatoes. By sight, I can tell there is only one I may be interested in."
     ]
    },
    {
     "cell_type": "code",
     "collapsed": false,
     "input": [
      "for t in not_found: print t"
     ],
     "language": "python",
     "metadata": {},
     "outputs": [
      {
       "output_type": "stream",
       "stream": "stdout",
       "text": [
        "A Dolphin Tale 2\n",
        "The ABCs of Death 2\n",
        "The Hunger Games: Mockingjay Pt.1\n",
        "The Penguins of Madagascar\n"
       ]
      }
     ],
     "prompt_number": 23
    },
    {
     "cell_type": "markdown",
     "metadata": {},
     "source": [
      "There were 7 unrated movies. Most of these I haven't heard of so I may look them up to learn more."
     ]
    },
    {
     "cell_type": "code",
     "collapsed": false,
     "input": [
      "for t in not_rated: print t"
     ],
     "language": "python",
     "metadata": {},
     "outputs": [
      {
       "output_type": "stream",
       "stream": "stdout",
       "text": [
        "Annie\n",
        "Into the Woods\n",
        "Labyrinthus\n",
        "Mommy\n",
        "Night at the Museum: Secret of the Tomb\n",
        "Oorlogsgeheimen\n",
        "PK\n"
       ]
      }
     ],
     "prompt_number": 25
    },
    {
     "cell_type": "markdown",
     "metadata": {},
     "source": [
      "I wanted to see the rating distribution. About 30 titles had rating of at least 90!"
     ]
    },
    {
     "cell_type": "code",
     "collapsed": false,
     "input": [
      "%pylab inline\n",
      "\n",
      "plt.figure()\n",
      "patches = plt.hist([r for t,r in sorted_ratings],bins=10,color='cornflowerblue')\n",
      "plt.title('Rating Distribution')\n",
      "plt.xlabel('Rating')\n",
      "plt.ylabel('# of Titles')"
     ],
     "language": "python",
     "metadata": {},
     "outputs": [
      {
       "output_type": "stream",
       "stream": "stdout",
       "text": [
        "Populating the interactive namespace from numpy and matplotlib\n"
       ]
      },
      {
       "metadata": {},
       "output_type": "pyout",
       "prompt_number": 47,
       "text": [
        "<matplotlib.text.Text at 0x10a562a10>"
       ]
      },
      {
       "metadata": {},
       "output_type": "display_data",
       "png": "[encoded data removed]",
       "text": [
        "<matplotlib.figure.Figure at 0x107d21110>"
       ]
      }
     ],
     "prompt_number": 47
    },
    {
     "cell_type": "code",
     "collapsed": false,
     "input": [
      "for t,r in sorted_ratings:\n",
      "    if r >= 90:\n",
      "        print t,r"
     ],
     "language": "python",
     "metadata": {},
     "outputs": [
      {
       "output_type": "stream",
       "stream": "stdout",
       "text": [
        "The Song 100\n",
        "Song of the Sea 100\n",
        "Selma 100\n",
        "Leviathan 100\n",
        "Boyhood 99\n",
        "The Babadook 98\n",
        "Love is Strange 97\n",
        "We are the Best 97\n",
        "Mr. Turner 96\n",
        "The Lego Movie 96\n",
        "Whiplash 96\n",
        "Ida 96\n",
        "Housebound 95\n",
        "Snowpiercer 95\n",
        "Nightcrawler 95\n",
        "The Imitation Game 94\n",
        "Birdman 94\n",
        "Big Hero 6 93\n",
        "Force Majeure 93\n",
        "How To Train Your Dragon 2 92\n",
        "X-Men: Days of Future Past 92\n",
        "The Grand Budapest Hotel 92\n",
        "Captain America: The Winter Soldier 92\n",
        "Wild 92\n",
        "The Guest 91\n",
        "A Most Wanted Man 91\n",
        "Wetlands 91\n",
        "Dawn of the Planet of the Apes 91\n",
        "The Tale of Princess Kaguya 90\n",
        "Edge of Tomorrow 90\n",
        "Guardians of the Galaxy 90\n"
       ]
      }
     ],
     "prompt_number": 48
    },
    {
     "cell_type": "markdown",
     "metadata": {},
     "source": [
      "See the list of very poor scoring movies so I know to avoid them"
     ]
    },
    {
     "cell_type": "code",
     "collapsed": false,
     "input": [
      "for t,r in sorted_ratings[:-1]:\n",
      "    if r <= 40:\n",
      "        print t,r"
     ],
     "language": "python",
     "metadata": {},
     "outputs": [
      {
       "output_type": "stream",
       "stream": "stdout",
       "text": [
        "Kirk Cameron&amp;#8217;s Saving Christmas 0\n",
        "Kite 0\n",
        "Left Behind 2\n",
        "I, Frankenstein 3\n",
        "Ouija 7\n",
        "Addicted 8\n",
        "No Good Deed 10\n",
        "The Nut Job 10\n",
        "Sex Tape 18\n",
        "Transcendence 19\n",
        "Son of God 21\n",
        "Into the Storm 21\n",
        "Need for Speed 22\n",
        "Teenage Mutant Ninja Turtles 22\n",
        "Third Person 23\n",
        "The Other Woman 24\n",
        "Tammy 24\n",
        "Deliver Us From Evil 28\n",
        "Pompeii 29\n",
        "Annabelle 29\n",
        "Extraterrestrial 31\n",
        "The Expendables 3 32\n",
        "Automata 32\n",
        "A Million Ways to Die in the West 33\n",
        "The Giver 36\n",
        "The Quiet Ones 36\n",
        "Jessabelle 39\n",
        "Tusk 40\n"
       ]
      }
     ],
     "prompt_number": 56
    }
   ],
   "metadata": {}
  }
 ]
}