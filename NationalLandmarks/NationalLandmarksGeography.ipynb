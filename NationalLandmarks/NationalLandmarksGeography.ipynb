{
 "metadata": {
  "name": "",
  "signature": "sha256:1271fd9832497c5fb75cbc224d5b92953c0e0114e4f83ec4cd6bf3f131ead54b"
 },
 "nbformat": 3,
 "nbformat_minor": 0,
 "worksheets": [
  {
   "cells": [
    {
     "cell_type": "markdown",
     "metadata": {},
     "source": [
      "#The Geography of U.S. National Historic Landmarks\n",
      "This notebook answers questions such as: \n",
      "* What is the distance between the two closest landmarks? \n",
      "* Where is the densest concentration of landmarks?\n",
      "* What major U.S. city is the farthest from any landmark?\n"
     ]
    },
    {
     "cell_type": "markdown",
     "metadata": {},
     "source": [
      "###Step 1: Gathering the list of National Landmarks\n",
      "The National Park Services website provides lists national landmarks grouped by state, in PDF files (http://www.nps.gov/nhl/find/statelists.htm). Wikipedia seems to have the same information listed in a friendlier, tabular form (http://en.wikipedia.org/wiki/List_of_U.S._National_Historic_Landmarks_by_state). \n",
      "\n",
      "This wikipedia page links to other pages which have tables of the landmarks. This first wikipedia page will be the starting url for my scrapy spider, which will crawl the page and gather links to the pages actually listing the landmarks. The links to pages listing the landmarks follow a pattern, so they will be easy to gather.\n",
      "\n",
      "The pages listing the landmark details have multiple tables and the table of interest does not have CSS tags that I can use to select it. Through trial and error, I discovered that the table of current landmarks has 7 columns with specific column headings, except for the pages belonging to Boston and Washington, D.C. These two cities will have a special rule in the spider that sends them to a different parser. \n",
      "\n",
      "Also through trial and error, I discovered that my default BeautifulSoup parser (html) missed about 15% of the entries, so I used the html.parser instead.  \n",
      "\n",
      "Scrapy is easiest to run from the command line, so I will write the Scrapy spider to a python file, then run it via command line.\n"
     ]
    },
    {
     "cell_type": "code",
     "collapsed": false,
     "input": [
      "%%writefile landmark_crawler.py\n",
      "from scrapy.contrib.spiders import CrawlSpider, Rule\n",
      "from scrapy.contrib.linkextractors.sgml import SgmlLinkExtractor\n",
      "from scrapy import signals\n",
      "from scrapy.xlib.pydispatch import dispatcher\n",
      "\n",
      "import os\n",
      "from bs4 import BeautifulSoup\n",
      "\n",
      "class LandmarkSpider(CrawlSpider):\n",
      "    name = 'landmarkspider'\n",
      "    start_urls = ['http://en.wikipedia.org/wiki/List_of_U.S._National_Historic_Landmarks_by_state']\n",
      "    allowed_domains = ['en.wikipedia.org']\n",
      "    \n",
      "    rules = (\n",
      "        Rule(SgmlLinkExtractor(allow=('/wiki/List_of_National_Historic_Landmarks_in_Washington,_D.C.',\n",
      "                                      '/wiki/List_of_National_Historic_Landmarks_in_Boston'),\n",
      "                               deny=('/wiki/List_of_National_Historic_Landmarks_in_the_District_of_Columbia'),\n",
      "                               allow_domains=('en.wikipedia.org')), callback='parse_city'),\n",
      "        Rule(SgmlLinkExtractor(allow=(r'/wiki/List_of_National_Historic_Landmarks_in_.+',),\n",
      "                               deny=('/wiki/List_of_National_Historic_Landmarks_in_the_District_of_Columbia'),\n",
      "                               allow_domains=('en.wikipedia.org')), callback='parse_state'),\n",
      "    )\n",
      "    \n",
      "    def __init__(self):\n",
      "        CrawlSpider.__init__(self)\n",
      "        dispatcher.connect(self.spider_closed, signals.spider_closed)\n",
      "        try:\n",
      "            os.remove('national_historic_landmarks.txt')\n",
      "        except OSError:\n",
      "            pass\n",
      "        self.output_file = open('national_historic_landmarks.txt', 'w')\n",
      "        self.output_file.write('source_url\\tname\\turl\\tdate\\tlatitude\\tlongitude\\n')\n",
      "        \n",
      "    def parse_city(self, response):\n",
      "        self.parse_table(response, 6)\n",
      "        \n",
      "\n",
      "    def parse_state(self, response):\n",
      "        self.parse_table(response, 7)\n",
      "            \n",
      "    def parse_table(self, response, column_count):\n",
      "        page_soup = BeautifulSoup(response.body, 'html.parser')\n",
      "        for table in page_soup.find_all('table'):\n",
      "            rows = table.find_all('tr')\n",
      "            header_cells = rows[0].find_all('th')\n",
      "            if header_cells is None or len(header_cells) != column_count: #not the table we want\n",
      "                continue\n",
      "            for row in rows[1:]:\n",
      "                cells = row.find_all('td')\n",
      "                if len(cells) != (column_count - 1):\n",
      "                    continue #skip-malformed row            \n",
      "                landmark_name = cells[0].find('a').text\n",
      "                landmark_url = 'http://en.wikipedia.org' + cells[0].find('a')['href']\n",
      "                established_date = cells[2].find_all('span')[1].text\n",
      "                latitude, longitude = self.parse_coordinates(cells[3])\n",
      "\n",
      "                self.output_file.write(response.url + '\\t')\n",
      "                self.output_file.write(landmark_name.encode('utf8').replace('\\n', ' ') + '\\t')\n",
      "                self.output_file.write(landmark_url + '\\t')\n",
      "                self.output_file.write(established_date + '\\t')\n",
      "                if latitude:\n",
      "                    self.output_file.write(latitude.encode('utf8'))\n",
      "                self.output_file.write('\\t')\n",
      "                if longitude:\n",
      "                    self.output_file.write(longitude.encode('utf8'))\n",
      "                self.output_file.write('\\n')   \n",
      "            break #only take the first matching table; many pages have subsequent tables of other items\n",
      "            \n",
      "    def parse_coordinates(self, table_cell):\n",
      "        geo_span = table_cell.find('span', {'class':'geo'})\n",
      "        if geo_span:\n",
      "            return geo_span.text.split('; ')\n",
      "\n",
      "        lat_cell = table_cell.find('span', {'class':'latitude'})\n",
      "        long_cell = table_cell.find('span', {'class':'longitude'})\n",
      "        if lat_cell:\n",
      "            return lat_cell.text, long_cell.text\n",
      "        if 'coordinates missing' in table_cell.text.lower():\n",
      "            return None, None\n",
      "        raise ValueError ('coordinates not scraped')\n",
      "        \n",
      "    def spider_closed(self, spider):\n",
      "        self.output_file.close()\n"
     ],
     "language": "python",
     "metadata": {},
     "outputs": [
      {
       "output_type": "stream",
       "stream": "stdout",
       "text": [
        "Overwriting landmark_crawler.py\n"
       ]
      }
     ],
     "prompt_number": 1
    },
    {
     "cell_type": "code",
     "collapsed": false,
     "input": [
      "!scrapy runspider --loglevel=INFO landmark_crawler.py"
     ],
     "language": "python",
     "metadata": {},
     "outputs": [
      {
       "output_type": "stream",
       "stream": "stdout",
       "text": [
        "/Users/jfly/anaconda/lib/python2.7/site-packages/twisted/internet/_sslverify.py:184: UserWarning: You do not have the service_identity module installed. Please install it from <https://pypi.python.org/pypi/service_identity>. Without the service_identity module and a recent enough pyOpenSSL tosupport it, Twisted can perform only rudimentary TLS client hostnameverification.  Many valid certificate/hostname mappings may be rejected.\r\n",
        "  verifyHostname, VerificationError = _selectVerifyImplementation()\r\n"
       ]
      },
      {
       "output_type": "stream",
       "stream": "stdout",
       "text": [
        "2015-01-19 09:30:59-0800 [scrapy] INFO: Scrapy 0.24.4 started (bot: scrapybot)\r\n",
        "2015-01-19 09:30:59-0800 [scrapy] INFO: Optional features available: ssl, http11, boto\r\n",
        "2015-01-19 09:30:59-0800 [scrapy] INFO: Overridden settings: {'LOG_LEVEL': 'INFO'}\r\n"
       ]
      },
      {
       "output_type": "stream",
       "stream": "stdout",
       "text": [
        "2015-01-19 09:30:59-0800 [scrapy] INFO: Enabled extensions: LogStats, TelnetConsole, CloseSpider, WebService, CoreStats, SpiderState\r\n"
       ]
      },
      {
       "output_type": "stream",
       "stream": "stdout",
       "text": [
        "2015-01-19 09:31:00-0800 [scrapy] INFO: Enabled downloader middlewares: HttpAuthMiddleware, DownloadTimeoutMiddleware, UserAgentMiddleware, RetryMiddleware, DefaultHeadersMiddleware, MetaRefreshMiddleware, HttpCompressionMiddleware, RedirectMiddleware, CookiesMiddleware, ChunkedTransferMiddleware, DownloaderStats\r\n"
       ]
      },
      {
       "output_type": "stream",
       "stream": "stdout",
       "text": [
        "2015-01-19 09:31:00-0800 [scrapy] INFO: Enabled spider middlewares: HttpErrorMiddleware, OffsiteMiddleware, RefererMiddleware, UrlLengthMiddleware, DepthMiddleware\r\n",
        "2015-01-19 09:31:00-0800 [scrapy] INFO: Enabled item pipelines: \r\n",
        "2015-01-19 09:31:00-0800 [landmarkspider] INFO: Spider opened\r\n",
        "2015-01-19 09:31:00-0800 [landmarkspider] INFO: Crawled 0 pages (at 0 pages/min), scraped 0 items (at 0 items/min)\r\n"
       ]
      },
      {
       "output_type": "stream",
       "stream": "stdout",
       "text": [
        "2015-01-19 09:31:18-0800 [landmarkspider] INFO: Closing spider (finished)\r\n",
        "2015-01-19 09:31:18-0800 [landmarkspider] INFO: Dumping Scrapy stats:\r\n",
        "\t{'downloader/request_bytes': 23417,\r\n",
        "\t 'downloader/request_count': 58,\r\n",
        "\t 'downloader/request_method_count/GET': 58,\r\n",
        "\t 'downloader/response_bytes': 1985124,\r\n",
        "\t 'downloader/response_count': 58,\r\n",
        "\t 'downloader/response_status_count/200': 58,\r\n",
        "\t 'finish_reason': 'finished',\r\n",
        "\t 'finish_time': datetime.datetime(2015, 1, 19, 17, 31, 18, 173963),\r\n",
        "\t 'log_count/INFO': 7,\r\n",
        "\t 'request_depth_max': 1,\r\n",
        "\t 'response_received_count': 58,\r\n",
        "\t 'scheduler/dequeued': 58,\r\n",
        "\t 'scheduler/dequeued/memory': 58,\r\n",
        "\t 'scheduler/enqueued': 58,\r\n",
        "\t 'scheduler/enqueued/memory': 58,\r\n",
        "\t 'start_time': datetime.datetime(2015, 1, 19, 17, 31, 0, 828540)}\r\n",
        "2015-01-19 09:31:18-0800 [landmarkspider] INFO: Spider closed (finished)\r\n"
       ]
      }
     ],
     "prompt_number": 2
    },
    {
     "cell_type": "markdown",
     "metadata": {},
     "source": [
      "Let's see how many landmarks I got and what they look like. The Wikipedia page states there are around 2500 landmarks; it was not clear to me exactly how they accounted for duplicates."
     ]
    },
    {
     "cell_type": "code",
     "collapsed": false,
     "input": [
      "!head national_historic_landmarks.txt"
     ],
     "language": "python",
     "metadata": {},
     "outputs": [
      {
       "output_type": "stream",
       "stream": "stdout",
       "text": [
        "source_url\tname\turl\tdate\tlatitude\tlongitude\r\n",
        "http://en.wikipedia.org/wiki/List_of_National_Historic_Landmarks_in_Boston\tAfrican Meeting House\thttp://en.wikipedia.org/wiki/African_Meeting_House\tMay 30, 1974\t42.3599\t-71.0655\r\n",
        "http://en.wikipedia.org/wiki/List_of_National_Historic_Landmarks_in_Boston\tNathan Appleton Residence\thttp://en.wikipedia.org/wiki/Nathan_Appleton_Residence\tDecember 22, 1977\t42.3569\t-71.0663\r\n",
        "http://en.wikipedia.org/wiki/List_of_National_Historic_Landmarks_in_Boston\tArnold Arboretum\thttp://en.wikipedia.org/wiki/Arnold_Arboretum\tJanuary 12, 1965\t42.2978\t-71.1228\r\n",
        "http://en.wikipedia.org/wiki/List_of_National_Historic_Landmarks_in_Boston\tFrederick Ayer Mansion\thttp://en.wikipedia.org/wiki/Frederick_Ayer_Mansion\tApril 5, 2005\t42.3493\t-71.0903\r\n",
        "http://en.wikipedia.org/wiki/List_of_National_Historic_Landmarks_in_Boston\tBeacon Hill Historic District\thttp://en.wikipedia.org/wiki/Beacon_Hill,_Boston,_Massachusetts\tDecember 29, 1962\t42.3583\t-71.0661\r\n",
        "http://en.wikipedia.org/wiki/List_of_National_Historic_Landmarks_in_Boston\tBoston Athenaeum\thttp://en.wikipedia.org/wiki/Boston_Athenaeum\tDecember 21, 1965\t42.3582\t-71.0620\r\n",
        "http://en.wikipedia.org/wiki/List_of_National_Historic_Landmarks_in_Boston\tBoston Common\thttp://en.wikipedia.org/wiki/Boston_Common_(park)\tFebruary 27, 1987\t42.355\t-71.0656\r\n",
        "http://en.wikipedia.org/wiki/List_of_National_Historic_Landmarks_in_Boston\tBoston Light\thttp://en.wikipedia.org/wiki/Boston_Light\tJanuary 29, 1964\t42.3279\t-70.8900\r\n",
        "http://en.wikipedia.org/wiki/List_of_National_Historic_Landmarks_in_Boston\tBoston Naval Shipyard\thttp://en.wikipedia.org/wiki/Boston_Navy_Yard\tNovember 13, 1966\t42.3738\t-71.0565\r\n"
       ]
      }
     ],
     "prompt_number": 3
    },
    {
     "cell_type": "code",
     "collapsed": false,
     "input": [
      "!wc -l national_historic_landmarks.txt"
     ],
     "language": "python",
     "metadata": {},
     "outputs": [
      {
       "output_type": "stream",
       "stream": "stdout",
       "text": [
        "    2644 national_historic_landmarks.txt\r\n"
       ]
      }
     ],
     "prompt_number": 4
    },
    {
     "cell_type": "markdown",
     "metadata": {},
     "source": [
      "As stated before, different BeautifulSoup parsers returned different results. This happens when the HTML is not well-formed. I noticed one issue in which some table rows had different numbers of cells, and there may have been other formatting errors I did not see. The xml and html.parser parsers each gathered 2643 landmarks, while the lxml and html parsers gathered 2144 landmarks.\n",
      "\n",
      "My count of 2643 is greater than the wikipedia count, but this file may still contain duplicates."
     ]
    },
    {
     "cell_type": "markdown",
     "metadata": {},
     "source": [
      "###Step 2: Gathering the list of largest U.S. cities\n",
      "Wikipedia lists cities by population in tabular form (http://en.wikipedia.org/wiki/List_of_United_States_cities_by_population). I do not need a crawler, and merely need to scrape this page.\n",
      "\n"
     ]
    },
    {
     "cell_type": "code",
     "collapsed": false,
     "input": [
      "import requests\n",
      "from bs4 import BeautifulSoup\n",
      "import pandas as pd\n",
      "import re\n",
      "import numpy as np\n",
      "\n",
      "def parse_city_coords(text):\n",
      "    try:\n",
      "        latitude, longitude = text.split()\n",
      "        latitude = latitude[:-2]\n",
      "        if longitude[-1:] ==  'W':\n",
      "            longitude = '-' + longitude[:-2]\n",
      "        else:\n",
      "            longitude = longitude[:-2]\n",
      "    except ValueError:\n",
      "        latitude, longitude = text.split(',')\n",
      "        latitude = re.sub(r'[^\\d]+','',latitude)\n",
      "        latitude = latitude[:2] + '.' + latitude[2:]\n",
      "        if longitude[-1:] ==  'W':\n",
      "            longitude = re.sub(r'[^\\d]+','',longitude)\n",
      "            longitude = '-' + longitude[:2] + '.' + longitude[2:]\n",
      "        else:\n",
      "            longitude = re.sub(r'[^\\d]+','',longitude)\n",
      "            longitude = longitude[:2] + '.' + longitude[2:]\n",
      "    return latitude, longitude\n",
      "        \n",
      "\n",
      "data = []\n",
      "r = requests.get('http://en.wikipedia.org/wiki/List_of_United_States_cities_by_population')\n",
      "page_soup = BeautifulSoup(r.text, 'html.parser') #the default parser doesn't handle the broken html well\n",
      "for table in page_soup.find_all('table'):\n",
      "    rows = table.find_all('tr')\n",
      "    header_cells = rows[0].find_all('th')\n",
      "    if header_cells is None or len(header_cells) != 9: #not the table we want\n",
      "        continue\n",
      "    for row in rows[1:]:\n",
      "        cells = row.find_all('td')\n",
      "        if len(cells) != 9:\n",
      "            continue #skip-malformed row            \n",
      "        city = cells[1].find('a').text\n",
      "        state = cells[2].find('a').text\n",
      "        population = int(cells[3].text.split()[1].replace(',', ''))\n",
      "        latitude, longitude = parse_city_coords(cells[8].text)\n",
      "        data.append( pd.Series([city, state, population, latitude, longitude]))\n",
      "        \n",
      "    break #only take the first matching table\n",
      "    \n",
      "df_cities = pd.concat(data, axis=1).transpose()\n",
      "print np.shape(df_cities)\n",
      "df_cities.columns = ['city', 'state', 'population', 'latitude', 'longitude']\n",
      "df_cities.head()"
     ],
     "language": "python",
     "metadata": {},
     "outputs": [
      {
       "output_type": "stream",
       "stream": "stdout",
       "text": [
        "(295, 5)\n"
       ]
      },
      {
       "html": [
        "<div style=\"max-height:1000px;max-width:1500px;overflow:auto;\">\n",
        "<table border=\"1\" class=\"dataframe\">\n",
        "  <thead>\n",
        "    <tr style=\"text-align: right;\">\n",
        "      <th></th>\n",
        "      <th>city</th>\n",
        "      <th>state</th>\n",
        "      <th>population</th>\n",
        "      <th>latitude</th>\n",
        "      <th>longitude</th>\n",
        "    </tr>\n",
        "  </thead>\n",
        "  <tbody>\n",
        "    <tr>\n",
        "      <th>0</th>\n",
        "      <td>     New York</td>\n",
        "      <td>     New York</td>\n",
        "      <td> 8405837</td>\n",
        "      <td> 40.6643</td>\n",
        "      <td>  -73.9385</td>\n",
        "    </tr>\n",
        "    <tr>\n",
        "      <th>1</th>\n",
        "      <td>  Los Angeles</td>\n",
        "      <td>   California</td>\n",
        "      <td> 3884307</td>\n",
        "      <td> 34.0194</td>\n",
        "      <td> -118.4108</td>\n",
        "    </tr>\n",
        "    <tr>\n",
        "      <th>2</th>\n",
        "      <td>      Chicago</td>\n",
        "      <td>     Illinois</td>\n",
        "      <td> 2718782</td>\n",
        "      <td> 41.8376</td>\n",
        "      <td>  -87.6818</td>\n",
        "    </tr>\n",
        "    <tr>\n",
        "      <th>3</th>\n",
        "      <td>      Houston</td>\n",
        "      <td>        Texas</td>\n",
        "      <td> 2195914</td>\n",
        "      <td> 29.7805</td>\n",
        "      <td>  -95.3863</td>\n",
        "    </tr>\n",
        "    <tr>\n",
        "      <th>4</th>\n",
        "      <td> Philadelphia</td>\n",
        "      <td> Pennsylvania</td>\n",
        "      <td> 1553165</td>\n",
        "      <td> 40.0094</td>\n",
        "      <td>  -75.1333</td>\n",
        "    </tr>\n",
        "  </tbody>\n",
        "</table>\n",
        "</div>"
       ],
       "metadata": {},
       "output_type": "pyout",
       "prompt_number": 11,
       "text": [
        "           city         state population latitude  longitude\n",
        "0      New York      New York    8405837  40.6643   -73.9385\n",
        "1   Los Angeles    California    3884307  34.0194  -118.4108\n",
        "2       Chicago      Illinois    2718782  41.8376   -87.6818\n",
        "3       Houston         Texas    2195914  29.7805   -95.3863\n",
        "4  Philadelphia  Pennsylvania    1553165  40.0094   -75.1333"
       ]
      }
     ],
     "prompt_number": 11
    },
    {
     "cell_type": "markdown",
     "metadata": {},
     "source": [
      "###Step 3: Prepare the Data\n",
      "I need to load the data and ensure the geo coordinates are in standard, machine-ready formats."
     ]
    },
    {
     "cell_type": "markdown",
     "metadata": {},
     "source": [
      "First, load the landmark data into a dataframe."
     ]
    },
    {
     "cell_type": "code",
     "collapsed": false,
     "input": [
      "%pylab inline\n",
      "import pandas as pd\n",
      "\n",
      "df_landmarks = pd.DataFrame.from_csv('national_historic_landmarks.txt', sep='\\t', index_col=None)"
     ],
     "language": "python",
     "metadata": {},
     "outputs": [
      {
       "output_type": "stream",
       "stream": "stdout",
       "text": [
        "Populating the interactive namespace from numpy and matplotlib\n"
       ]
      }
     ],
     "prompt_number": 1
    },
    {
     "cell_type": "code",
     "collapsed": false,
     "input": [
      "print shape(df_landmarks) \n",
      "df_landmarks.head()"
     ],
     "language": "python",
     "metadata": {},
     "outputs": [
      {
       "output_type": "stream",
       "stream": "stdout",
       "text": [
        "(2643, 6)\n"
       ]
      },
      {
       "html": [
        "<div style=\"max-height:1000px;max-width:1500px;overflow:auto;\">\n",
        "<table border=\"1\" class=\"dataframe\">\n",
        "  <thead>\n",
        "    <tr style=\"text-align: right;\">\n",
        "      <th></th>\n",
        "      <th>source_url</th>\n",
        "      <th>name</th>\n",
        "      <th>url</th>\n",
        "      <th>date</th>\n",
        "      <th>latitude</th>\n",
        "      <th>longitude</th>\n",
        "    </tr>\n",
        "  </thead>\n",
        "  <tbody>\n",
        "    <tr>\n",
        "      <th>0</th>\n",
        "      <td> http://en.wikipedia.org/wiki/List_of_National_...</td>\n",
        "      <td>         African Meeting House</td>\n",
        "      <td> http://en.wikipedia.org/wiki/African_Meeting_H...</td>\n",
        "      <td>      May 30, 1974</td>\n",
        "      <td> 42.3599</td>\n",
        "      <td>-71.0655</td>\n",
        "    </tr>\n",
        "    <tr>\n",
        "      <th>1</th>\n",
        "      <td> http://en.wikipedia.org/wiki/List_of_National_...</td>\n",
        "      <td>     Nathan Appleton Residence</td>\n",
        "      <td> http://en.wikipedia.org/wiki/Nathan_Appleton_R...</td>\n",
        "      <td> December 22, 1977</td>\n",
        "      <td> 42.3569</td>\n",
        "      <td>-71.0663</td>\n",
        "    </tr>\n",
        "    <tr>\n",
        "      <th>2</th>\n",
        "      <td> http://en.wikipedia.org/wiki/List_of_National_...</td>\n",
        "      <td>              Arnold Arboretum</td>\n",
        "      <td>     http://en.wikipedia.org/wiki/Arnold_Arboretum</td>\n",
        "      <td>  January 12, 1965</td>\n",
        "      <td> 42.2978</td>\n",
        "      <td>-71.1228</td>\n",
        "    </tr>\n",
        "    <tr>\n",
        "      <th>3</th>\n",
        "      <td> http://en.wikipedia.org/wiki/List_of_National_...</td>\n",
        "      <td>        Frederick Ayer Mansion</td>\n",
        "      <td> http://en.wikipedia.org/wiki/Frederick_Ayer_Ma...</td>\n",
        "      <td>     April 5, 2005</td>\n",
        "      <td> 42.3493</td>\n",
        "      <td>-71.0903</td>\n",
        "    </tr>\n",
        "    <tr>\n",
        "      <th>4</th>\n",
        "      <td> http://en.wikipedia.org/wiki/List_of_National_...</td>\n",
        "      <td> Beacon Hill Historic District</td>\n",
        "      <td> http://en.wikipedia.org/wiki/Beacon_Hill,_Bost...</td>\n",
        "      <td> December 29, 1962</td>\n",
        "      <td> 42.3583</td>\n",
        "      <td>-71.0661</td>\n",
        "    </tr>\n",
        "  </tbody>\n",
        "</table>\n",
        "</div>"
       ],
       "metadata": {},
       "output_type": "pyout",
       "prompt_number": 2,
       "text": [
        "                                          source_url  \\\n",
        "0  http://en.wikipedia.org/wiki/List_of_National_...   \n",
        "1  http://en.wikipedia.org/wiki/List_of_National_...   \n",
        "2  http://en.wikipedia.org/wiki/List_of_National_...   \n",
        "3  http://en.wikipedia.org/wiki/List_of_National_...   \n",
        "4  http://en.wikipedia.org/wiki/List_of_National_...   \n",
        "\n",
        "                            name  \\\n",
        "0          African Meeting House   \n",
        "1      Nathan Appleton Residence   \n",
        "2               Arnold Arboretum   \n",
        "3         Frederick Ayer Mansion   \n",
        "4  Beacon Hill Historic District   \n",
        "\n",
        "                                                 url               date  \\\n",
        "0  http://en.wikipedia.org/wiki/African_Meeting_H...       May 30, 1974   \n",
        "1  http://en.wikipedia.org/wiki/Nathan_Appleton_R...  December 22, 1977   \n",
        "2      http://en.wikipedia.org/wiki/Arnold_Arboretum   January 12, 1965   \n",
        "3  http://en.wikipedia.org/wiki/Frederick_Ayer_Ma...      April 5, 2005   \n",
        "4  http://en.wikipedia.org/wiki/Beacon_Hill,_Bost...  December 29, 1962   \n",
        "\n",
        "   latitude  longitude  \n",
        "0   42.3599   -71.0655  \n",
        "1   42.3569   -71.0663  \n",
        "2   42.2978   -71.1228  \n",
        "3   42.3493   -71.0903  \n",
        "4   42.3583   -71.0661  "
       ]
      }
     ],
     "prompt_number": 2
    },
    {
     "cell_type": "markdown",
     "metadata": {},
     "source": [
      "Next, drop duplicate rows."
     ]
    },
    {
     "cell_type": "code",
     "collapsed": false,
     "input": [
      "df_landmarks = df_landmarks.drop_duplicates(subset='url')\n",
      "print shape(df_landmarks)"
     ],
     "language": "python",
     "metadata": {},
     "outputs": [
      {
       "output_type": "stream",
       "stream": "stdout",
       "text": [
        "(2518, 6)\n"
       ]
      }
     ],
     "prompt_number": 3
    },
    {
     "cell_type": "markdown",
     "metadata": {},
     "source": [
      "Check that the geo-coordinates seem reasonable"
     ]
    },
    {
     "cell_type": "code",
     "collapsed": false,
     "input": [
      "df_landmarks.describe()"
     ],
     "language": "python",
     "metadata": {},
     "outputs": [
      {
       "html": [
        "<div style=\"max-height:1000px;max-width:1500px;overflow:auto;\">\n",
        "<table border=\"1\" class=\"dataframe\">\n",
        "  <thead>\n",
        "    <tr style=\"text-align: right;\">\n",
        "      <th></th>\n",
        "      <th>latitude</th>\n",
        "      <th>longitude</th>\n",
        "    </tr>\n",
        "  </thead>\n",
        "  <tbody>\n",
        "    <tr>\n",
        "      <th>count</th>\n",
        "      <td> 2460.000000</td>\n",
        "      <td> 2460.000000</td>\n",
        "    </tr>\n",
        "    <tr>\n",
        "      <th>mean</th>\n",
        "      <td>   39.199168</td>\n",
        "      <td>  -87.235059</td>\n",
        "    </tr>\n",
        "    <tr>\n",
        "      <th>std</th>\n",
        "      <td>    5.492784</td>\n",
        "      <td>   20.814363</td>\n",
        "    </tr>\n",
        "    <tr>\n",
        "      <th>min</th>\n",
        "      <td>   18.915833</td>\n",
        "      <td> -176.636000</td>\n",
        "    </tr>\n",
        "    <tr>\n",
        "      <th>25%</th>\n",
        "      <td>   36.686345</td>\n",
        "      <td>  -92.274699</td>\n",
        "    </tr>\n",
        "    <tr>\n",
        "      <th>50%</th>\n",
        "      <td>   39.952200</td>\n",
        "      <td>  -80.305836</td>\n",
        "    </tr>\n",
        "    <tr>\n",
        "      <th>75%</th>\n",
        "      <td>   42.043144</td>\n",
        "      <td>  -74.254760</td>\n",
        "    </tr>\n",
        "    <tr>\n",
        "      <th>max</th>\n",
        "      <td>   71.283330</td>\n",
        "      <td>  177.491900</td>\n",
        "    </tr>\n",
        "  </tbody>\n",
        "</table>\n",
        "</div>"
       ],
       "metadata": {},
       "output_type": "pyout",
       "prompt_number": 4,
       "text": [
        "          latitude    longitude\n",
        "count  2460.000000  2460.000000\n",
        "mean     39.199168   -87.235059\n",
        "std       5.492784    20.814363\n",
        "min      18.915833  -176.636000\n",
        "25%      36.686345   -92.274699\n",
        "50%      39.952200   -80.305836\n",
        "75%      42.043144   -74.254760\n",
        "max      71.283330   177.491900"
       ]
      }
     ],
     "prompt_number": 4
    },
    {
     "cell_type": "markdown",
     "metadata": {},
     "source": [
      "Two things stick out: I have 2518 rows in my dataframe but only 2460 geo-coordinates. I will drop the rows missing geo-coordinates since this field is needed in the planned analysis.\n",
      "\n",
      "Secondly, I have positive longitudes; I will verify that these are correct."
     ]
    },
    {
     "cell_type": "code",
     "collapsed": false,
     "input": [
      "#drop the landmarks missing geo-coordinates\n",
      "df_landmarks = df_landmarks.dropna()\n",
      "df_landmarks = df_landmarks.reset_index(drop=True)\n",
      "print shape(df_landmarks)\n",
      "df_landmarks.tail()"
     ],
     "language": "python",
     "metadata": {},
     "outputs": [
      {
       "output_type": "stream",
       "stream": "stdout",
       "text": [
        "(2460, 6)\n"
       ]
      },
      {
       "html": [
        "<div style=\"max-height:1000px;max-width:1500px;overflow:auto;\">\n",
        "<table border=\"1\" class=\"dataframe\">\n",
        "  <thead>\n",
        "    <tr style=\"text-align: right;\">\n",
        "      <th></th>\n",
        "      <th>source_url</th>\n",
        "      <th>name</th>\n",
        "      <th>url</th>\n",
        "      <th>date</th>\n",
        "      <th>latitude</th>\n",
        "      <th>longitude</th>\n",
        "    </tr>\n",
        "  </thead>\n",
        "  <tbody>\n",
        "    <tr>\n",
        "      <th>2455</th>\n",
        "      <td> http://en.wikipedia.org/wiki/List_of_National_...</td>\n",
        "      <td>                      Warner's Ranch</td>\n",
        "      <td>     http://en.wikipedia.org/wiki/Warner%27s_Ranch</td>\n",
        "      <td>  January 20, 1961</td>\n",
        "      <td> 33.238611</td>\n",
        "      <td>-116.650833</td>\n",
        "    </tr>\n",
        "    <tr>\n",
        "      <th>2456</th>\n",
        "      <td> http://en.wikipedia.org/wiki/List_of_National_...</td>\n",
        "      <td>                        Watts Towers</td>\n",
        "      <td>         http://en.wikipedia.org/wiki/Watts_Towers</td>\n",
        "      <td> December 14, 1990</td>\n",
        "      <td> 33.936967</td>\n",
        "      <td>-118.240549</td>\n",
        "    </tr>\n",
        "    <tr>\n",
        "      <th>2457</th>\n",
        "      <td> http://en.wikipedia.org/wiki/List_of_National_...</td>\n",
        "      <td> Wawona Hotel and Thomas Hill Studio</td>\n",
        "      <td>         http://en.wikipedia.org/wiki/Wawona_Hotel</td>\n",
        "      <td>      May 28, 1987</td>\n",
        "      <td> 37.536389</td>\n",
        "      <td>-119.653611</td>\n",
        "    </tr>\n",
        "    <tr>\n",
        "      <th>2458</th>\n",
        "      <td> http://en.wikipedia.org/wiki/List_of_National_...</td>\n",
        "      <td>   Well No. 4, Pico Canyon Oil Field</td>\n",
        "      <td> http://en.wikipedia.org/wiki/Pico_Canyon_Oilfield</td>\n",
        "      <td> November 13, 1966</td>\n",
        "      <td> 34.369444</td>\n",
        "      <td>-118.630278</td>\n",
        "    </tr>\n",
        "    <tr>\n",
        "      <th>2459</th>\n",
        "      <td> http://en.wikipedia.org/wiki/List_of_National_...</td>\n",
        "      <td>  Yuma Crossing and Associated Sites</td>\n",
        "      <td> http://en.wikipedia.org/wiki/Yuma_Crossing_and...</td>\n",
        "      <td> November 13, 1966</td>\n",
        "      <td> 32.729167</td>\n",
        "      <td>-114.615278</td>\n",
        "    </tr>\n",
        "  </tbody>\n",
        "</table>\n",
        "</div>"
       ],
       "metadata": {},
       "output_type": "pyout",
       "prompt_number": 7,
       "text": [
        "                                             source_url  \\\n",
        "2455  http://en.wikipedia.org/wiki/List_of_National_...   \n",
        "2456  http://en.wikipedia.org/wiki/List_of_National_...   \n",
        "2457  http://en.wikipedia.org/wiki/List_of_National_...   \n",
        "2458  http://en.wikipedia.org/wiki/List_of_National_...   \n",
        "2459  http://en.wikipedia.org/wiki/List_of_National_...   \n",
        "\n",
        "                                     name  \\\n",
        "2455                       Warner's Ranch   \n",
        "2456                         Watts Towers   \n",
        "2457  Wawona Hotel and Thomas Hill Studio   \n",
        "2458    Well No. 4, Pico Canyon Oil Field   \n",
        "2459   Yuma Crossing and Associated Sites   \n",
        "\n",
        "                                                    url               date  \\\n",
        "2455      http://en.wikipedia.org/wiki/Warner%27s_Ranch   January 20, 1961   \n",
        "2456          http://en.wikipedia.org/wiki/Watts_Towers  December 14, 1990   \n",
        "2457          http://en.wikipedia.org/wiki/Wawona_Hotel       May 28, 1987   \n",
        "2458  http://en.wikipedia.org/wiki/Pico_Canyon_Oilfield  November 13, 1966   \n",
        "2459  http://en.wikipedia.org/wiki/Yuma_Crossing_and...  November 13, 1966   \n",
        "\n",
        "       latitude   longitude  \n",
        "2455  33.238611 -116.650833  \n",
        "2456  33.936967 -118.240549  \n",
        "2457  37.536389 -119.653611  \n",
        "2458  34.369444 -118.630278  \n",
        "2459  32.729167 -114.615278  "
       ]
      }
     ],
     "prompt_number": 7
    },
    {
     "cell_type": "code",
     "collapsed": false,
     "input": [
      "#look at the landmarks with positive longitude values\n",
      "df_landmarks.sort(columns='longitude',ascending=False).head()\n"
     ],
     "language": "python",
     "metadata": {},
     "outputs": [
      {
       "html": [
        "<div style=\"max-height:1000px;max-width:1500px;overflow:auto;\">\n",
        "<table border=\"1\" class=\"dataframe\">\n",
        "  <thead>\n",
        "    <tr style=\"text-align: right;\">\n",
        "      <th></th>\n",
        "      <th>source_url</th>\n",
        "      <th>name</th>\n",
        "      <th>url</th>\n",
        "      <th>date</th>\n",
        "      <th>latitude</th>\n",
        "      <th>longitude</th>\n",
        "    </tr>\n",
        "  </thead>\n",
        "  <tbody>\n",
        "    <tr>\n",
        "      <th>2303</th>\n",
        "      <td> http://en.wikipedia.org/wiki/List_of_National_...</td>\n",
        "      <td>            Japanese Occupation Site, Kiska Island</td>\n",
        "      <td> http://en.wikipedia.org/wiki/Japanese_Occupati...</td>\n",
        "      <td>  February 4, 1985</td>\n",
        "      <td> 51.967200</td>\n",
        "      <td> 177.491900</td>\n",
        "    </tr>\n",
        "    <tr>\n",
        "      <th>2280</th>\n",
        "      <td> http://en.wikipedia.org/wiki/List_of_National_...</td>\n",
        "      <td> Attu Battlefield and U.S. Army and Navy Airfie...</td>\n",
        "      <td>          http://en.wikipedia.org/wiki/Attu_Island</td>\n",
        "      <td>  February 4, 1985</td>\n",
        "      <td> 52.900500</td>\n",
        "      <td> 172.909400</td>\n",
        "    </tr>\n",
        "    <tr>\n",
        "      <th>230 </th>\n",
        "      <td> http://en.wikipedia.org/wiki/List_of_National_...</td>\n",
        "      <td>                                   Weston Hospital</td>\n",
        "      <td> http://en.wikipedia.org/wiki/Trans-Allegheny_L...</td>\n",
        "      <td>     June 21, 1990</td>\n",
        "      <td> 39.038611</td>\n",
        "      <td>  80.471389</td>\n",
        "    </tr>\n",
        "    <tr>\n",
        "      <th>221 </th>\n",
        "      <td> http://en.wikipedia.org/wiki/List_of_National_...</td>\n",
        "      <td>    Elkins Coal and Coke Company Historic District</td>\n",
        "      <td> http://en.wikipedia.org/wiki/Elkins_Coal_and_C...</td>\n",
        "      <td>       May 4, 1983</td>\n",
        "      <td> 39.545000</td>\n",
        "      <td>  79.976389</td>\n",
        "    </tr>\n",
        "    <tr>\n",
        "      <th>1659</th>\n",
        "      <td> http://en.wikipedia.org/wiki/List_of_National_...</td>\n",
        "      <td>                   Daniel Coit Gilman Summer House</td>\n",
        "      <td> http://en.wikipedia.org/wiki/Daniel_Coit_Gilma...</td>\n",
        "      <td> December 21, 1965</td>\n",
        "      <td> 44.291700</td>\n",
        "      <td> -68.282200</td>\n",
        "    </tr>\n",
        "  </tbody>\n",
        "</table>\n",
        "</div>"
       ],
       "metadata": {},
       "output_type": "pyout",
       "prompt_number": 8,
       "text": [
        "                                             source_url  \\\n",
        "2303  http://en.wikipedia.org/wiki/List_of_National_...   \n",
        "2280  http://en.wikipedia.org/wiki/List_of_National_...   \n",
        "230   http://en.wikipedia.org/wiki/List_of_National_...   \n",
        "221   http://en.wikipedia.org/wiki/List_of_National_...   \n",
        "1659  http://en.wikipedia.org/wiki/List_of_National_...   \n",
        "\n",
        "                                                   name  \\\n",
        "2303             Japanese Occupation Site, Kiska Island   \n",
        "2280  Attu Battlefield and U.S. Army and Navy Airfie...   \n",
        "230                                     Weston Hospital   \n",
        "221      Elkins Coal and Coke Company Historic District   \n",
        "1659                    Daniel Coit Gilman Summer House   \n",
        "\n",
        "                                                    url               date  \\\n",
        "2303  http://en.wikipedia.org/wiki/Japanese_Occupati...   February 4, 1985   \n",
        "2280           http://en.wikipedia.org/wiki/Attu_Island   February 4, 1985   \n",
        "230   http://en.wikipedia.org/wiki/Trans-Allegheny_L...      June 21, 1990   \n",
        "221   http://en.wikipedia.org/wiki/Elkins_Coal_and_C...        May 4, 1983   \n",
        "1659  http://en.wikipedia.org/wiki/Daniel_Coit_Gilma...  December 21, 1965   \n",
        "\n",
        "       latitude   longitude  \n",
        "2303  51.967200  177.491900  \n",
        "2280  52.900500  172.909400  \n",
        "230   39.038611   80.471389  \n",
        "221   39.545000   79.976389  \n",
        "1659  44.291700  -68.282200  "
       ]
      }
     ],
     "prompt_number": 8
    },
    {
     "cell_type": "markdown",
     "metadata": {},
     "source": [
      "The first two are correct but the second two need to be fixed."
     ]
    },
    {
     "cell_type": "code",
     "collapsed": false,
     "input": [
      "for i in [230, 221]:\n",
      "    df_landmarks.loc[i, 'longitude'] = -1 * df_landmarks.iloc[i]['longitude']\n",
      "    print df_landmarks.iloc[i]"
     ],
     "language": "python",
     "metadata": {},
     "outputs": [
      {
       "output_type": "stream",
       "stream": "stdout",
       "text": [
        "source_url    http://en.wikipedia.org/wiki/List_of_National_...\n",
        "name                                            Weston Hospital\n",
        "url           http://en.wikipedia.org/wiki/Trans-Allegheny_L...\n",
        "date                                              June 21, 1990\n",
        "latitude                                               39.03861\n",
        "longitude                                             -80.47139\n",
        "Name: 230, dtype: object\n",
        "source_url    http://en.wikipedia.org/wiki/List_of_National_...\n",
        "name             Elkins Coal and Coke Company Historic District\n",
        "url           http://en.wikipedia.org/wiki/Elkins_Coal_and_C...\n",
        "date                                                May 4, 1983\n",
        "latitude                                                 39.545\n",
        "longitude                                             -79.97639\n",
        "Name: 221, dtype: object\n"
       ]
      }
     ],
     "prompt_number": 9
    },
    {
     "cell_type": "markdown",
     "metadata": {},
     "source": [
      "Now let's check the coordinates in the cities data."
     ]
    },
    {
     "cell_type": "code",
     "collapsed": false,
     "input": [
      "print df_cities.dtypes\n",
      "df_cities.describe()"
     ],
     "language": "python",
     "metadata": {},
     "outputs": [
      {
       "output_type": "stream",
       "stream": "stdout",
       "text": [
        "city          object\n",
        "state         object\n",
        "population    object\n",
        "latitude      object\n",
        "longitude     object\n",
        "dtype: object\n"
       ]
      },
      {
       "html": [
        "<div style=\"max-height:1000px;max-width:1500px;overflow:auto;\">\n",
        "<table border=\"1\" class=\"dataframe\">\n",
        "  <thead>\n",
        "    <tr style=\"text-align: right;\">\n",
        "      <th></th>\n",
        "      <th>city</th>\n",
        "      <th>state</th>\n",
        "      <th>population</th>\n",
        "      <th>latitude</th>\n",
        "      <th>longitude</th>\n",
        "    </tr>\n",
        "  </thead>\n",
        "  <tbody>\n",
        "    <tr>\n",
        "      <th>count</th>\n",
        "      <td>         295</td>\n",
        "      <td>        295</td>\n",
        "      <td>    295</td>\n",
        "      <td>     295</td>\n",
        "      <td>      295</td>\n",
        "    </tr>\n",
        "    <tr>\n",
        "      <th>unique</th>\n",
        "      <td>         284</td>\n",
        "      <td>         46</td>\n",
        "      <td>    294</td>\n",
        "      <td>     294</td>\n",
        "      <td>      294</td>\n",
        "    </tr>\n",
        "    <tr>\n",
        "      <th>top</th>\n",
        "      <td> Springfield</td>\n",
        "      <td> California</td>\n",
        "      <td> 104898</td>\n",
        "      <td> 29.5544</td>\n",
        "      <td> -95.2958</td>\n",
        "    </tr>\n",
        "    <tr>\n",
        "      <th>freq</th>\n",
        "      <td>           3</td>\n",
        "      <td>         70</td>\n",
        "      <td>      2</td>\n",
        "      <td>       2</td>\n",
        "      <td>        2</td>\n",
        "    </tr>\n",
        "  </tbody>\n",
        "</table>\n",
        "</div>"
       ],
       "metadata": {},
       "output_type": "pyout",
       "prompt_number": 12,
       "text": [
        "               city       state  population latitude longitude\n",
        "count           295         295         295      295       295\n",
        "unique          284          46         294      294       294\n",
        "top     Springfield  California      104898  29.5544  -95.2958\n",
        "freq              3          70           2        2         2"
       ]
      }
     ],
     "prompt_number": 12
    },
    {
     "cell_type": "markdown",
     "metadata": {},
     "source": [
      "Set the latitude and longitude to numeric types"
     ]
    },
    {
     "cell_type": "code",
     "collapsed": false,
     "input": [
      "df_cities[['latitude', 'longitude']] = df_cities[['latitude', 'longitude']].astype(float)\n",
      "df_cities.describe()"
     ],
     "language": "python",
     "metadata": {},
     "outputs": [
      {
       "html": [
        "<div style=\"max-height:1000px;max-width:1500px;overflow:auto;\">\n",
        "<table border=\"1\" class=\"dataframe\">\n",
        "  <thead>\n",
        "    <tr style=\"text-align: right;\">\n",
        "      <th></th>\n",
        "      <th>latitude</th>\n",
        "      <th>longitude</th>\n",
        "    </tr>\n",
        "  </thead>\n",
        "  <tbody>\n",
        "    <tr>\n",
        "      <th>count</th>\n",
        "      <td> 295.000000</td>\n",
        "      <td> 295.000000</td>\n",
        "    </tr>\n",
        "    <tr>\n",
        "      <th>mean</th>\n",
        "      <td>  36.423566</td>\n",
        "      <td> -98.603903</td>\n",
        "    </tr>\n",
        "    <tr>\n",
        "      <th>std</th>\n",
        "      <td>   5.206686</td>\n",
        "      <td>  17.198879</td>\n",
        "    </tr>\n",
        "    <tr>\n",
        "      <th>min</th>\n",
        "      <td>  21.325900</td>\n",
        "      <td>-157.845300</td>\n",
        "    </tr>\n",
        "    <tr>\n",
        "      <th>25%</th>\n",
        "      <td>  33.253750</td>\n",
        "      <td>-117.329900</td>\n",
        "    </tr>\n",
        "    <tr>\n",
        "      <th>50%</th>\n",
        "      <td>  36.012200</td>\n",
        "      <td> -96.708100</td>\n",
        "    </tr>\n",
        "    <tr>\n",
        "      <th>75%</th>\n",
        "      <td>  40.370618</td>\n",
        "      <td> -83.027650</td>\n",
        "    </tr>\n",
        "    <tr>\n",
        "      <th>max</th>\n",
        "      <td>  61.217600</td>\n",
        "      <td> -71.020200</td>\n",
        "    </tr>\n",
        "  </tbody>\n",
        "</table>\n",
        "</div>"
       ],
       "metadata": {},
       "output_type": "pyout",
       "prompt_number": 13,
       "text": [
        "         latitude   longitude\n",
        "count  295.000000  295.000000\n",
        "mean    36.423566  -98.603903\n",
        "std      5.206686   17.198879\n",
        "min     21.325900 -157.845300\n",
        "25%     33.253750 -117.329900\n",
        "50%     36.012200  -96.708100\n",
        "75%     40.370618  -83.027650\n",
        "max     61.217600  -71.020200"
       ]
      }
     ],
     "prompt_number": 13
    },
    {
     "cell_type": "markdown",
     "metadata": {},
     "source": [
      "The latitude and longitude values pass a general range check."
     ]
    },
    {
     "cell_type": "markdown",
     "metadata": {},
     "source": [
      "###Step 3: Map the Data\n",
      "I will plot landmark density and city locations on a map. This visualization will provide a sanity check for determining which city is farthest from a landmark; and where are landmarks most densely concentrated. The map may also spur more analyses."
     ]
    },
    {
     "cell_type": "code",
     "collapsed": false,
     "input": [
      "%pylab inline\n",
      "from pylab import *\n",
      "\n",
      "# Set default figure size for this notebook\n",
      "pylab.rcParams['figure.figsize'] = (8.0, 6.4)"
     ],
     "language": "python",
     "metadata": {},
     "outputs": [
      {
       "output_type": "stream",
       "stream": "stdout",
       "text": [
        "Populating the interactive namespace from numpy and matplotlib\n"
       ]
      },
      {
       "output_type": "stream",
       "stream": "stderr",
       "text": [
        "WARNING: pylab import has clobbered these variables: ['table']\n",
        "`%matplotlib` prevents importing * from pylab and numpy\n"
       ]
      }
     ],
     "prompt_number": 15
    },
    {
     "cell_type": "code",
     "collapsed": false,
     "input": [
      "#take only those cities with population at least 200,000\n",
      "df_cities_high_pop = df_cities[df_cities['population'] >= 200000]\n",
      "print np.shape(df_cities_high_pop)"
     ],
     "language": "python",
     "metadata": {},
     "outputs": [
      {
       "output_type": "stream",
       "stream": "stdout",
       "text": [
        "(113, 5)\n"
       ]
      }
     ],
     "prompt_number": 16
    },
    {
     "cell_type": "code",
     "collapsed": false,
     "input": [
      "from mpl_toolkits.basemap import Basemap\n",
      "import matplotlib.pyplot as plt\n",
      "import matplotlib.lines as mlines\n",
      "import numpy as np\n",
      "\n",
      "\n",
      "map = Basemap(llcrnrlon=-119, llcrnrlat=22, urcrnrlon=-64,\n",
      "                               urcrnrlat=49, projection='lcc', lat_1=33, lat_2=45,\n",
      "                               lon_0=-95, resolution='c', area_thresh=5000)\n",
      "\n",
      "map.drawcoastlines()\n",
      "map.drawcountries()\n",
      "map.drawstates()\n",
      "\n",
      "\n",
      "lon_pts = []\n",
      "lat_pts = []\n",
      "for lon, lat in zip(df_landmarks['longitude'].values, df_landmarks['latitude'].values):\n",
      "    x,y = map(lon, lat)\n",
      "    lon_pts.append(x)\n",
      "    lat_pts.append(y)\n",
      "\n",
      "hx = map.hexbin(\n",
      "    np.array(lon_pts),\n",
      "    np.array(lat_pts),\n",
      "    gridsize=100,\n",
      "    bins='log',\n",
      "    mincnt=1,\n",
      "    edgecolor='goldenrod',\n",
      "    alpha=1.,\n",
      "    lw=0.2,\n",
      "    cmap=plt.get_cmap('Oranges'))\n",
      "\n",
      "for lon, lat in zip(df_cities_high_pop['longitude'].values, df_cities_high_pop['latitude'].values):\n",
      "    x,y = map(lon, lat)\n",
      "    map.plot(x, y, color='darkcyan', marker='o', markersize=4.5, alpha=.65)\n",
      "\n",
      "\n",
      "\n",
      "plt.title('National Historic Landmarks and Large US Cities')\n",
      "cbar = map.colorbar(hx,location='bottom',pad=\"15%\")\n",
      "cbar.set_label('log10(Landmarks)')\n",
      "\n",
      "leg = plt.legend([l1], ['Major City'], frameon=True, fontsize=12,\n",
      " scatterpoints = 1, bbox_to_anchor=(.5, -.13), loc='lower center')\n",
      "#plt.legend(bbox_to_anchor=(1.05, 1), loc=2, borderaxespad=0., scatterpoints=1)\n",
      "\n",
      "plt.show()"
     ],
     "language": "python",
     "metadata": {},
     "outputs": [
      {
       "metadata": {},
       "output_type": "display_data",
       "png": "[encoded data removed]",
       "text": [
        "<matplotlib.figure.Figure at 0x10dc82e10>"
       ]
      }
     ],
     "prompt_number": 237
    },
    {
     "cell_type": "markdown",
     "metadata": {},
     "source": [
      "###Step 4: Calculate distances between cities and landmarks\n",
      "I'll calculate the distances between all cities and the landmarks, and find which city is farthest form any landmark, and which landmark is farthest from any city."
     ]
    },
    {
     "cell_type": "code",
     "collapsed": false,
     "input": [
      "from geopy.distance import vincenty\n",
      "\n",
      "city_landmark_distances = []\n",
      "for i in xrange(len(df_cities_high_pop)):\n",
      "    temp_dist = []\n",
      "    pt_1 = (df_cities_high_pop['latitude'][i], df_cities_high_pop['longitude'][i])\n",
      "    for j in xrange(len(df_landmarks)):\n",
      "        pt_2 = (df_landmarks['latitude'][j], df_landmarks['longitude'][j])\n",
      "        temp_dist.append(vincenty(pt_1, pt_2).miles)\n",
      "    city_landmark_distances.append(pd.Series(temp_dist))\n",
      "    if i%5==0: print i,'\\r', "
     ],
     "language": "python",
     "metadata": {},
     "outputs": [
      {
       "output_type": "stream",
       "stream": "stdout",
       "text": [
        "0 \r",
        "5"
       ]
      },
      {
       "output_type": "stream",
       "stream": "stdout",
       "text": [
        " \r",
        "10"
       ]
      },
      {
       "output_type": "stream",
       "stream": "stdout",
       "text": [
        " \r",
        "15"
       ]
      },
      {
       "output_type": "stream",
       "stream": "stdout",
       "text": [
        " \r",
        "20"
       ]
      },
      {
       "output_type": "stream",
       "stream": "stdout",
       "text": [
        " \r",
        "25"
       ]
      },
      {
       "output_type": "stream",
       "stream": "stdout",
       "text": [
        " \r",
        "30"
       ]
      },
      {
       "output_type": "stream",
       "stream": "stdout",
       "text": [
        " \r",
        "35"
       ]
      },
      {
       "output_type": "stream",
       "stream": "stdout",
       "text": [
        " \r",
        "40"
       ]
      },
      {
       "output_type": "stream",
       "stream": "stdout",
       "text": [
        " \r",
        "45"
       ]
      },
      {
       "output_type": "stream",
       "stream": "stdout",
       "text": [
        " \r",
        "50"
       ]
      },
      {
       "output_type": "stream",
       "stream": "stdout",
       "text": [
        " \r",
        "55"
       ]
      },
      {
       "output_type": "stream",
       "stream": "stdout",
       "text": [
        " \r",
        "60"
       ]
      },
      {
       "output_type": "stream",
       "stream": "stdout",
       "text": [
        " \r",
        "65"
       ]
      },
      {
       "output_type": "stream",
       "stream": "stdout",
       "text": [
        " \r",
        "70"
       ]
      },
      {
       "output_type": "stream",
       "stream": "stdout",
       "text": [
        " \r",
        "75"
       ]
      },
      {
       "output_type": "stream",
       "stream": "stdout",
       "text": [
        " \r",
        "80"
       ]
      },
      {
       "output_type": "stream",
       "stream": "stdout",
       "text": [
        " \r",
        "85"
       ]
      },
      {
       "output_type": "stream",
       "stream": "stdout",
       "text": [
        " \r",
        "90"
       ]
      },
      {
       "output_type": "stream",
       "stream": "stdout",
       "text": [
        " \r",
        "95"
       ]
      },
      {
       "output_type": "stream",
       "stream": "stdout",
       "text": [
        " \r",
        "100"
       ]
      },
      {
       "output_type": "stream",
       "stream": "stdout",
       "text": [
        " \r",
        "105"
       ]
      },
      {
       "output_type": "stream",
       "stream": "stdout",
       "text": [
        " \r",
        "110"
       ]
      },
      {
       "output_type": "stream",
       "stream": "stdout",
       "text": [
        " \r"
       ]
      }
     ],
     "prompt_number": 48
    },
    {
     "cell_type": "code",
     "collapsed": false,
     "input": [
      "df_city_to_landmark = pd.concat(landmark_city_distances, axis=1).transpose()\n",
      "print np.shape(df_city_to_landmark)\n",
      "df_city_to_landmark.head()\n"
     ],
     "language": "python",
     "metadata": {},
     "outputs": [
      {
       "output_type": "stream",
       "stream": "stdout",
       "text": [
        "(113, 2460)\n"
       ]
      },
      {
       "html": [
        "<div style=\"max-height:1000px;max-width:1500px;overflow:auto;\">\n",
        "<table border=\"1\" class=\"dataframe\">\n",
        "  <thead>\n",
        "    <tr style=\"text-align: right;\">\n",
        "      <th></th>\n",
        "      <th>0</th>\n",
        "      <th>1</th>\n",
        "      <th>2</th>\n",
        "      <th>3</th>\n",
        "      <th>4</th>\n",
        "      <th>5</th>\n",
        "      <th>6</th>\n",
        "      <th>7</th>\n",
        "      <th>8</th>\n",
        "      <th>9</th>\n",
        "      <th>...</th>\n",
        "      <th>2450</th>\n",
        "      <th>2451</th>\n",
        "      <th>2452</th>\n",
        "      <th>2453</th>\n",
        "      <th>2454</th>\n",
        "      <th>2455</th>\n",
        "      <th>2456</th>\n",
        "      <th>2457</th>\n",
        "      <th>2458</th>\n",
        "      <th>2459</th>\n",
        "    </tr>\n",
        "  </thead>\n",
        "  <tbody>\n",
        "    <tr>\n",
        "      <th>0</th>\n",
        "      <td>  189.460268</td>\n",
        "      <td>  189.302557</td>\n",
        "      <td>  184.538602</td>\n",
        "      <td>  188.006686</td>\n",
        "      <td>  189.369071</td>\n",
        "      <td>  189.532221</td>\n",
        "      <td>  189.251992</td>\n",
        "      <td>  195.424583</td>\n",
        "      <td>  190.407674</td>\n",
        "      <td>  189.038964</td>\n",
        "      <td>...</td>\n",
        "      <td> 2566.127990</td>\n",
        "      <td> 2574.086865</td>\n",
        "      <td> 2575.567706</td>\n",
        "      <td> 2400.147162</td>\n",
        "      <td> 2575.405838</td>\n",
        "      <td> 2394.303732</td>\n",
        "      <td> 2457.778732</td>\n",
        "      <td> 2439.011361</td>\n",
        "      <td> 2466.150134</td>\n",
        "      <td> 2302.324361</td>\n",
        "    </tr>\n",
        "    <tr>\n",
        "      <th>1</th>\n",
        "      <td> 2605.794974</td>\n",
        "      <td> 2605.766155</td>\n",
        "      <td> 2603.116661</td>\n",
        "      <td> 2604.570104</td>\n",
        "      <td> 2605.770744</td>\n",
        "      <td> 2605.980674</td>\n",
        "      <td> 2605.809577</td>\n",
        "      <td> 2614.896645</td>\n",
        "      <td> 2606.199089</td>\n",
        "      <td> 2605.593439</td>\n",
        "      <td>...</td>\n",
        "      <td>  311.257749</td>\n",
        "      <td>  347.384500</td>\n",
        "      <td>  342.793393</td>\n",
        "      <td>  115.383723</td>\n",
        "      <td>  344.617514</td>\n",
        "      <td>  114.851807</td>\n",
        "      <td>   11.306918</td>\n",
        "      <td>  252.321211</td>\n",
        "      <td>   27.205427</td>\n",
        "      <td>  236.775232</td>\n",
        "    </tr>\n",
        "    <tr>\n",
        "      <th>2</th>\n",
        "      <td>  853.501665</td>\n",
        "      <td>  853.472328</td>\n",
        "      <td>  850.820155</td>\n",
        "      <td>  852.275005</td>\n",
        "      <td>  853.477154</td>\n",
        "      <td>  853.687096</td>\n",
        "      <td>  853.515450</td>\n",
        "      <td>  862.600212</td>\n",
        "      <td>  853.908698</td>\n",
        "      <td>  853.299145</td>\n",
        "      <td>...</td>\n",
        "      <td> 1846.592486</td>\n",
        "      <td> 1854.682213</td>\n",
        "      <td> 1856.128793</td>\n",
        "      <td> 1683.900893</td>\n",
        "      <td> 1855.978893</td>\n",
        "      <td> 1687.938004</td>\n",
        "      <td> 1746.182744</td>\n",
        "      <td> 1719.575250</td>\n",
        "      <td> 1752.711604</td>\n",
        "      <td> 1602.926049</td>\n",
        "    </tr>\n",
        "    <tr>\n",
        "      <th>3</th>\n",
        "      <td> 1605.130213</td>\n",
        "      <td> 1605.006242</td>\n",
        "      <td> 1600.670347</td>\n",
        "      <td> 1603.670823</td>\n",
        "      <td> 1605.056037</td>\n",
        "      <td> 1605.243708</td>\n",
        "      <td> 1604.983824</td>\n",
        "      <td> 1612.378603</td>\n",
        "      <td> 1605.950708</td>\n",
        "      <td> 1604.757917</td>\n",
        "      <td>...</td>\n",
        "      <td> 1619.276671</td>\n",
        "      <td> 1644.738800</td>\n",
        "      <td> 1643.099494</td>\n",
        "      <td> 1376.058129</td>\n",
        "      <td> 1644.025389</td>\n",
        "      <td> 1275.214615</td>\n",
        "      <td> 1371.042016</td>\n",
        "      <td> 1491.914826</td>\n",
        "      <td> 1396.467922</td>\n",
        "      <td> 1154.371566</td>\n",
        "    </tr>\n",
        "    <tr>\n",
        "      <th>4</th>\n",
        "      <td>  266.932773</td>\n",
        "      <td>  266.777824</td>\n",
        "      <td>  262.042617</td>\n",
        "      <td>  265.475812</td>\n",
        "      <td>  266.842950</td>\n",
        "      <td>  267.008630</td>\n",
        "      <td>  266.729702</td>\n",
        "      <td>  272.996003</td>\n",
        "      <td>  267.870337</td>\n",
        "      <td>  266.515109</td>\n",
        "      <td>...</td>\n",
        "      <td> 2513.041854</td>\n",
        "      <td> 2521.856507</td>\n",
        "      <td> 2523.203306</td>\n",
        "      <td> 2342.539573</td>\n",
        "      <td> 2523.090479</td>\n",
        "      <td> 2332.594145</td>\n",
        "      <td> 2397.804111</td>\n",
        "      <td> 2385.055461</td>\n",
        "      <td> 2406.964107</td>\n",
        "      <td> 2238.910938</td>\n",
        "    </tr>\n",
        "  </tbody>\n",
        "</table>\n",
        "<p>5 rows \u00d7 2460 columns</p>\n",
        "</div>"
       ],
       "metadata": {},
       "output_type": "pyout",
       "prompt_number": 49,
       "text": [
        "          0            1            2            3            4     \\\n",
        "0   189.460268   189.302557   184.538602   188.006686   189.369071   \n",
        "1  2605.794974  2605.766155  2603.116661  2604.570104  2605.770744   \n",
        "2   853.501665   853.472328   850.820155   852.275005   853.477154   \n",
        "3  1605.130213  1605.006242  1600.670347  1603.670823  1605.056037   \n",
        "4   266.932773   266.777824   262.042617   265.475812   266.842950   \n",
        "\n",
        "          5            6            7            8            9     \\\n",
        "0   189.532221   189.251992   195.424583   190.407674   189.038964   \n",
        "1  2605.980674  2605.809577  2614.896645  2606.199089  2605.593439   \n",
        "2   853.687096   853.515450   862.600212   853.908698   853.299145   \n",
        "3  1605.243708  1604.983824  1612.378603  1605.950708  1604.757917   \n",
        "4   267.008630   266.729702   272.996003   267.870337   266.515109   \n",
        "\n",
        "      ...              2450         2451         2452         2453  \\\n",
        "0     ...       2566.127990  2574.086865  2575.567706  2400.147162   \n",
        "1     ...        311.257749   347.384500   342.793393   115.383723   \n",
        "2     ...       1846.592486  1854.682213  1856.128793  1683.900893   \n",
        "3     ...       1619.276671  1644.738800  1643.099494  1376.058129   \n",
        "4     ...       2513.041854  2521.856507  2523.203306  2342.539573   \n",
        "\n",
        "          2454         2455         2456         2457         2458  \\\n",
        "0  2575.405838  2394.303732  2457.778732  2439.011361  2466.150134   \n",
        "1   344.617514   114.851807    11.306918   252.321211    27.205427   \n",
        "2  1855.978893  1687.938004  1746.182744  1719.575250  1752.711604   \n",
        "3  1644.025389  1275.214615  1371.042016  1491.914826  1396.467922   \n",
        "4  2523.090479  2332.594145  2397.804111  2385.055461  2406.964107   \n",
        "\n",
        "          2459  \n",
        "0  2302.324361  \n",
        "1   236.775232  \n",
        "2  1602.926049  \n",
        "3  1154.371566  \n",
        "4  2238.910938  \n",
        "\n",
        "[5 rows x 2460 columns]"
       ]
      }
     ],
     "prompt_number": 49
    },
    {
     "cell_type": "markdown",
     "metadata": {},
     "source": [
      "df_city_to_landmark holds the distances between each \"major\" city and landmark. The cities are given in the rows and the landmarks are given in the columns. Thus, city[2] is 853 miles away from landmark[0]. Now I'll find which major city is farthest from the nearest landmark."
     ]
    },
    {
     "cell_type": "code",
     "collapsed": false,
     "input": [
      "min_city_landmark_distances = df_city_to_landmark.min(axis=1)\n",
      "farthest_city_id =  min_city_landmark_distances.idxmax(axis=1)\n",
      "farthest_city_dist = min_city_landmark_distances[farthest_city_id]\n",
      "closest_landmark_id = df_city_to_landmark.loc[farthest_city_id].idxmin(axis=1)\n",
      "\n",
      "print '{0} is the farthest major city from any landmark. \\\n",
      "The closest landmark is \"{1}\", at {2:.1f} miles away.'.format(df_cities_high_pop.loc[farthest_city_id]['city'], df_landmarks.loc[closest_landmark_id]['name'], farthest_city_dist)"
     ],
     "language": "python",
     "metadata": {},
     "outputs": [
      {
       "output_type": "stream",
       "stream": "stdout",
       "text": [
        "Wichita is the farthest major city from any landmark. The closest landmark is \"Spring Hill Ranch\", at 66.7 miles away.\n"
       ]
      }
     ],
     "prompt_number": 151
    },
    {
     "cell_type": "code",
     "collapsed": false,
     "input": [
      "min_landmark_city_distances = df_city_to_landmark.min(axis=0)\n",
      "farthest_landmark_id =  min_landmark_city_distances.idxmax(axis=0)\n",
      "farthest_landmark_dist = min_landmark_city_distances[farthest_landmark_id]\n",
      "closest_city_id = df_city_to_landmark[[farthest_landmark_id]].idxmin(axis=0).values[0]\n",
      "\n",
      "print '\"{0}\" is the farthest landmark from any major city. \\\n",
      "The closest city is {1}, at {2:.1f} miles away.'.format(df_landmarks.loc[farthest_landmark_id]['name'], df_cities_high_pop.loc[closest_city_id]['city'], farthest_landmark_dist)"
     ],
     "language": "python",
     "metadata": {},
     "outputs": [
      {
       "output_type": "stream",
       "stream": "stdout",
       "text": [
        "\"Attu Battlefield and U.S. Army and Navy Airfields on Attu\" is the farthest landmark from any major city. The closest city is Anchorage, at 1490.4 miles away.\n"
       ]
      }
     ],
     "prompt_number": 153
    },
    {
     "cell_type": "markdown",
     "metadata": {},
     "source": [
      "###Step 5: Calculate distances between landmarks\n",
      "I'll calculate the distances between all the landmarks, and find which landmark is farthest from any other landmark, and which two landmarks are the closest."
     ]
    },
    {
     "cell_type": "markdown",
     "metadata": {},
     "source": [
      "Calculate the distances between all landmarks"
     ]
    },
    {
     "cell_type": "code",
     "collapsed": false,
     "input": [
      "intra_landmark_distances = []\n",
      "for i in xrange(len(df_landmarks)):\n",
      "    temp_dist = []\n",
      "    pt_1 = (df_landmarks['latitude'][i], df_landmarks['longitude'][i])\n",
      "    for j in xrange(len(df_landmarks)):\n",
      "        if i == j:\n",
      "            temp_dist.append(np.nan)\n",
      "        else:\n",
      "            pt_2 = (df_landmarks['latitude'][j], df_landmarks['longitude'][j])\n",
      "            temp_dist.append(vincenty(pt_1, pt_2).miles)\n",
      "    intra_landmark_distances.append(pd.Series(temp_dist))\n",
      "    if i%5==0: print i,'\\r', "
     ],
     "language": "python",
     "metadata": {},
     "outputs": [
      {
       "output_type": "stream",
       "stream": "stdout",
       "text": [
        "0 \r",
        "5"
       ]
      },
      {
       "output_type": "stream",
       "stream": "stdout",
       "text": [
        " \r",
        "10"
       ]
      },
      {
       "output_type": "stream",
       "stream": "stdout",
       "text": [
        " \r",
        "15"
       ]
      },
      {
       "output_type": "stream",
       "stream": "stdout",
       "text": [
        " \r",
        "20"
       ]
      },
      {
       "output_type": "stream",
       "stream": "stdout",
       "text": [
        " \r",
        "25"
       ]
      },
      {
       "output_type": "stream",
       "stream": "stdout",
       "text": [
        " \r",
        "30"
       ]
      },
      {
       "output_type": "stream",
       "stream": "stdout",
       "text": [
        " \r",
        "35"
       ]
      },
      {
       "output_type": "stream",
       "stream": "stdout",
       "text": [
        " \r",
        "40"
       ]
      },
      {
       "output_type": "stream",
       "stream": "stdout",
       "text": [
        " \r",
        "45"
       ]
      },
      {
       "output_type": "stream",
       "stream": "stdout",
       "text": [
        " \r",
        "50"
       ]
      },
      {
       "output_type": "stream",
       "stream": "stdout",
       "text": [
        " \r",
        "55"
       ]
      },
      {
       "output_type": "stream",
       "stream": "stdout",
       "text": [
        " \r",
        "60"
       ]
      },
      {
       "output_type": "stream",
       "stream": "stdout",
       "text": [
        " \r",
        "65"
       ]
      },
      {
       "output_type": "stream",
       "stream": "stdout",
       "text": [
        " \r",
        "70"
       ]
      },
      {
       "output_type": "stream",
       "stream": "stdout",
       "text": [
        " \r",
        "75"
       ]
      },
      {
       "output_type": "stream",
       "stream": "stdout",
       "text": [
        " \r",
        "80"
       ]
      },
      {
       "output_type": "stream",
       "stream": "stdout",
       "text": [
        " \r",
        "85"
       ]
      },
      {
       "output_type": "stream",
       "stream": "stdout",
       "text": [
        " \r",
        "90"
       ]
      },
      {
       "output_type": "stream",
       "stream": "stdout",
       "text": [
        " \r",
        "95"
       ]
      },
      {
       "output_type": "stream",
       "stream": "stdout",
       "text": [
        " \r",
        "100"
       ]
      },
      {
       "output_type": "stream",
       "stream": "stdout",
       "text": [
        " \r",
        "105"
       ]
      },
      {
       "output_type": "stream",
       "stream": "stdout",
       "text": [
        " \r",
        "110"
       ]
      },
      {
       "output_type": "stream",
       "stream": "stdout",
       "text": [
        " \r",
        "115"
       ]
      },
      {
       "output_type": "stream",
       "stream": "stdout",
       "text": [
        " \r",
        "120"
       ]
      },
      {
       "output_type": "stream",
       "stream": "stdout",
       "text": [
        " \r",
        "125"
       ]
      },
      {
       "output_type": "stream",
       "stream": "stdout",
       "text": [
        " \r",
        "130"
       ]
      },
      {
       "output_type": "stream",
       "stream": "stdout",
       "text": [
        " \r",
        "135"
       ]
      },
      {
       "output_type": "stream",
       "stream": "stdout",
       "text": [
        " \r",
        "140"
       ]
      },
      {
       "output_type": "stream",
       "stream": "stdout",
       "text": [
        " \r",
        "145"
       ]
      },
      {
       "output_type": "stream",
       "stream": "stdout",
       "text": [
        " \r",
        "150"
       ]
      },
      {
       "output_type": "stream",
       "stream": "stdout",
       "text": [
        " \r",
        "155"
       ]
      },
      {
       "output_type": "stream",
       "stream": "stdout",
       "text": [
        " \r",
        "160"
       ]
      },
      {
       "output_type": "stream",
       "stream": "stdout",
       "text": [
        " \r",
        "165"
       ]
      },
      {
       "output_type": "stream",
       "stream": "stdout",
       "text": [
        " \r",
        "170"
       ]
      },
      {
       "output_type": "stream",
       "stream": "stdout",
       "text": [
        " \r",
        "175"
       ]
      },
      {
       "output_type": "stream",
       "stream": "stdout",
       "text": [
        " \r",
        "180"
       ]
      },
      {
       "output_type": "stream",
       "stream": "stdout",
       "text": [
        " \r",
        "185"
       ]
      },
      {
       "output_type": "stream",
       "stream": "stdout",
       "text": [
        " \r",
        "190"
       ]
      },
      {
       "output_type": "stream",
       "stream": "stdout",
       "text": [
        " \r",
        "195"
       ]
      },
      {
       "output_type": "stream",
       "stream": "stdout",
       "text": [
        " \r",
        "200"
       ]
      },
      {
       "output_type": "stream",
       "stream": "stdout",
       "text": [
        " \r",
        "205"
       ]
      },
      {
       "output_type": "stream",
       "stream": "stdout",
       "text": [
        " \r",
        "210"
       ]
      },
      {
       "output_type": "stream",
       "stream": "stdout",
       "text": [
        " \r",
        "215"
       ]
      },
      {
       "output_type": "stream",
       "stream": "stdout",
       "text": [
        " \r",
        "220"
       ]
      },
      {
       "output_type": "stream",
       "stream": "stdout",
       "text": [
        " \r",
        "225"
       ]
      },
      {
       "output_type": "stream",
       "stream": "stdout",
       "text": [
        " \r",
        "230"
       ]
      },
      {
       "output_type": "stream",
       "stream": "stdout",
       "text": [
        " \r",
        "235"
       ]
      },
      {
       "output_type": "stream",
       "stream": "stdout",
       "text": [
        " \r",
        "240"
       ]
      },
      {
       "output_type": "stream",
       "stream": "stdout",
       "text": [
        " \r",
        "245"
       ]
      },
      {
       "output_type": "stream",
       "stream": "stdout",
       "text": [
        " \r",
        "250"
       ]
      },
      {
       "output_type": "stream",
       "stream": "stdout",
       "text": [
        " \r",
        "255"
       ]
      },
      {
       "output_type": "stream",
       "stream": "stdout",
       "text": [
        " \r",
        "260"
       ]
      },
      {
       "output_type": "stream",
       "stream": "stdout",
       "text": [
        " \r",
        "265"
       ]
      },
      {
       "output_type": "stream",
       "stream": "stdout",
       "text": [
        " \r",
        "270"
       ]
      },
      {
       "output_type": "stream",
       "stream": "stdout",
       "text": [
        " \r",
        "275"
       ]
      },
      {
       "output_type": "stream",
       "stream": "stdout",
       "text": [
        " \r",
        "280"
       ]
      },
      {
       "output_type": "stream",
       "stream": "stdout",
       "text": [
        " \r",
        "285"
       ]
      },
      {
       "output_type": "stream",
       "stream": "stdout",
       "text": [
        " \r",
        "290"
       ]
      },
      {
       "output_type": "stream",
       "stream": "stdout",
       "text": [
        " \r",
        "295"
       ]
      },
      {
       "output_type": "stream",
       "stream": "stdout",
       "text": [
        " \r",
        "300"
       ]
      },
      {
       "output_type": "stream",
       "stream": "stdout",
       "text": [
        " \r",
        "305"
       ]
      },
      {
       "output_type": "stream",
       "stream": "stdout",
       "text": [
        " \r",
        "310"
       ]
      },
      {
       "output_type": "stream",
       "stream": "stdout",
       "text": [
        " \r",
        "315"
       ]
      },
      {
       "output_type": "stream",
       "stream": "stdout",
       "text": [
        " \r",
        "320"
       ]
      },
      {
       "output_type": "stream",
       "stream": "stdout",
       "text": [
        " \r",
        "325"
       ]
      },
      {
       "output_type": "stream",
       "stream": "stdout",
       "text": [
        " \r",
        "330"
       ]
      },
      {
       "output_type": "stream",
       "stream": "stdout",
       "text": [
        " \r",
        "335"
       ]
      },
      {
       "output_type": "stream",
       "stream": "stdout",
       "text": [
        " \r",
        "340"
       ]
      },
      {
       "output_type": "stream",
       "stream": "stdout",
       "text": [
        " \r",
        "345"
       ]
      },
      {
       "output_type": "stream",
       "stream": "stdout",
       "text": [
        " \r",
        "350"
       ]
      },
      {
       "output_type": "stream",
       "stream": "stdout",
       "text": [
        " \r",
        "355"
       ]
      },
      {
       "output_type": "stream",
       "stream": "stdout",
       "text": [
        " \r",
        "360"
       ]
      },
      {
       "output_type": "stream",
       "stream": "stdout",
       "text": [
        " \r",
        "365"
       ]
      },
      {
       "output_type": "stream",
       "stream": "stdout",
       "text": [
        " \r",
        "370"
       ]
      },
      {
       "output_type": "stream",
       "stream": "stdout",
       "text": [
        " \r",
        "375"
       ]
      },
      {
       "output_type": "stream",
       "stream": "stdout",
       "text": [
        " \r",
        "380"
       ]
      },
      {
       "output_type": "stream",
       "stream": "stdout",
       "text": [
        " \r",
        "385"
       ]
      },
      {
       "output_type": "stream",
       "stream": "stdout",
       "text": [
        " \r",
        "390"
       ]
      },
      {
       "output_type": "stream",
       "stream": "stdout",
       "text": [
        " \r",
        "395"
       ]
      },
      {
       "output_type": "stream",
       "stream": "stdout",
       "text": [
        " \r",
        "400"
       ]
      },
      {
       "output_type": "stream",
       "stream": "stdout",
       "text": [
        " \r",
        "405"
       ]
      },
      {
       "output_type": "stream",
       "stream": "stdout",
       "text": [
        " \r",
        "410"
       ]
      },
      {
       "output_type": "stream",
       "stream": "stdout",
       "text": [
        " \r",
        "415"
       ]
      },
      {
       "output_type": "stream",
       "stream": "stdout",
       "text": [
        " \r",
        "420"
       ]
      },
      {
       "output_type": "stream",
       "stream": "stdout",
       "text": [
        " \r",
        "425"
       ]
      },
      {
       "output_type": "stream",
       "stream": "stdout",
       "text": [
        " \r",
        "430"
       ]
      },
      {
       "output_type": "stream",
       "stream": "stdout",
       "text": [
        " \r",
        "435"
       ]
      },
      {
       "output_type": "stream",
       "stream": "stdout",
       "text": [
        " \r",
        "440"
       ]
      },
      {
       "output_type": "stream",
       "stream": "stdout",
       "text": [
        " \r",
        "445"
       ]
      },
      {
       "output_type": "stream",
       "stream": "stdout",
       "text": [
        " \r",
        "450"
       ]
      },
      {
       "output_type": "stream",
       "stream": "stdout",
       "text": [
        " \r",
        "455"
       ]
      },
      {
       "output_type": "stream",
       "stream": "stdout",
       "text": [
        " \r",
        "460"
       ]
      },
      {
       "output_type": "stream",
       "stream": "stdout",
       "text": [
        " \r",
        "465"
       ]
      },
      {
       "output_type": "stream",
       "stream": "stdout",
       "text": [
        " \r",
        "470"
       ]
      },
      {
       "output_type": "stream",
       "stream": "stdout",
       "text": [
        " \r",
        "475"
       ]
      },
      {
       "output_type": "stream",
       "stream": "stdout",
       "text": [
        " \r",
        "480"
       ]
      },
      {
       "output_type": "stream",
       "stream": "stdout",
       "text": [
        " \r",
        "485"
       ]
      },
      {
       "output_type": "stream",
       "stream": "stdout",
       "text": [
        " \r",
        "490"
       ]
      },
      {
       "output_type": "stream",
       "stream": "stdout",
       "text": [
        " \r",
        "495"
       ]
      },
      {
       "output_type": "stream",
       "stream": "stdout",
       "text": [
        " \r",
        "500"
       ]
      },
      {
       "output_type": "stream",
       "stream": "stdout",
       "text": [
        " \r",
        "505"
       ]
      },
      {
       "output_type": "stream",
       "stream": "stdout",
       "text": [
        " \r",
        "510"
       ]
      },
      {
       "output_type": "stream",
       "stream": "stdout",
       "text": [
        " \r",
        "515"
       ]
      },
      {
       "output_type": "stream",
       "stream": "stdout",
       "text": [
        " \r",
        "520"
       ]
      },
      {
       "output_type": "stream",
       "stream": "stdout",
       "text": [
        " \r",
        "525"
       ]
      },
      {
       "output_type": "stream",
       "stream": "stdout",
       "text": [
        " \r",
        "530"
       ]
      },
      {
       "output_type": "stream",
       "stream": "stdout",
       "text": [
        " \r",
        "535"
       ]
      },
      {
       "output_type": "stream",
       "stream": "stdout",
       "text": [
        " \r",
        "540"
       ]
      },
      {
       "output_type": "stream",
       "stream": "stdout",
       "text": [
        " \r",
        "545"
       ]
      },
      {
       "output_type": "stream",
       "stream": "stdout",
       "text": [
        " \r",
        "550"
       ]
      },
      {
       "output_type": "stream",
       "stream": "stdout",
       "text": [
        " \r",
        "555"
       ]
      },
      {
       "output_type": "stream",
       "stream": "stdout",
       "text": [
        " \r",
        "560"
       ]
      },
      {
       "output_type": "stream",
       "stream": "stdout",
       "text": [
        " \r",
        "565"
       ]
      },
      {
       "output_type": "stream",
       "stream": "stdout",
       "text": [
        " \r",
        "570"
       ]
      },
      {
       "output_type": "stream",
       "stream": "stdout",
       "text": [
        " \r",
        "575"
       ]
      },
      {
       "output_type": "stream",
       "stream": "stdout",
       "text": [
        " \r",
        "580"
       ]
      },
      {
       "output_type": "stream",
       "stream": "stdout",
       "text": [
        " \r",
        "585"
       ]
      },
      {
       "output_type": "stream",
       "stream": "stdout",
       "text": [
        " \r",
        "590"
       ]
      },
      {
       "output_type": "stream",
       "stream": "stdout",
       "text": [
        " \r",
        "595"
       ]
      },
      {
       "output_type": "stream",
       "stream": "stdout",
       "text": [
        " \r",
        "600"
       ]
      },
      {
       "output_type": "stream",
       "stream": "stdout",
       "text": [
        " \r",
        "605"
       ]
      },
      {
       "output_type": "stream",
       "stream": "stdout",
       "text": [
        " \r",
        "610"
       ]
      },
      {
       "output_type": "stream",
       "stream": "stdout",
       "text": [
        " \r",
        "615"
       ]
      },
      {
       "output_type": "stream",
       "stream": "stdout",
       "text": [
        " \r",
        "620"
       ]
      },
      {
       "output_type": "stream",
       "stream": "stdout",
       "text": [
        " \r",
        "625"
       ]
      },
      {
       "output_type": "stream",
       "stream": "stdout",
       "text": [
        " \r",
        "630"
       ]
      },
      {
       "output_type": "stream",
       "stream": "stdout",
       "text": [
        " \r",
        "635"
       ]
      },
      {
       "output_type": "stream",
       "stream": "stdout",
       "text": [
        " \r",
        "640"
       ]
      },
      {
       "output_type": "stream",
       "stream": "stdout",
       "text": [
        " \r",
        "645"
       ]
      },
      {
       "output_type": "stream",
       "stream": "stdout",
       "text": [
        " \r",
        "650"
       ]
      },
      {
       "output_type": "stream",
       "stream": "stdout",
       "text": [
        " \r",
        "655"
       ]
      },
      {
       "output_type": "stream",
       "stream": "stdout",
       "text": [
        " \r",
        "660"
       ]
      },
      {
       "output_type": "stream",
       "stream": "stdout",
       "text": [
        " \r",
        "665"
       ]
      },
      {
       "output_type": "stream",
       "stream": "stdout",
       "text": [
        " \r",
        "670"
       ]
      },
      {
       "output_type": "stream",
       "stream": "stdout",
       "text": [
        " \r",
        "675"
       ]
      },
      {
       "output_type": "stream",
       "stream": "stdout",
       "text": [
        " \r",
        "680"
       ]
      },
      {
       "output_type": "stream",
       "stream": "stdout",
       "text": [
        " \r",
        "685"
       ]
      },
      {
       "output_type": "stream",
       "stream": "stdout",
       "text": [
        " \r",
        "690"
       ]
      },
      {
       "output_type": "stream",
       "stream": "stdout",
       "text": [
        " \r",
        "695"
       ]
      },
      {
       "output_type": "stream",
       "stream": "stdout",
       "text": [
        " \r",
        "700"
       ]
      },
      {
       "output_type": "stream",
       "stream": "stdout",
       "text": [
        " \r",
        "705"
       ]
      },
      {
       "output_type": "stream",
       "stream": "stdout",
       "text": [
        " \r",
        "710"
       ]
      },
      {
       "output_type": "stream",
       "stream": "stdout",
       "text": [
        " \r",
        "715"
       ]
      },
      {
       "output_type": "stream",
       "stream": "stdout",
       "text": [
        " \r",
        "720"
       ]
      },
      {
       "output_type": "stream",
       "stream": "stdout",
       "text": [
        " \r",
        "725"
       ]
      },
      {
       "output_type": "stream",
       "stream": "stdout",
       "text": [
        " \r",
        "730"
       ]
      },
      {
       "output_type": "stream",
       "stream": "stdout",
       "text": [
        " \r",
        "735"
       ]
      },
      {
       "output_type": "stream",
       "stream": "stdout",
       "text": [
        " \r",
        "740"
       ]
      },
      {
       "output_type": "stream",
       "stream": "stdout",
       "text": [
        " \r",
        "745"
       ]
      },
      {
       "output_type": "stream",
       "stream": "stdout",
       "text": [
        " \r",
        "750"
       ]
      },
      {
       "output_type": "stream",
       "stream": "stdout",
       "text": [
        " \r",
        "755"
       ]
      },
      {
       "output_type": "stream",
       "stream": "stdout",
       "text": [
        " \r",
        "760"
       ]
      },
      {
       "output_type": "stream",
       "stream": "stdout",
       "text": [
        " \r",
        "765"
       ]
      },
      {
       "output_type": "stream",
       "stream": "stdout",
       "text": [
        " \r",
        "770"
       ]
      },
      {
       "output_type": "stream",
       "stream": "stdout",
       "text": [
        " \r",
        "775"
       ]
      },
      {
       "output_type": "stream",
       "stream": "stdout",
       "text": [
        " \r",
        "780"
       ]
      },
      {
       "output_type": "stream",
       "stream": "stdout",
       "text": [
        " \r",
        "785"
       ]
      },
      {
       "output_type": "stream",
       "stream": "stdout",
       "text": [
        " \r",
        "790"
       ]
      },
      {
       "output_type": "stream",
       "stream": "stdout",
       "text": [
        " \r",
        "795"
       ]
      },
      {
       "output_type": "stream",
       "stream": "stdout",
       "text": [
        " \r",
        "800"
       ]
      },
      {
       "output_type": "stream",
       "stream": "stdout",
       "text": [
        " \r",
        "805"
       ]
      },
      {
       "output_type": "stream",
       "stream": "stdout",
       "text": [
        " \r",
        "810"
       ]
      },
      {
       "output_type": "stream",
       "stream": "stdout",
       "text": [
        " \r",
        "815"
       ]
      },
      {
       "output_type": "stream",
       "stream": "stdout",
       "text": [
        " \r",
        "820"
       ]
      },
      {
       "output_type": "stream",
       "stream": "stdout",
       "text": [
        " \r",
        "825"
       ]
      },
      {
       "output_type": "stream",
       "stream": "stdout",
       "text": [
        " \r",
        "830"
       ]
      },
      {
       "output_type": "stream",
       "stream": "stdout",
       "text": [
        " \r",
        "835"
       ]
      },
      {
       "output_type": "stream",
       "stream": "stdout",
       "text": [
        " \r",
        "840"
       ]
      },
      {
       "output_type": "stream",
       "stream": "stdout",
       "text": [
        " \r",
        "845"
       ]
      },
      {
       "output_type": "stream",
       "stream": "stdout",
       "text": [
        " \r",
        "850"
       ]
      },
      {
       "output_type": "stream",
       "stream": "stdout",
       "text": [
        " \r",
        "855"
       ]
      },
      {
       "output_type": "stream",
       "stream": "stdout",
       "text": [
        " \r",
        "860"
       ]
      },
      {
       "output_type": "stream",
       "stream": "stdout",
       "text": [
        " \r",
        "865"
       ]
      },
      {
       "output_type": "stream",
       "stream": "stdout",
       "text": [
        " \r",
        "870"
       ]
      },
      {
       "output_type": "stream",
       "stream": "stdout",
       "text": [
        " \r",
        "875"
       ]
      },
      {
       "output_type": "stream",
       "stream": "stdout",
       "text": [
        " \r",
        "880"
       ]
      },
      {
       "output_type": "stream",
       "stream": "stdout",
       "text": [
        " \r",
        "885"
       ]
      },
      {
       "output_type": "stream",
       "stream": "stdout",
       "text": [
        " \r",
        "890"
       ]
      },
      {
       "output_type": "stream",
       "stream": "stdout",
       "text": [
        " \r",
        "895"
       ]
      },
      {
       "output_type": "stream",
       "stream": "stdout",
       "text": [
        " \r",
        "900"
       ]
      },
      {
       "output_type": "stream",
       "stream": "stdout",
       "text": [
        " \r",
        "905"
       ]
      },
      {
       "output_type": "stream",
       "stream": "stdout",
       "text": [
        " \r",
        "910"
       ]
      },
      {
       "output_type": "stream",
       "stream": "stdout",
       "text": [
        " \r",
        "915"
       ]
      },
      {
       "output_type": "stream",
       "stream": "stdout",
       "text": [
        " \r",
        "920"
       ]
      },
      {
       "output_type": "stream",
       "stream": "stdout",
       "text": [
        " \r",
        "925"
       ]
      },
      {
       "output_type": "stream",
       "stream": "stdout",
       "text": [
        " \r",
        "930"
       ]
      },
      {
       "output_type": "stream",
       "stream": "stdout",
       "text": [
        " \r",
        "935"
       ]
      },
      {
       "output_type": "stream",
       "stream": "stdout",
       "text": [
        " \r",
        "940"
       ]
      },
      {
       "output_type": "stream",
       "stream": "stdout",
       "text": [
        " \r",
        "945"
       ]
      },
      {
       "output_type": "stream",
       "stream": "stdout",
       "text": [
        " \r",
        "950"
       ]
      },
      {
       "output_type": "stream",
       "stream": "stdout",
       "text": [
        " \r",
        "955"
       ]
      },
      {
       "output_type": "stream",
       "stream": "stdout",
       "text": [
        " \r",
        "960"
       ]
      },
      {
       "output_type": "stream",
       "stream": "stdout",
       "text": [
        " \r",
        "965"
       ]
      },
      {
       "output_type": "stream",
       "stream": "stdout",
       "text": [
        " \r",
        "970"
       ]
      },
      {
       "output_type": "stream",
       "stream": "stdout",
       "text": [
        " \r",
        "975"
       ]
      },
      {
       "output_type": "stream",
       "stream": "stdout",
       "text": [
        " \r",
        "980"
       ]
      },
      {
       "output_type": "stream",
       "stream": "stdout",
       "text": [
        " \r",
        "985"
       ]
      },
      {
       "output_type": "stream",
       "stream": "stdout",
       "text": [
        " \r",
        "990"
       ]
      },
      {
       "output_type": "stream",
       "stream": "stdout",
       "text": [
        " \r",
        "995"
       ]
      },
      {
       "output_type": "stream",
       "stream": "stdout",
       "text": [
        " \r",
        "1000"
       ]
      },
      {
       "output_type": "stream",
       "stream": "stdout",
       "text": [
        " \r",
        "1005"
       ]
      },
      {
       "output_type": "stream",
       "stream": "stdout",
       "text": [
        " \r",
        "1010"
       ]
      },
      {
       "output_type": "stream",
       "stream": "stdout",
       "text": [
        " \r",
        "1015"
       ]
      },
      {
       "output_type": "stream",
       "stream": "stdout",
       "text": [
        " \r",
        "1020"
       ]
      },
      {
       "output_type": "stream",
       "stream": "stdout",
       "text": [
        " \r",
        "1025"
       ]
      },
      {
       "output_type": "stream",
       "stream": "stdout",
       "text": [
        " \r",
        "1030"
       ]
      },
      {
       "output_type": "stream",
       "stream": "stdout",
       "text": [
        " \r",
        "1035"
       ]
      },
      {
       "output_type": "stream",
       "stream": "stdout",
       "text": [
        " \r",
        "1040"
       ]
      },
      {
       "output_type": "stream",
       "stream": "stdout",
       "text": [
        " \r",
        "1045"
       ]
      },
      {
       "output_type": "stream",
       "stream": "stdout",
       "text": [
        " \r",
        "1050"
       ]
      },
      {
       "output_type": "stream",
       "stream": "stdout",
       "text": [
        " \r",
        "1055"
       ]
      },
      {
       "output_type": "stream",
       "stream": "stdout",
       "text": [
        " \r",
        "1060"
       ]
      },
      {
       "output_type": "stream",
       "stream": "stdout",
       "text": [
        " \r",
        "1065"
       ]
      },
      {
       "output_type": "stream",
       "stream": "stdout",
       "text": [
        " \r",
        "1070"
       ]
      },
      {
       "output_type": "stream",
       "stream": "stdout",
       "text": [
        " \r",
        "1075"
       ]
      },
      {
       "output_type": "stream",
       "stream": "stdout",
       "text": [
        " \r",
        "1080"
       ]
      },
      {
       "output_type": "stream",
       "stream": "stdout",
       "text": [
        " \r",
        "1085"
       ]
      },
      {
       "output_type": "stream",
       "stream": "stdout",
       "text": [
        " \r",
        "1090"
       ]
      },
      {
       "output_type": "stream",
       "stream": "stdout",
       "text": [
        " \r",
        "1095"
       ]
      },
      {
       "output_type": "stream",
       "stream": "stdout",
       "text": [
        " \r",
        "1100"
       ]
      },
      {
       "output_type": "stream",
       "stream": "stdout",
       "text": [
        " \r",
        "1105"
       ]
      },
      {
       "output_type": "stream",
       "stream": "stdout",
       "text": [
        " \r",
        "1110"
       ]
      },
      {
       "output_type": "stream",
       "stream": "stdout",
       "text": [
        " \r",
        "1115"
       ]
      },
      {
       "output_type": "stream",
       "stream": "stdout",
       "text": [
        " \r",
        "1120"
       ]
      },
      {
       "output_type": "stream",
       "stream": "stdout",
       "text": [
        " \r",
        "1125"
       ]
      },
      {
       "output_type": "stream",
       "stream": "stdout",
       "text": [
        " \r",
        "1130"
       ]
      },
      {
       "output_type": "stream",
       "stream": "stdout",
       "text": [
        " \r",
        "1135"
       ]
      },
      {
       "output_type": "stream",
       "stream": "stdout",
       "text": [
        " \r",
        "1140"
       ]
      },
      {
       "output_type": "stream",
       "stream": "stdout",
       "text": [
        " \r",
        "1145"
       ]
      },
      {
       "output_type": "stream",
       "stream": "stdout",
       "text": [
        " \r",
        "1150"
       ]
      },
      {
       "output_type": "stream",
       "stream": "stdout",
       "text": [
        " \r",
        "1155"
       ]
      },
      {
       "output_type": "stream",
       "stream": "stdout",
       "text": [
        " \r",
        "1160"
       ]
      },
      {
       "output_type": "stream",
       "stream": "stdout",
       "text": [
        " \r",
        "1165"
       ]
      },
      {
       "output_type": "stream",
       "stream": "stdout",
       "text": [
        " \r",
        "1170"
       ]
      },
      {
       "output_type": "stream",
       "stream": "stdout",
       "text": [
        " \r",
        "1175"
       ]
      },
      {
       "output_type": "stream",
       "stream": "stdout",
       "text": [
        " \r",
        "1180"
       ]
      },
      {
       "output_type": "stream",
       "stream": "stdout",
       "text": [
        " \r",
        "1185"
       ]
      },
      {
       "output_type": "stream",
       "stream": "stdout",
       "text": [
        " \r",
        "1190"
       ]
      },
      {
       "output_type": "stream",
       "stream": "stdout",
       "text": [
        " \r",
        "1195"
       ]
      },
      {
       "output_type": "stream",
       "stream": "stdout",
       "text": [
        " \r",
        "1200"
       ]
      },
      {
       "output_type": "stream",
       "stream": "stdout",
       "text": [
        " \r",
        "1205"
       ]
      },
      {
       "output_type": "stream",
       "stream": "stdout",
       "text": [
        " \r",
        "1210"
       ]
      },
      {
       "output_type": "stream",
       "stream": "stdout",
       "text": [
        " \r",
        "1215"
       ]
      },
      {
       "output_type": "stream",
       "stream": "stdout",
       "text": [
        " \r",
        "1220"
       ]
      },
      {
       "output_type": "stream",
       "stream": "stdout",
       "text": [
        " \r",
        "1225"
       ]
      },
      {
       "output_type": "stream",
       "stream": "stdout",
       "text": [
        " \r",
        "1230"
       ]
      },
      {
       "output_type": "stream",
       "stream": "stdout",
       "text": [
        " \r",
        "1235"
       ]
      },
      {
       "output_type": "stream",
       "stream": "stdout",
       "text": [
        " \r",
        "1240"
       ]
      },
      {
       "output_type": "stream",
       "stream": "stdout",
       "text": [
        " \r",
        "1245"
       ]
      },
      {
       "output_type": "stream",
       "stream": "stdout",
       "text": [
        " \r",
        "1250"
       ]
      },
      {
       "output_type": "stream",
       "stream": "stdout",
       "text": [
        " \r",
        "1255"
       ]
      },
      {
       "output_type": "stream",
       "stream": "stdout",
       "text": [
        " \r",
        "1260"
       ]
      },
      {
       "output_type": "stream",
       "stream": "stdout",
       "text": [
        " \r",
        "1265"
       ]
      },
      {
       "output_type": "stream",
       "stream": "stdout",
       "text": [
        " \r",
        "1270"
       ]
      },
      {
       "output_type": "stream",
       "stream": "stdout",
       "text": [
        " \r",
        "1275"
       ]
      },
      {
       "output_type": "stream",
       "stream": "stdout",
       "text": [
        " \r",
        "1280"
       ]
      },
      {
       "output_type": "stream",
       "stream": "stdout",
       "text": [
        " \r",
        "1285"
       ]
      },
      {
       "output_type": "stream",
       "stream": "stdout",
       "text": [
        " \r",
        "1290"
       ]
      },
      {
       "output_type": "stream",
       "stream": "stdout",
       "text": [
        " \r",
        "1295"
       ]
      },
      {
       "output_type": "stream",
       "stream": "stdout",
       "text": [
        " \r",
        "1300"
       ]
      },
      {
       "output_type": "stream",
       "stream": "stdout",
       "text": [
        " \r",
        "1305"
       ]
      },
      {
       "output_type": "stream",
       "stream": "stdout",
       "text": [
        " \r",
        "1310"
       ]
      },
      {
       "output_type": "stream",
       "stream": "stdout",
       "text": [
        " \r",
        "1315"
       ]
      },
      {
       "output_type": "stream",
       "stream": "stdout",
       "text": [
        " \r",
        "1320"
       ]
      },
      {
       "output_type": "stream",
       "stream": "stdout",
       "text": [
        " \r",
        "1325"
       ]
      },
      {
       "output_type": "stream",
       "stream": "stdout",
       "text": [
        " \r",
        "1330"
       ]
      },
      {
       "output_type": "stream",
       "stream": "stdout",
       "text": [
        " \r",
        "1335"
       ]
      },
      {
       "output_type": "stream",
       "stream": "stdout",
       "text": [
        " \r",
        "1340"
       ]
      },
      {
       "output_type": "stream",
       "stream": "stdout",
       "text": [
        " \r",
        "1345"
       ]
      },
      {
       "output_type": "stream",
       "stream": "stdout",
       "text": [
        " \r",
        "1350"
       ]
      },
      {
       "output_type": "stream",
       "stream": "stdout",
       "text": [
        " \r",
        "1355"
       ]
      },
      {
       "output_type": "stream",
       "stream": "stdout",
       "text": [
        " \r",
        "1360"
       ]
      },
      {
       "output_type": "stream",
       "stream": "stdout",
       "text": [
        " \r",
        "1365"
       ]
      },
      {
       "output_type": "stream",
       "stream": "stdout",
       "text": [
        " \r",
        "1370"
       ]
      },
      {
       "output_type": "stream",
       "stream": "stdout",
       "text": [
        " \r",
        "1375"
       ]
      },
      {
       "output_type": "stream",
       "stream": "stdout",
       "text": [
        " \r",
        "1380"
       ]
      },
      {
       "output_type": "stream",
       "stream": "stdout",
       "text": [
        " \r",
        "1385"
       ]
      },
      {
       "output_type": "stream",
       "stream": "stdout",
       "text": [
        " \r",
        "1390"
       ]
      },
      {
       "output_type": "stream",
       "stream": "stdout",
       "text": [
        " \r",
        "1395"
       ]
      },
      {
       "output_type": "stream",
       "stream": "stdout",
       "text": [
        " \r",
        "1400"
       ]
      },
      {
       "output_type": "stream",
       "stream": "stdout",
       "text": [
        " \r",
        "1405"
       ]
      },
      {
       "output_type": "stream",
       "stream": "stdout",
       "text": [
        " \r",
        "1410"
       ]
      },
      {
       "output_type": "stream",
       "stream": "stdout",
       "text": [
        " \r",
        "1415"
       ]
      },
      {
       "output_type": "stream",
       "stream": "stdout",
       "text": [
        " \r",
        "1420"
       ]
      },
      {
       "output_type": "stream",
       "stream": "stdout",
       "text": [
        " \r",
        "1425"
       ]
      },
      {
       "output_type": "stream",
       "stream": "stdout",
       "text": [
        " \r",
        "1430"
       ]
      },
      {
       "output_type": "stream",
       "stream": "stdout",
       "text": [
        " \r",
        "1435"
       ]
      },
      {
       "output_type": "stream",
       "stream": "stdout",
       "text": [
        " \r",
        "1440"
       ]
      },
      {
       "output_type": "stream",
       "stream": "stdout",
       "text": [
        " \r",
        "1445"
       ]
      },
      {
       "output_type": "stream",
       "stream": "stdout",
       "text": [
        " \r",
        "1450"
       ]
      },
      {
       "output_type": "stream",
       "stream": "stdout",
       "text": [
        " \r",
        "1455"
       ]
      },
      {
       "output_type": "stream",
       "stream": "stdout",
       "text": [
        " \r",
        "1460"
       ]
      },
      {
       "output_type": "stream",
       "stream": "stdout",
       "text": [
        " \r",
        "1465"
       ]
      },
      {
       "output_type": "stream",
       "stream": "stdout",
       "text": [
        " \r",
        "1470"
       ]
      },
      {
       "output_type": "stream",
       "stream": "stdout",
       "text": [
        " \r",
        "1475"
       ]
      },
      {
       "output_type": "stream",
       "stream": "stdout",
       "text": [
        " \r",
        "1480"
       ]
      },
      {
       "output_type": "stream",
       "stream": "stdout",
       "text": [
        " \r",
        "1485"
       ]
      },
      {
       "output_type": "stream",
       "stream": "stdout",
       "text": [
        " \r",
        "1490"
       ]
      },
      {
       "output_type": "stream",
       "stream": "stdout",
       "text": [
        " \r",
        "1495"
       ]
      },
      {
       "output_type": "stream",
       "stream": "stdout",
       "text": [
        " \r",
        "1500"
       ]
      },
      {
       "output_type": "stream",
       "stream": "stdout",
       "text": [
        " \r",
        "1505"
       ]
      },
      {
       "output_type": "stream",
       "stream": "stdout",
       "text": [
        " \r",
        "1510"
       ]
      },
      {
       "output_type": "stream",
       "stream": "stdout",
       "text": [
        " \r",
        "1515"
       ]
      },
      {
       "output_type": "stream",
       "stream": "stdout",
       "text": [
        " \r",
        "1520"
       ]
      },
      {
       "output_type": "stream",
       "stream": "stdout",
       "text": [
        " \r",
        "1525"
       ]
      },
      {
       "output_type": "stream",
       "stream": "stdout",
       "text": [
        " \r",
        "1530"
       ]
      },
      {
       "output_type": "stream",
       "stream": "stdout",
       "text": [
        " \r",
        "1535"
       ]
      },
      {
       "output_type": "stream",
       "stream": "stdout",
       "text": [
        " \r",
        "1540"
       ]
      },
      {
       "output_type": "stream",
       "stream": "stdout",
       "text": [
        " \r",
        "1545"
       ]
      },
      {
       "output_type": "stream",
       "stream": "stdout",
       "text": [
        " \r",
        "1550"
       ]
      },
      {
       "output_type": "stream",
       "stream": "stdout",
       "text": [
        " \r",
        "1555"
       ]
      },
      {
       "output_type": "stream",
       "stream": "stdout",
       "text": [
        " \r",
        "1560"
       ]
      },
      {
       "output_type": "stream",
       "stream": "stdout",
       "text": [
        " \r",
        "1565"
       ]
      },
      {
       "output_type": "stream",
       "stream": "stdout",
       "text": [
        " \r",
        "1570"
       ]
      },
      {
       "output_type": "stream",
       "stream": "stdout",
       "text": [
        " \r",
        "1575"
       ]
      },
      {
       "output_type": "stream",
       "stream": "stdout",
       "text": [
        " \r",
        "1580"
       ]
      },
      {
       "output_type": "stream",
       "stream": "stdout",
       "text": [
        " \r",
        "1585"
       ]
      },
      {
       "output_type": "stream",
       "stream": "stdout",
       "text": [
        " \r",
        "1590"
       ]
      },
      {
       "output_type": "stream",
       "stream": "stdout",
       "text": [
        " \r",
        "1595"
       ]
      },
      {
       "output_type": "stream",
       "stream": "stdout",
       "text": [
        " \r",
        "1600"
       ]
      },
      {
       "output_type": "stream",
       "stream": "stdout",
       "text": [
        " \r",
        "1605"
       ]
      },
      {
       "output_type": "stream",
       "stream": "stdout",
       "text": [
        " \r",
        "1610"
       ]
      },
      {
       "output_type": "stream",
       "stream": "stdout",
       "text": [
        " \r",
        "1615"
       ]
      },
      {
       "output_type": "stream",
       "stream": "stdout",
       "text": [
        " \r",
        "1620"
       ]
      },
      {
       "output_type": "stream",
       "stream": "stdout",
       "text": [
        " \r",
        "1625"
       ]
      },
      {
       "output_type": "stream",
       "stream": "stdout",
       "text": [
        " \r",
        "1630"
       ]
      },
      {
       "output_type": "stream",
       "stream": "stdout",
       "text": [
        " \r",
        "1635"
       ]
      },
      {
       "output_type": "stream",
       "stream": "stdout",
       "text": [
        " \r",
        "1640"
       ]
      },
      {
       "output_type": "stream",
       "stream": "stdout",
       "text": [
        " \r",
        "1645"
       ]
      },
      {
       "output_type": "stream",
       "stream": "stdout",
       "text": [
        " \r",
        "1650"
       ]
      },
      {
       "output_type": "stream",
       "stream": "stdout",
       "text": [
        " \r",
        "1655"
       ]
      },
      {
       "output_type": "stream",
       "stream": "stdout",
       "text": [
        " \r",
        "1660"
       ]
      },
      {
       "output_type": "stream",
       "stream": "stdout",
       "text": [
        " \r",
        "1665"
       ]
      },
      {
       "output_type": "stream",
       "stream": "stdout",
       "text": [
        " \r",
        "1670"
       ]
      },
      {
       "output_type": "stream",
       "stream": "stdout",
       "text": [
        " \r",
        "1675"
       ]
      },
      {
       "output_type": "stream",
       "stream": "stdout",
       "text": [
        " \r",
        "1680"
       ]
      },
      {
       "output_type": "stream",
       "stream": "stdout",
       "text": [
        " \r",
        "1685"
       ]
      },
      {
       "output_type": "stream",
       "stream": "stdout",
       "text": [
        " \r",
        "1690"
       ]
      },
      {
       "output_type": "stream",
       "stream": "stdout",
       "text": [
        " \r",
        "1695"
       ]
      },
      {
       "output_type": "stream",
       "stream": "stdout",
       "text": [
        " \r",
        "1700"
       ]
      },
      {
       "output_type": "stream",
       "stream": "stdout",
       "text": [
        " \r",
        "1705"
       ]
      },
      {
       "output_type": "stream",
       "stream": "stdout",
       "text": [
        " \r",
        "1710"
       ]
      },
      {
       "output_type": "stream",
       "stream": "stdout",
       "text": [
        " \r",
        "1715"
       ]
      },
      {
       "output_type": "stream",
       "stream": "stdout",
       "text": [
        " \r",
        "1720"
       ]
      },
      {
       "output_type": "stream",
       "stream": "stdout",
       "text": [
        " \r",
        "1725"
       ]
      },
      {
       "output_type": "stream",
       "stream": "stdout",
       "text": [
        " \r",
        "1730"
       ]
      },
      {
       "output_type": "stream",
       "stream": "stdout",
       "text": [
        " \r",
        "1735"
       ]
      },
      {
       "output_type": "stream",
       "stream": "stdout",
       "text": [
        " \r",
        "1740"
       ]
      },
      {
       "output_type": "stream",
       "stream": "stdout",
       "text": [
        " \r",
        "1745"
       ]
      },
      {
       "output_type": "stream",
       "stream": "stdout",
       "text": [
        " \r",
        "1750"
       ]
      },
      {
       "output_type": "stream",
       "stream": "stdout",
       "text": [
        " \r",
        "1755"
       ]
      },
      {
       "output_type": "stream",
       "stream": "stdout",
       "text": [
        " \r",
        "1760"
       ]
      },
      {
       "output_type": "stream",
       "stream": "stdout",
       "text": [
        " \r",
        "1765"
       ]
      },
      {
       "output_type": "stream",
       "stream": "stdout",
       "text": [
        " \r",
        "1770"
       ]
      },
      {
       "output_type": "stream",
       "stream": "stdout",
       "text": [
        " \r",
        "1775"
       ]
      },
      {
       "output_type": "stream",
       "stream": "stdout",
       "text": [
        " \r",
        "1780"
       ]
      },
      {
       "output_type": "stream",
       "stream": "stdout",
       "text": [
        " \r",
        "1785"
       ]
      },
      {
       "output_type": "stream",
       "stream": "stdout",
       "text": [
        " \r",
        "1790"
       ]
      },
      {
       "output_type": "stream",
       "stream": "stdout",
       "text": [
        " \r",
        "1795"
       ]
      },
      {
       "output_type": "stream",
       "stream": "stdout",
       "text": [
        " \r",
        "1800"
       ]
      },
      {
       "output_type": "stream",
       "stream": "stdout",
       "text": [
        " \r",
        "1805"
       ]
      },
      {
       "output_type": "stream",
       "stream": "stdout",
       "text": [
        " \r",
        "1810"
       ]
      },
      {
       "output_type": "stream",
       "stream": "stdout",
       "text": [
        " \r",
        "1815"
       ]
      },
      {
       "output_type": "stream",
       "stream": "stdout",
       "text": [
        " \r",
        "1820"
       ]
      },
      {
       "output_type": "stream",
       "stream": "stdout",
       "text": [
        " \r",
        "1825"
       ]
      },
      {
       "output_type": "stream",
       "stream": "stdout",
       "text": [
        " \r",
        "1830"
       ]
      },
      {
       "output_type": "stream",
       "stream": "stdout",
       "text": [
        " \r",
        "1835"
       ]
      },
      {
       "output_type": "stream",
       "stream": "stdout",
       "text": [
        " \r",
        "1840"
       ]
      },
      {
       "output_type": "stream",
       "stream": "stdout",
       "text": [
        " \r",
        "1845"
       ]
      },
      {
       "output_type": "stream",
       "stream": "stdout",
       "text": [
        " \r",
        "1850"
       ]
      },
      {
       "output_type": "stream",
       "stream": "stdout",
       "text": [
        " \r",
        "1855"
       ]
      },
      {
       "output_type": "stream",
       "stream": "stdout",
       "text": [
        " \r",
        "1860"
       ]
      },
      {
       "output_type": "stream",
       "stream": "stdout",
       "text": [
        " \r",
        "1865"
       ]
      },
      {
       "output_type": "stream",
       "stream": "stdout",
       "text": [
        " \r",
        "1870"
       ]
      },
      {
       "output_type": "stream",
       "stream": "stdout",
       "text": [
        " \r",
        "1875"
       ]
      },
      {
       "output_type": "stream",
       "stream": "stdout",
       "text": [
        " \r",
        "1880"
       ]
      },
      {
       "output_type": "stream",
       "stream": "stdout",
       "text": [
        " \r",
        "1885"
       ]
      },
      {
       "output_type": "stream",
       "stream": "stdout",
       "text": [
        " \r",
        "1890"
       ]
      },
      {
       "output_type": "stream",
       "stream": "stdout",
       "text": [
        " \r",
        "1895"
       ]
      },
      {
       "output_type": "stream",
       "stream": "stdout",
       "text": [
        " \r",
        "1900"
       ]
      },
      {
       "output_type": "stream",
       "stream": "stdout",
       "text": [
        " \r",
        "1905"
       ]
      },
      {
       "output_type": "stream",
       "stream": "stdout",
       "text": [
        " \r",
        "1910"
       ]
      },
      {
       "output_type": "stream",
       "stream": "stdout",
       "text": [
        " \r",
        "1915"
       ]
      },
      {
       "output_type": "stream",
       "stream": "stdout",
       "text": [
        " \r",
        "1920"
       ]
      },
      {
       "output_type": "stream",
       "stream": "stdout",
       "text": [
        " \r",
        "1925"
       ]
      },
      {
       "output_type": "stream",
       "stream": "stdout",
       "text": [
        " \r",
        "1930"
       ]
      },
      {
       "output_type": "stream",
       "stream": "stdout",
       "text": [
        " \r",
        "1935"
       ]
      },
      {
       "output_type": "stream",
       "stream": "stdout",
       "text": [
        " \r",
        "1940"
       ]
      },
      {
       "output_type": "stream",
       "stream": "stdout",
       "text": [
        " \r",
        "1945"
       ]
      },
      {
       "output_type": "stream",
       "stream": "stdout",
       "text": [
        " \r",
        "1950"
       ]
      },
      {
       "output_type": "stream",
       "stream": "stdout",
       "text": [
        " \r",
        "1955"
       ]
      },
      {
       "output_type": "stream",
       "stream": "stdout",
       "text": [
        " \r",
        "1960"
       ]
      },
      {
       "output_type": "stream",
       "stream": "stdout",
       "text": [
        " \r",
        "1965"
       ]
      },
      {
       "output_type": "stream",
       "stream": "stdout",
       "text": [
        " \r",
        "1970"
       ]
      },
      {
       "output_type": "stream",
       "stream": "stdout",
       "text": [
        " \r",
        "1975"
       ]
      },
      {
       "output_type": "stream",
       "stream": "stdout",
       "text": [
        " \r",
        "1980"
       ]
      },
      {
       "output_type": "stream",
       "stream": "stdout",
       "text": [
        " \r",
        "1985"
       ]
      },
      {
       "output_type": "stream",
       "stream": "stdout",
       "text": [
        " \r",
        "1990"
       ]
      },
      {
       "output_type": "stream",
       "stream": "stdout",
       "text": [
        " \r",
        "1995"
       ]
      },
      {
       "output_type": "stream",
       "stream": "stdout",
       "text": [
        " \r",
        "2000"
       ]
      },
      {
       "output_type": "stream",
       "stream": "stdout",
       "text": [
        " \r",
        "2005"
       ]
      },
      {
       "output_type": "stream",
       "stream": "stdout",
       "text": [
        " \r",
        "2010"
       ]
      },
      {
       "output_type": "stream",
       "stream": "stdout",
       "text": [
        " \r",
        "2015"
       ]
      },
      {
       "output_type": "stream",
       "stream": "stdout",
       "text": [
        " \r",
        "2020"
       ]
      },
      {
       "output_type": "stream",
       "stream": "stdout",
       "text": [
        " \r",
        "2025"
       ]
      },
      {
       "output_type": "stream",
       "stream": "stdout",
       "text": [
        " \r",
        "2030"
       ]
      },
      {
       "output_type": "stream",
       "stream": "stdout",
       "text": [
        " \r",
        "2035"
       ]
      },
      {
       "output_type": "stream",
       "stream": "stdout",
       "text": [
        " \r",
        "2040"
       ]
      },
      {
       "output_type": "stream",
       "stream": "stdout",
       "text": [
        " \r",
        "2045"
       ]
      },
      {
       "output_type": "stream",
       "stream": "stdout",
       "text": [
        " \r",
        "2050"
       ]
      },
      {
       "output_type": "stream",
       "stream": "stdout",
       "text": [
        " \r",
        "2055"
       ]
      },
      {
       "output_type": "stream",
       "stream": "stdout",
       "text": [
        " \r",
        "2060"
       ]
      },
      {
       "output_type": "stream",
       "stream": "stdout",
       "text": [
        " \r",
        "2065"
       ]
      },
      {
       "output_type": "stream",
       "stream": "stdout",
       "text": [
        " \r",
        "2070"
       ]
      },
      {
       "output_type": "stream",
       "stream": "stdout",
       "text": [
        " \r",
        "2075"
       ]
      },
      {
       "output_type": "stream",
       "stream": "stdout",
       "text": [
        " \r",
        "2080"
       ]
      },
      {
       "output_type": "stream",
       "stream": "stdout",
       "text": [
        " \r",
        "2085"
       ]
      },
      {
       "output_type": "stream",
       "stream": "stdout",
       "text": [
        " \r",
        "2090"
       ]
      },
      {
       "output_type": "stream",
       "stream": "stdout",
       "text": [
        " \r",
        "2095"
       ]
      },
      {
       "output_type": "stream",
       "stream": "stdout",
       "text": [
        " \r",
        "2100"
       ]
      },
      {
       "output_type": "stream",
       "stream": "stdout",
       "text": [
        " \r",
        "2105"
       ]
      },
      {
       "output_type": "stream",
       "stream": "stdout",
       "text": [
        " \r",
        "2110"
       ]
      },
      {
       "output_type": "stream",
       "stream": "stdout",
       "text": [
        " \r",
        "2115"
       ]
      },
      {
       "output_type": "stream",
       "stream": "stdout",
       "text": [
        " \r",
        "2120"
       ]
      },
      {
       "output_type": "stream",
       "stream": "stdout",
       "text": [
        " \r",
        "2125"
       ]
      },
      {
       "output_type": "stream",
       "stream": "stdout",
       "text": [
        " \r",
        "2130"
       ]
      },
      {
       "output_type": "stream",
       "stream": "stdout",
       "text": [
        " \r",
        "2135"
       ]
      },
      {
       "output_type": "stream",
       "stream": "stdout",
       "text": [
        " \r",
        "2140"
       ]
      },
      {
       "output_type": "stream",
       "stream": "stdout",
       "text": [
        " \r",
        "2145"
       ]
      },
      {
       "output_type": "stream",
       "stream": "stdout",
       "text": [
        " \r",
        "2150"
       ]
      },
      {
       "output_type": "stream",
       "stream": "stdout",
       "text": [
        " \r",
        "2155"
       ]
      },
      {
       "output_type": "stream",
       "stream": "stdout",
       "text": [
        " \r",
        "2160"
       ]
      },
      {
       "output_type": "stream",
       "stream": "stdout",
       "text": [
        " \r",
        "2165"
       ]
      },
      {
       "output_type": "stream",
       "stream": "stdout",
       "text": [
        " \r",
        "2170"
       ]
      },
      {
       "output_type": "stream",
       "stream": "stdout",
       "text": [
        " \r",
        "2175"
       ]
      },
      {
       "output_type": "stream",
       "stream": "stdout",
       "text": [
        " \r",
        "2180"
       ]
      },
      {
       "output_type": "stream",
       "stream": "stdout",
       "text": [
        " \r",
        "2185"
       ]
      },
      {
       "output_type": "stream",
       "stream": "stdout",
       "text": [
        " \r",
        "2190"
       ]
      },
      {
       "output_type": "stream",
       "stream": "stdout",
       "text": [
        " \r",
        "2195"
       ]
      },
      {
       "output_type": "stream",
       "stream": "stdout",
       "text": [
        " \r",
        "2200"
       ]
      },
      {
       "output_type": "stream",
       "stream": "stdout",
       "text": [
        " \r",
        "2205"
       ]
      },
      {
       "output_type": "stream",
       "stream": "stdout",
       "text": [
        " \r",
        "2210"
       ]
      },
      {
       "output_type": "stream",
       "stream": "stdout",
       "text": [
        " \r",
        "2215"
       ]
      },
      {
       "output_type": "stream",
       "stream": "stdout",
       "text": [
        " \r",
        "2220"
       ]
      },
      {
       "output_type": "stream",
       "stream": "stdout",
       "text": [
        " \r",
        "2225"
       ]
      },
      {
       "output_type": "stream",
       "stream": "stdout",
       "text": [
        " \r",
        "2230"
       ]
      },
      {
       "output_type": "stream",
       "stream": "stdout",
       "text": [
        " \r",
        "2235"
       ]
      },
      {
       "output_type": "stream",
       "stream": "stdout",
       "text": [
        " \r",
        "2240"
       ]
      },
      {
       "output_type": "stream",
       "stream": "stdout",
       "text": [
        " \r",
        "2245"
       ]
      },
      {
       "output_type": "stream",
       "stream": "stdout",
       "text": [
        " \r",
        "2250"
       ]
      },
      {
       "output_type": "stream",
       "stream": "stdout",
       "text": [
        " \r",
        "2255"
       ]
      },
      {
       "output_type": "stream",
       "stream": "stdout",
       "text": [
        " \r",
        "2260"
       ]
      },
      {
       "output_type": "stream",
       "stream": "stdout",
       "text": [
        " \r",
        "2265"
       ]
      },
      {
       "output_type": "stream",
       "stream": "stdout",
       "text": [
        " \r",
        "2270"
       ]
      },
      {
       "output_type": "stream",
       "stream": "stdout",
       "text": [
        " \r",
        "2275"
       ]
      },
      {
       "output_type": "stream",
       "stream": "stdout",
       "text": [
        " \r",
        "2280"
       ]
      },
      {
       "output_type": "stream",
       "stream": "stdout",
       "text": [
        " \r",
        "2285"
       ]
      },
      {
       "output_type": "stream",
       "stream": "stdout",
       "text": [
        " \r",
        "2290"
       ]
      },
      {
       "output_type": "stream",
       "stream": "stdout",
       "text": [
        " \r",
        "2295"
       ]
      },
      {
       "output_type": "stream",
       "stream": "stdout",
       "text": [
        " \r",
        "2300"
       ]
      },
      {
       "output_type": "stream",
       "stream": "stdout",
       "text": [
        " \r",
        "2305"
       ]
      },
      {
       "output_type": "stream",
       "stream": "stdout",
       "text": [
        " \r",
        "2310"
       ]
      },
      {
       "output_type": "stream",
       "stream": "stdout",
       "text": [
        " \r",
        "2315"
       ]
      },
      {
       "output_type": "stream",
       "stream": "stdout",
       "text": [
        " \r",
        "2320"
       ]
      },
      {
       "output_type": "stream",
       "stream": "stdout",
       "text": [
        " \r",
        "2325"
       ]
      },
      {
       "output_type": "stream",
       "stream": "stdout",
       "text": [
        " \r",
        "2330"
       ]
      },
      {
       "output_type": "stream",
       "stream": "stdout",
       "text": [
        " \r",
        "2335"
       ]
      },
      {
       "output_type": "stream",
       "stream": "stdout",
       "text": [
        " \r",
        "2340"
       ]
      },
      {
       "output_type": "stream",
       "stream": "stdout",
       "text": [
        " \r",
        "2345"
       ]
      },
      {
       "output_type": "stream",
       "stream": "stdout",
       "text": [
        " \r",
        "2350"
       ]
      },
      {
       "output_type": "stream",
       "stream": "stdout",
       "text": [
        " \r",
        "2355"
       ]
      },
      {
       "output_type": "stream",
       "stream": "stdout",
       "text": [
        " \r",
        "2360"
       ]
      },
      {
       "output_type": "stream",
       "stream": "stdout",
       "text": [
        " \r",
        "2365"
       ]
      },
      {
       "output_type": "stream",
       "stream": "stdout",
       "text": [
        " \r",
        "2370"
       ]
      },
      {
       "output_type": "stream",
       "stream": "stdout",
       "text": [
        " \r",
        "2375"
       ]
      },
      {
       "output_type": "stream",
       "stream": "stdout",
       "text": [
        " \r",
        "2380"
       ]
      },
      {
       "output_type": "stream",
       "stream": "stdout",
       "text": [
        " \r",
        "2385"
       ]
      },
      {
       "output_type": "stream",
       "stream": "stdout",
       "text": [
        " \r",
        "2390"
       ]
      },
      {
       "output_type": "stream",
       "stream": "stdout",
       "text": [
        " \r",
        "2395"
       ]
      },
      {
       "output_type": "stream",
       "stream": "stdout",
       "text": [
        " \r",
        "2400"
       ]
      },
      {
       "output_type": "stream",
       "stream": "stdout",
       "text": [
        " \r",
        "2405"
       ]
      },
      {
       "output_type": "stream",
       "stream": "stdout",
       "text": [
        " \r",
        "2410"
       ]
      },
      {
       "output_type": "stream",
       "stream": "stdout",
       "text": [
        " \r",
        "2415"
       ]
      },
      {
       "output_type": "stream",
       "stream": "stdout",
       "text": [
        " \r",
        "2420"
       ]
      },
      {
       "output_type": "stream",
       "stream": "stdout",
       "text": [
        " \r",
        "2425"
       ]
      },
      {
       "output_type": "stream",
       "stream": "stdout",
       "text": [
        " \r",
        "2430"
       ]
      },
      {
       "output_type": "stream",
       "stream": "stdout",
       "text": [
        " \r",
        "2435"
       ]
      },
      {
       "output_type": "stream",
       "stream": "stdout",
       "text": [
        " \r",
        "2440"
       ]
      },
      {
       "output_type": "stream",
       "stream": "stdout",
       "text": [
        " \r",
        "2445"
       ]
      },
      {
       "output_type": "stream",
       "stream": "stdout",
       "text": [
        " \r",
        "2450"
       ]
      },
      {
       "output_type": "stream",
       "stream": "stdout",
       "text": [
        " \r",
        "2455"
       ]
      },
      {
       "output_type": "stream",
       "stream": "stdout",
       "text": [
        " \r"
       ]
      }
     ],
     "prompt_number": 147
    },
    {
     "cell_type": "code",
     "collapsed": false,
     "input": [
      "df_intra_landmark_distances = pd.concat(intra_landmark_distances, axis=1).transpose()\n",
      "print np.shape(df_intra_landmark_distances)\n",
      "df_intra_landmark_distances.head()"
     ],
     "language": "python",
     "metadata": {},
     "outputs": [
      {
       "output_type": "stream",
       "stream": "stdout",
       "text": [
        "(2460, 2460)\n"
       ]
      },
      {
       "html": [
        "<div style=\"max-height:1000px;max-width:1500px;overflow:auto;\">\n",
        "<table border=\"1\" class=\"dataframe\">\n",
        "  <thead>\n",
        "    <tr style=\"text-align: right;\">\n",
        "      <th></th>\n",
        "      <th>0</th>\n",
        "      <th>1</th>\n",
        "      <th>2</th>\n",
        "      <th>3</th>\n",
        "      <th>4</th>\n",
        "      <th>5</th>\n",
        "      <th>6</th>\n",
        "      <th>7</th>\n",
        "      <th>8</th>\n",
        "      <th>9</th>\n",
        "      <th>...</th>\n",
        "      <th>2450</th>\n",
        "      <th>2451</th>\n",
        "      <th>2452</th>\n",
        "      <th>2453</th>\n",
        "      <th>2454</th>\n",
        "      <th>2455</th>\n",
        "      <th>2456</th>\n",
        "      <th>2457</th>\n",
        "      <th>2458</th>\n",
        "      <th>2459</th>\n",
        "    </tr>\n",
        "  </thead>\n",
        "  <tbody>\n",
        "    <tr>\n",
        "      <th>0</th>\n",
        "      <td>      NaN</td>\n",
        "      <td> 0.211077</td>\n",
        "      <td> 5.194609</td>\n",
        "      <td> 1.465339</td>\n",
        "      <td> 0.114627</td>\n",
        "      <td> 0.214171</td>\n",
        "      <td> 0.338247</td>\n",
        "      <td>  9.253575</td>\n",
        "      <td> 1.064270</td>\n",
        "      <td> 0.459345</td>\n",
        "      <td>...</td>\n",
        "      <td> 2690.902446</td>\n",
        "      <td> 2696.749744</td>\n",
        "      <td> 2698.554597</td>\n",
        "      <td> 2536.368458</td>\n",
        "      <td> 2698.273247</td>\n",
        "      <td> 2540.604496</td>\n",
        "      <td> 2599.683267</td>\n",
        "      <td> 2566.223733</td>\n",
        "      <td> 2606.098252</td>\n",
        "      <td> 2452.998368</td>\n",
        "    </tr>\n",
        "    <tr>\n",
        "      <th>1</th>\n",
        "      <td> 0.211077</td>\n",
        "      <td>      NaN</td>\n",
        "      <td> 5.001337</td>\n",
        "      <td> 1.335984</td>\n",
        "      <td> 0.097172</td>\n",
        "      <td> 0.237710</td>\n",
        "      <td> 0.135950</td>\n",
        "      <td>  9.246543</td>\n",
        "      <td> 1.269757</td>\n",
        "      <td> 0.267049</td>\n",
        "      <td>...</td>\n",
        "      <td> 2690.899286</td>\n",
        "      <td> 2696.749645</td>\n",
        "      <td> 2698.554038</td>\n",
        "      <td> 2536.347708</td>\n",
        "      <td> 2698.272859</td>\n",
        "      <td> 2540.567448</td>\n",
        "      <td> 2599.653626</td>\n",
        "      <td> 2566.216691</td>\n",
        "      <td> 2606.071783</td>\n",
        "      <td> 2452.953621</td>\n",
        "    </tr>\n",
        "    <tr>\n",
        "      <th>2</th>\n",
        "      <td> 5.194609</td>\n",
        "      <td> 5.001337</td>\n",
        "      <td>      NaN</td>\n",
        "      <td> 3.925084</td>\n",
        "      <td> 5.086281</td>\n",
        "      <td> 5.203492</td>\n",
        "      <td> 4.916269</td>\n",
        "      <td> 12.105514</td>\n",
        "      <td> 6.248538</td>\n",
        "      <td> 4.737220</td>\n",
        "      <td>...</td>\n",
        "      <td> 2688.785737</td>\n",
        "      <td> 2694.702066</td>\n",
        "      <td> 2696.496500</td>\n",
        "      <td> 2533.863627</td>\n",
        "      <td> 2696.219014</td>\n",
        "      <td> 2537.752668</td>\n",
        "      <td> 2596.987477</td>\n",
        "      <td> 2564.020325</td>\n",
        "      <td> 2603.470121</td>\n",
        "      <td> 2449.987169</td>\n",
        "    </tr>\n",
        "    <tr>\n",
        "      <th>3</th>\n",
        "      <td> 1.465339</td>\n",
        "      <td> 1.335984</td>\n",
        "      <td> 3.925084</td>\n",
        "      <td>      NaN</td>\n",
        "      <td> 1.385930</td>\n",
        "      <td> 1.573668</td>\n",
        "      <td> 1.324335</td>\n",
        "      <td> 10.362620</td>\n",
        "      <td> 2.419324</td>\n",
        "      <td> 1.095700</td>\n",
        "      <td>...</td>\n",
        "      <td> 2689.784570</td>\n",
        "      <td> 2695.645728</td>\n",
        "      <td> 2697.448481</td>\n",
        "      <td> 2535.175461</td>\n",
        "      <td> 2697.167909</td>\n",
        "      <td> 2539.348839</td>\n",
        "      <td> 2598.455243</td>\n",
        "      <td> 2565.088625</td>\n",
        "      <td> 2604.882495</td>\n",
        "      <td> 2451.715497</td>\n",
        "    </tr>\n",
        "    <tr>\n",
        "      <th>4</th>\n",
        "      <td> 0.114627</td>\n",
        "      <td> 0.097172</td>\n",
        "      <td> 5.086281</td>\n",
        "      <td> 1.385930</td>\n",
        "      <td>      NaN</td>\n",
        "      <td> 0.209998</td>\n",
        "      <td> 0.229206</td>\n",
        "      <td>  9.257870</td>\n",
        "      <td> 1.177291</td>\n",
        "      <td> 0.349114</td>\n",
        "      <td>...</td>\n",
        "      <td> 2690.892030</td>\n",
        "      <td> 2696.740985</td>\n",
        "      <td> 2698.545589</td>\n",
        "      <td> 2536.348558</td>\n",
        "      <td> 2698.264331</td>\n",
        "      <td> 2540.575864</td>\n",
        "      <td> 2599.658597</td>\n",
        "      <td> 2566.211219</td>\n",
        "      <td> 2606.075282</td>\n",
        "      <td> 2452.965630</td>\n",
        "    </tr>\n",
        "  </tbody>\n",
        "</table>\n",
        "<p>5 rows \u00d7 2460 columns</p>\n",
        "</div>"
       ],
       "metadata": {},
       "output_type": "pyout",
       "prompt_number": 148,
       "text": [
        "       0         1         2         3         4         5         6     \\\n",
        "0       NaN  0.211077  5.194609  1.465339  0.114627  0.214171  0.338247   \n",
        "1  0.211077       NaN  5.001337  1.335984  0.097172  0.237710  0.135950   \n",
        "2  5.194609  5.001337       NaN  3.925084  5.086281  5.203492  4.916269   \n",
        "3  1.465339  1.335984  3.925084       NaN  1.385930  1.573668  1.324335   \n",
        "4  0.114627  0.097172  5.086281  1.385930       NaN  0.209998  0.229206   \n",
        "\n",
        "        7         8         9        ...              2450         2451  \\\n",
        "0   9.253575  1.064270  0.459345     ...       2690.902446  2696.749744   \n",
        "1   9.246543  1.269757  0.267049     ...       2690.899286  2696.749645   \n",
        "2  12.105514  6.248538  4.737220     ...       2688.785737  2694.702066   \n",
        "3  10.362620  2.419324  1.095700     ...       2689.784570  2695.645728   \n",
        "4   9.257870  1.177291  0.349114     ...       2690.892030  2696.740985   \n",
        "\n",
        "          2452         2453         2454         2455         2456  \\\n",
        "0  2698.554597  2536.368458  2698.273247  2540.604496  2599.683267   \n",
        "1  2698.554038  2536.347708  2698.272859  2540.567448  2599.653626   \n",
        "2  2696.496500  2533.863627  2696.219014  2537.752668  2596.987477   \n",
        "3  2697.448481  2535.175461  2697.167909  2539.348839  2598.455243   \n",
        "4  2698.545589  2536.348558  2698.264331  2540.575864  2599.658597   \n",
        "\n",
        "          2457         2458         2459  \n",
        "0  2566.223733  2606.098252  2452.998368  \n",
        "1  2566.216691  2606.071783  2452.953621  \n",
        "2  2564.020325  2603.470121  2449.987169  \n",
        "3  2565.088625  2604.882495  2451.715497  \n",
        "4  2566.211219  2606.075282  2452.965630  \n",
        "\n",
        "[5 rows x 2460 columns]"
       ]
      }
     ],
     "prompt_number": 148
    },
    {
     "cell_type": "markdown",
     "metadata": {},
     "source": [
      "For each landmark, let's see the distance to its nearest landmark."
     ]
    },
    {
     "cell_type": "code",
     "collapsed": false,
     "input": [
      "min_landmark_distances = df_intra_landmark_distances.min(axis=1)\n",
      "print min_landmark_distances.describe()\n",
      "for i in (2, 5, 10, 20):\n",
      "    p = len(min_landmark_distances[min_landmark_distances.le(i)]) * 100 / float(len(min_landmark_distances))\n",
      "    print '{0:.0f}% of landmarks are within {1} miles of another landmark.'.format(p, i)"
     ],
     "language": "python",
     "metadata": {},
     "outputs": [
      {
       "output_type": "stream",
       "stream": "stdout",
       "text": [
        "count    2460.000000\n",
        "mean       10.231857\n",
        "std        21.293074\n",
        "min         0.000000\n",
        "25%         0.237931\n",
        "50%         1.813456\n",
        "75%        10.547611\n",
        "max       254.619523\n",
        "dtype: float64\n",
        "51% of landmarks are within 2 miles of another landmark.\n",
        "63% of landmarks are within 5 miles of another landmark.\n",
        "74% of landmarks are within 10 miles of another landmark.\n",
        "84% of landmarks are within 20 miles of another landmark.\n"
       ]
      }
     ],
     "prompt_number": 149
    },
    {
     "cell_type": "markdown",
     "metadata": {},
     "source": [
      "Which landmark is the farthest from its closest landmark?"
     ]
    },
    {
     "cell_type": "code",
     "collapsed": false,
     "input": [
      "target_id =  min_landmark_distances[min_landmark_distances.ge(254)].index[0]\n",
      "neighbor_id = df_intra_landmark_distances.iloc[target_id].idxmin()\n",
      "print '\"{0}\" is 254.6 miles from its closest neighbor, \"{1}.\"'.format(\n",
      "  df_landmarks.loc[target_id]['name'], df_landmarks.loc[neighbor_id]['name'])"
     ],
     "language": "python",
     "metadata": {},
     "outputs": [
      {
       "output_type": "stream",
       "stream": "stdout",
       "text": [
        "\"Seal Island Historic District\" is 254.6 miles from its closest neighbor, \"Dutch Harbor Naval Operating Base and Fort Mears, U.S. Army.\"\n"
       ]
      }
     ],
     "prompt_number": 155
    },
    {
     "cell_type": "markdown",
     "metadata": {},
     "source": [
      "Which landmarks are the closest to each other?"
     ]
    },
    {
     "cell_type": "code",
     "collapsed": false,
     "input": [
      "landmark_ids = []\n",
      "print \"The following landmark pairs are co-located:\"\n",
      "for target_id in min_landmark_distances[min_landmark_distances.eq(0)].index:\n",
      "    if target_id in landmark_ids:\n",
      "        continue\n",
      "    landmark_ids.append(target_id)\n",
      "    neighbor_id = df_intra_landmark_distances.iloc[target_id].idxmin()\n",
      "    landmark_ids.append(neighbor_id)\n",
      "    print '\\t\"{0}\" and \"{1}.\"'.format(df_landmarks.loc[target_id]['name'], df_landmarks.loc[neighbor_id]['name'])"
     ],
     "language": "python",
     "metadata": {},
     "outputs": [
      {
       "output_type": "stream",
       "stream": "stdout",
       "text": [
        "The following landmark pairs are co-located:\n",
        "\t\"Blair House\" and \"Carnegie Endowment for International Peace.\"\n",
        "\t\"Exchange\" and \"Eyre Hall.\"\n",
        "\t\"Lee Chapel, Washington and Lee University\" and \"Washington and Lee University Historic District.\"\n",
        "\t\"USS CLAMAGORE\" and \"USS LAFFEY.\"\n",
        "\t\"Lolo Trail\" and \"Lolo Trail.\"\n",
        "\t\"Modesty (sloop)\" and \"Priscilla (sloop).\"\n",
        "\t\"Rudolph Oyster House\" and \"Modesty (sloop).\"\n",
        "\t\"First Unitarian Church\" and \"Minor Basilica of the Assumption of the Blessed Virgin Mary.\"\n",
        "\t\"HILDA M. WILLING (Skipjack)\" and \"KATHRYN (Skipjack).\"\n",
        "\t\"Herbert Hoover Birthplace\" and \"Indian Village Site (Witrock Area).\"\n",
        "\t\"Aspendale\" and \"John Dickinson House.\"\n",
        "\t\"C.A. Thayer (schooner)\" and \"Wapama (steam schooner).\"\n"
       ]
      }
     ],
     "prompt_number": 188
    },
    {
     "cell_type": "markdown",
     "metadata": {},
     "source": [
      "There are quite a few co-located landmarks. Lolo Trail appears twice because it is listed on both the landmark lists for both Idaho and Montana."
     ]
    }
   ],
   "metadata": {}
  }
 ]
}