{
 "cells": [
  {
   "cell_type": "markdown",
   "metadata": {},
   "source": [
    "# 2015 San Diego DataThon -- Healthy Food Access\n",
    "The San Diego Regional Data Library, the SDSU Society for Statisticians and Actuaries and Teradata organized a data analysis contest to aid nonprofits, journalists and government agencies in making better use of data, develop a broader regional capacity for data analysis, and introduce students interested in data analysis to future employers.\n",
    "\n",
    "This notebooks is part of a week-long \"hackathon\" project that addressed food insecurity issues in San Diego County.\n",
    "\n",
    "\n",
    "## Defining Catchment Areas\n",
    "The task is to create a catchment area map for each of the food distribution sites based on geographic regions from the Census. A catchment area consists of all of the regions that are closer to the same distribution site than to any other site.\n",
    "\n",
    "We defined catchment areas by assigning census tracts to the agency distribution sites. The census tract data was downloaded from http://data.sandiegodata.org/dataset/san-diego-census-tracts. We used simple straight line distance from the given latitude and longitude of the census tracts, to the latitude and longitude of each of the agency distribution sites to assign the catchment areas. "
   ]
  },
  {
   "cell_type": "code",
   "execution_count": 1,
   "metadata": {
    "collapsed": false
   },
   "outputs": [
    {
     "name": "stdout",
     "output_type": "stream",
     "text": [
      "Populating the interactive namespace from numpy and matplotlib\n"
     ]
    },
    {
     "name": "stderr",
     "output_type": "stream",
     "text": [
      "/Users/jfly/anaconda/lib/python2.7/site-packages/pandas/computation/__init__.py:19: UserWarning: The installed version of numexpr 2.4.4 is not supported in pandas and will be not be used\n",
      "\n",
      "  UserWarning)\n"
     ]
    }
   ],
   "source": [
    "%pylab inline\n",
    "import pandas as pd"
   ]
  },
  {
   "cell_type": "markdown",
   "metadata": {},
   "source": [
    "### Load census tract data"
   ]
  },
  {
   "cell_type": "code",
   "execution_count": 2,
   "metadata": {
    "collapsed": false
   },
   "outputs": [],
   "source": [
    "#the file I downloaded from http://data.sandiegodata.org/dataset/san-diego-census-tracts, then dropped the airport tract\n",
    "sd_data = pd.read_csv('sandiegocensustract.csv', index_col=0)"
   ]
  },
  {
   "cell_type": "code",
   "execution_count": 3,
   "metadata": {
    "collapsed": false
   },
   "outputs": [
    {
     "data": {
      "text/html": [
       "<div>\n",
       "<table border=\"1\" class=\"dataframe\">\n",
       "  <thead>\n",
       "    <tr style=\"text-align: right;\">\n",
       "      <th></th>\n",
       "      <th>TRACTNUM</th>\n",
       "      <th>TRACT</th>\n",
       "      <th>SevCrwd</th>\n",
       "      <th>TeenBirthProportion</th>\n",
       "      <th>TeenBirthAllWom</th>\n",
       "      <th>SingMother</th>\n",
       "      <th>MaltrtAllegRate</th>\n",
       "      <th>FosterCareEntry</th>\n",
       "      <th>TotalPov</th>\n",
       "      <th>ChildPov</th>\n",
       "      <th>...</th>\n",
       "      <th>PovertyPctl</th>\n",
       "      <th>Unemployment</th>\n",
       "      <th>UnemploymentPctl</th>\n",
       "      <th>PopCharScore</th>\n",
       "      <th>PopCharPctl</th>\n",
       "      <th>NeighborhoodName</th>\n",
       "      <th>n_FoodDesert</th>\n",
       "      <th>pct_FoodDesert</th>\n",
       "      <th>LiqCount</th>\n",
       "      <th>Uninsured</th>\n",
       "    </tr>\n",
       "  </thead>\n",
       "  <tbody>\n",
       "    <tr>\n",
       "      <th>0</th>\n",
       "      <td>6073005000</td>\n",
       "      <td>50.00</td>\n",
       "      <td>0.110</td>\n",
       "      <td>0.127273</td>\n",
       "      <td>0.014028</td>\n",
       "      <td>0.141199</td>\n",
       "      <td>157.899990</td>\n",
       "      <td>8.1</td>\n",
       "      <td>42.799999</td>\n",
       "      <td>45.900002</td>\n",
       "      <td>...</td>\n",
       "      <td>96.646072</td>\n",
       "      <td>NaN</td>\n",
       "      <td>NaN</td>\n",
       "      <td>8.316532</td>\n",
       "      <td>95.146118</td>\n",
       "      <td>Barrio Logan</td>\n",
       "      <td>160.950368</td>\n",
       "      <td>0.210393</td>\n",
       "      <td>556.75000</td>\n",
       "      <td>0.226247</td>\n",
       "    </tr>\n",
       "    <tr>\n",
       "      <th>1</th>\n",
       "      <td>6073020028</td>\n",
       "      <td>200.28</td>\n",
       "      <td>0.118</td>\n",
       "      <td>0.074468</td>\n",
       "      <td>0.006250</td>\n",
       "      <td>0.221421</td>\n",
       "      <td>NaN</td>\n",
       "      <td>0.0</td>\n",
       "      <td>41.000000</td>\n",
       "      <td>50.200001</td>\n",
       "      <td>...</td>\n",
       "      <td>95.069979</td>\n",
       "      <td>4.31</td>\n",
       "      <td>5.174611</td>\n",
       "      <td>5.724663</td>\n",
       "      <td>59.814374</td>\n",
       "      <td>San Marcos</td>\n",
       "      <td>920.544771</td>\n",
       "      <td>0.700034</td>\n",
       "      <td>NaN</td>\n",
       "      <td>0.190999</td>\n",
       "    </tr>\n",
       "    <tr>\n",
       "      <th>2</th>\n",
       "      <td>6073004501</td>\n",
       "      <td>45.01</td>\n",
       "      <td>0.056</td>\n",
       "      <td>0.700000</td>\n",
       "      <td>0.039019</td>\n",
       "      <td>0.048000</td>\n",
       "      <td>24.400000</td>\n",
       "      <td>1.9</td>\n",
       "      <td>17.500000</td>\n",
       "      <td>25.600000</td>\n",
       "      <td>...</td>\n",
       "      <td>72.336401</td>\n",
       "      <td>5.66</td>\n",
       "      <td>11.534540</td>\n",
       "      <td>4.997402</td>\n",
       "      <td>47.811363</td>\n",
       "      <td>Golden Hill</td>\n",
       "      <td>0.000000</td>\n",
       "      <td>0.000000</td>\n",
       "      <td>958.33331</td>\n",
       "      <td>0.144167</td>\n",
       "    </tr>\n",
       "    <tr>\n",
       "      <th>3</th>\n",
       "      <td>6073004800</td>\n",
       "      <td>48.00</td>\n",
       "      <td>0.151</td>\n",
       "      <td>0.000000</td>\n",
       "      <td>0.000000</td>\n",
       "      <td>0.198259</td>\n",
       "      <td>79.599998</td>\n",
       "      <td>0.8</td>\n",
       "      <td>33.400002</td>\n",
       "      <td>39.799999</td>\n",
       "      <td>...</td>\n",
       "      <td>95.536502</td>\n",
       "      <td>10.62</td>\n",
       "      <td>51.452970</td>\n",
       "      <td>7.884312</td>\n",
       "      <td>91.270538</td>\n",
       "      <td>Grant Hill</td>\n",
       "      <td>0.000000</td>\n",
       "      <td>0.000000</td>\n",
       "      <td>1028.75000</td>\n",
       "      <td>0.137367</td>\n",
       "    </tr>\n",
       "    <tr>\n",
       "      <th>4</th>\n",
       "      <td>6073003601</td>\n",
       "      <td>36.01</td>\n",
       "      <td>0.016</td>\n",
       "      <td>0.000000</td>\n",
       "      <td>0.000000</td>\n",
       "      <td>0.317631</td>\n",
       "      <td>86.000000</td>\n",
       "      <td>4.1</td>\n",
       "      <td>25.900000</td>\n",
       "      <td>33.599998</td>\n",
       "      <td>...</td>\n",
       "      <td>97.503467</td>\n",
       "      <td>17.84</td>\n",
       "      <td>88.592914</td>\n",
       "      <td>8.367767</td>\n",
       "      <td>95.735608</td>\n",
       "      <td>South Crest</td>\n",
       "      <td>423.198652</td>\n",
       "      <td>0.355928</td>\n",
       "      <td>1625.00000</td>\n",
       "      <td>0.136549</td>\n",
       "    </tr>\n",
       "  </tbody>\n",
       "</table>\n",
       "<p>5 rows × 41 columns</p>\n",
       "</div>"
      ],
      "text/plain": [
       "     TRACTNUM   TRACT  SevCrwd  TeenBirthProportion  TeenBirthAllWom  \\\n",
       "0  6073005000   50.00    0.110             0.127273         0.014028   \n",
       "1  6073020028  200.28    0.118             0.074468         0.006250   \n",
       "2  6073004501   45.01    0.056             0.700000         0.039019   \n",
       "3  6073004800   48.00    0.151             0.000000         0.000000   \n",
       "4  6073003601   36.01    0.016             0.000000         0.000000   \n",
       "\n",
       "   SingMother  MaltrtAllegRate  FosterCareEntry   TotalPov   ChildPov  \\\n",
       "0    0.141199       157.899990              8.1  42.799999  45.900002   \n",
       "1    0.221421              NaN              0.0  41.000000  50.200001   \n",
       "2    0.048000        24.400000              1.9  17.500000  25.600000   \n",
       "3    0.198259        79.599998              0.8  33.400002  39.799999   \n",
       "4    0.317631        86.000000              4.1  25.900000  33.599998   \n",
       "\n",
       "     ...     PovertyPctl  Unemployment  UnemploymentPctl  PopCharScore  \\\n",
       "0    ...       96.646072           NaN               NaN      8.316532   \n",
       "1    ...       95.069979          4.31          5.174611      5.724663   \n",
       "2    ...       72.336401          5.66         11.534540      4.997402   \n",
       "3    ...       95.536502         10.62         51.452970      7.884312   \n",
       "4    ...       97.503467         17.84         88.592914      8.367767   \n",
       "\n",
       "   PopCharPctl  NeighborhoodName  n_FoodDesert  pct_FoodDesert    LiqCount  \\\n",
       "0    95.146118      Barrio Logan    160.950368        0.210393   556.75000   \n",
       "1    59.814374        San Marcos    920.544771        0.700034         NaN   \n",
       "2    47.811363       Golden Hill      0.000000        0.000000   958.33331   \n",
       "3    91.270538        Grant Hill      0.000000        0.000000  1028.75000   \n",
       "4    95.735608       South Crest    423.198652        0.355928  1625.00000   \n",
       "\n",
       "  Uninsured  \n",
       "0  0.226247  \n",
       "1  0.190999  \n",
       "2  0.144167  \n",
       "3  0.137367  \n",
       "4  0.136549  \n",
       "\n",
       "[5 rows x 41 columns]"
      ]
     },
     "execution_count": 3,
     "metadata": {},
     "output_type": "execute_result"
    }
   ],
   "source": [
    "sd_data.reset_index(drop=True,inplace=True)\n",
    "sd_data.head()"
   ]
  },
  {
   "cell_type": "code",
   "execution_count": 4,
   "metadata": {
    "collapsed": false
   },
   "outputs": [
    {
     "data": {
      "text/html": [
       "<div>\n",
       "<table border=\"1\" class=\"dataframe\">\n",
       "  <thead>\n",
       "    <tr style=\"text-align: right;\">\n",
       "      <th></th>\n",
       "      <th>TRACT</th>\n",
       "      <th>TRACTNUM</th>\n",
       "    </tr>\n",
       "  </thead>\n",
       "  <tbody>\n",
       "    <tr>\n",
       "      <th>0</th>\n",
       "      <td>50.00</td>\n",
       "      <td>6073005000</td>\n",
       "    </tr>\n",
       "    <tr>\n",
       "      <th>1</th>\n",
       "      <td>200.28</td>\n",
       "      <td>6073020028</td>\n",
       "    </tr>\n",
       "    <tr>\n",
       "      <th>2</th>\n",
       "      <td>45.01</td>\n",
       "      <td>6073004501</td>\n",
       "    </tr>\n",
       "    <tr>\n",
       "      <th>3</th>\n",
       "      <td>48.00</td>\n",
       "      <td>6073004800</td>\n",
       "    </tr>\n",
       "    <tr>\n",
       "      <th>4</th>\n",
       "      <td>36.01</td>\n",
       "      <td>6073003601</td>\n",
       "    </tr>\n",
       "  </tbody>\n",
       "</table>\n",
       "</div>"
      ],
      "text/plain": [
       "    TRACT    TRACTNUM\n",
       "0   50.00  6073005000\n",
       "1  200.28  6073020028\n",
       "2   45.01  6073004501\n",
       "3   48.00  6073004800\n",
       "4   36.01  6073003601"
      ]
     },
     "execution_count": 4,
     "metadata": {},
     "output_type": "execute_result"
    }
   ],
   "source": [
    "sd_data.head()[['TRACT', 'TRACTNUM']]"
   ]
  },
  {
   "cell_type": "markdown",
   "metadata": {},
   "source": [
    "### Load agency sites"
   ]
  },
  {
   "cell_type": "code",
   "execution_count": 5,
   "metadata": {
    "collapsed": false
   },
   "outputs": [],
   "source": [
    "agency_data = pd.read_csv('agency_master_geocoded.csv')"
   ]
  },
  {
   "cell_type": "code",
   "execution_count": 6,
   "metadata": {
    "collapsed": false
   },
   "outputs": [],
   "source": [
    "agency_loc = agency_data[['Agency #', 'Agency Name', 'Latitude', 'Longitude']].copy()"
   ]
  },
  {
   "cell_type": "code",
   "execution_count": 7,
   "metadata": {
    "collapsed": false
   },
   "outputs": [
    {
     "data": {
      "text/html": [
       "<div>\n",
       "<table border=\"1\" class=\"dataframe\">\n",
       "  <thead>\n",
       "    <tr style=\"text-align: right;\">\n",
       "      <th></th>\n",
       "      <th>Agency #</th>\n",
       "      <th>Agency Name</th>\n",
       "      <th>Latitude</th>\n",
       "      <th>Longitude</th>\n",
       "    </tr>\n",
       "  </thead>\n",
       "  <tbody>\n",
       "    <tr>\n",
       "      <th>0</th>\n",
       "      <td>1306</td>\n",
       "      <td>31st St. SDA Church</td>\n",
       "      <td>32.702025</td>\n",
       "      <td>-117.127443</td>\n",
       "    </tr>\n",
       "    <tr>\n",
       "      <th>1</th>\n",
       "      <td>1318</td>\n",
       "      <td>Alpine Community Center</td>\n",
       "      <td>32.837626</td>\n",
       "      <td>-116.774913</td>\n",
       "    </tr>\n",
       "    <tr>\n",
       "      <th>2</th>\n",
       "      <td>1044</td>\n",
       "      <td>Amity Foundation</td>\n",
       "      <td>33.165122</td>\n",
       "      <td>-117.222261</td>\n",
       "    </tr>\n",
       "    <tr>\n",
       "      <th>3</th>\n",
       "      <td>1002</td>\n",
       "      <td>Angel's Depot</td>\n",
       "      <td>33.136002</td>\n",
       "      <td>-117.223964</td>\n",
       "    </tr>\n",
       "    <tr>\n",
       "      <th>4</th>\n",
       "      <td>1078</td>\n",
       "      <td>Bayside Community Center</td>\n",
       "      <td>32.783125</td>\n",
       "      <td>-117.172847</td>\n",
       "    </tr>\n",
       "  </tbody>\n",
       "</table>\n",
       "</div>"
      ],
      "text/plain": [
       "   Agency #               Agency Name   Latitude   Longitude\n",
       "0      1306       31st St. SDA Church  32.702025 -117.127443\n",
       "1      1318   Alpine Community Center  32.837626 -116.774913\n",
       "2      1044          Amity Foundation  33.165122 -117.222261\n",
       "3      1002             Angel's Depot  33.136002 -117.223964\n",
       "4      1078  Bayside Community Center  32.783125 -117.172847"
      ]
     },
     "execution_count": 7,
     "metadata": {},
     "output_type": "execute_result"
    }
   ],
   "source": [
    "agency_loc.dropna(inplace=True)\n",
    "agency_loc.reset_index(drop=True,inplace=True)\n",
    "agency_loc.head()"
   ]
  },
  {
   "cell_type": "markdown",
   "metadata": {},
   "source": [
    "### Calculate distances\n",
    "Defining generic functions that determine catchment areas given an abstracted distance formula"
   ]
  },
  {
   "cell_type": "code",
   "execution_count": 8,
   "metadata": {
    "collapsed": false
   },
   "outputs": [],
   "source": [
    "import time\n",
    "\n",
    "def get_cost_matrix(rows, row_labels, cols, col_labels, cost_function, sleep_sec=0):\n",
    "    row_col_costs = []\n",
    "    for i in xrange(len(rows)):\n",
    "        temp_costs = []\n",
    "        pt_1 = (rows[row_labels[0]][i], rows[row_labels[1]][i])\n",
    "        for j in xrange(len(cols)):\n",
    "            pt_2 = (cols[col_labels[0]][j], cols[col_labels[1]][j])\n",
    "            temp_costs.append(cost_function(pt_1, pt_2))\n",
    "            time.sleep(sleep_sec)\n",
    "        row_col_costs.append(pd.Series(temp_costs))\n",
    "        if i%5==0: print i,'\\r',\n",
    "    return row_col_costs\n"
   ]
  },
  {
   "cell_type": "code",
   "execution_count": 9,
   "metadata": {
    "collapsed": false
   },
   "outputs": [],
   "source": [
    "def get_catchment_groups(tracts, agencies, cost_function, sleep_sec=0):\n",
    "    full_cost_matrix = get_cost_matrix(tracts, ('Latitude','Longitude'), agencies, ('Latitude', 'Longitude'), cost_function, sleep_sec)\n",
    "    df_cost_matrix = pd.concat(full_cost_matrix, axis=1).transpose()\n",
    "    return df_cost_matrix.idxmin(axis=1)\n",
    "    \n",
    "\n",
    "    "
   ]
  },
  {
   "cell_type": "markdown",
   "metadata": {},
   "source": [
    "### Find catchment areas for straight line cost"
   ]
  },
  {
   "cell_type": "code",
   "execution_count": 10,
   "metadata": {
    "collapsed": false
   },
   "outputs": [],
   "source": [
    "from geopy.distance import vincenty\n",
    "\n",
    "def straight_line_miles(pt1, pt2):\n",
    "    return vincenty(pt1, pt2).miles\n",
    "\n"
   ]
  },
  {
   "cell_type": "code",
   "execution_count": 11,
   "metadata": {
    "collapsed": false
   },
   "outputs": [
    {
     "name": "stdout",
     "output_type": "stream",
     "text": []
    }
   ],
   "source": [
    "catchment_straight_line = get_catchment_groups(sd_data, agency_loc, straight_line_miles)"
   ]
  },
  {
   "cell_type": "code",
   "execution_count": 12,
   "metadata": {
    "collapsed": false
   },
   "outputs": [
    {
     "name": "stdout",
     "output_type": "stream",
     "text": [
      "(624,)\n",
      "0     34\n",
      "1     81\n",
      "2    130\n",
      "3     88\n",
      "4     67\n",
      "dtype: int64\n"
     ]
    }
   ],
   "source": [
    "#peek at some values\n",
    "print np.shape(catchment_straight_line)\n",
    "print catchment_straight_line.head()"
   ]
  },
  {
   "cell_type": "code",
   "execution_count": 13,
   "metadata": {
    "collapsed": false
   },
   "outputs": [
    {
     "data": {
      "text/html": [
       "<div>\n",
       "<table border=\"1\" class=\"dataframe\">\n",
       "  <thead>\n",
       "    <tr style=\"text-align: right;\">\n",
       "      <th></th>\n",
       "      <th>TRACTNUM</th>\n",
       "      <th>TRACT</th>\n",
       "      <th>SevCrwd</th>\n",
       "      <th>TeenBirthProportion</th>\n",
       "      <th>TeenBirthAllWom</th>\n",
       "      <th>SingMother</th>\n",
       "      <th>MaltrtAllegRate</th>\n",
       "      <th>FosterCareEntry</th>\n",
       "      <th>TotalPov</th>\n",
       "      <th>ChildPov</th>\n",
       "      <th>...</th>\n",
       "      <th>PovertyPctl</th>\n",
       "      <th>Unemployment</th>\n",
       "      <th>UnemploymentPctl</th>\n",
       "      <th>PopCharScore</th>\n",
       "      <th>PopCharPctl</th>\n",
       "      <th>NeighborhoodName</th>\n",
       "      <th>n_FoodDesert</th>\n",
       "      <th>pct_FoodDesert</th>\n",
       "      <th>LiqCount</th>\n",
       "      <th>Uninsured</th>\n",
       "    </tr>\n",
       "  </thead>\n",
       "  <tbody>\n",
       "    <tr>\n",
       "      <th>0</th>\n",
       "      <td>6073005000</td>\n",
       "      <td>50.00</td>\n",
       "      <td>0.110</td>\n",
       "      <td>0.127273</td>\n",
       "      <td>0.014028</td>\n",
       "      <td>0.141199</td>\n",
       "      <td>157.899990</td>\n",
       "      <td>8.1</td>\n",
       "      <td>42.799999</td>\n",
       "      <td>45.900002</td>\n",
       "      <td>...</td>\n",
       "      <td>96.646072</td>\n",
       "      <td>NaN</td>\n",
       "      <td>NaN</td>\n",
       "      <td>8.316532</td>\n",
       "      <td>95.146118</td>\n",
       "      <td>Barrio Logan</td>\n",
       "      <td>160.950368</td>\n",
       "      <td>0.210393</td>\n",
       "      <td>556.75000</td>\n",
       "      <td>0.226247</td>\n",
       "    </tr>\n",
       "    <tr>\n",
       "      <th>1</th>\n",
       "      <td>6073020028</td>\n",
       "      <td>200.28</td>\n",
       "      <td>0.118</td>\n",
       "      <td>0.074468</td>\n",
       "      <td>0.006250</td>\n",
       "      <td>0.221421</td>\n",
       "      <td>NaN</td>\n",
       "      <td>0.0</td>\n",
       "      <td>41.000000</td>\n",
       "      <td>50.200001</td>\n",
       "      <td>...</td>\n",
       "      <td>95.069979</td>\n",
       "      <td>4.31</td>\n",
       "      <td>5.174611</td>\n",
       "      <td>5.724663</td>\n",
       "      <td>59.814374</td>\n",
       "      <td>San Marcos</td>\n",
       "      <td>920.544771</td>\n",
       "      <td>0.700034</td>\n",
       "      <td>NaN</td>\n",
       "      <td>0.190999</td>\n",
       "    </tr>\n",
       "    <tr>\n",
       "      <th>2</th>\n",
       "      <td>6073004501</td>\n",
       "      <td>45.01</td>\n",
       "      <td>0.056</td>\n",
       "      <td>0.700000</td>\n",
       "      <td>0.039019</td>\n",
       "      <td>0.048000</td>\n",
       "      <td>24.400000</td>\n",
       "      <td>1.9</td>\n",
       "      <td>17.500000</td>\n",
       "      <td>25.600000</td>\n",
       "      <td>...</td>\n",
       "      <td>72.336401</td>\n",
       "      <td>5.66</td>\n",
       "      <td>11.534540</td>\n",
       "      <td>4.997402</td>\n",
       "      <td>47.811363</td>\n",
       "      <td>Golden Hill</td>\n",
       "      <td>0.000000</td>\n",
       "      <td>0.000000</td>\n",
       "      <td>958.33331</td>\n",
       "      <td>0.144167</td>\n",
       "    </tr>\n",
       "    <tr>\n",
       "      <th>3</th>\n",
       "      <td>6073004800</td>\n",
       "      <td>48.00</td>\n",
       "      <td>0.151</td>\n",
       "      <td>0.000000</td>\n",
       "      <td>0.000000</td>\n",
       "      <td>0.198259</td>\n",
       "      <td>79.599998</td>\n",
       "      <td>0.8</td>\n",
       "      <td>33.400002</td>\n",
       "      <td>39.799999</td>\n",
       "      <td>...</td>\n",
       "      <td>95.536502</td>\n",
       "      <td>10.62</td>\n",
       "      <td>51.452970</td>\n",
       "      <td>7.884312</td>\n",
       "      <td>91.270538</td>\n",
       "      <td>Grant Hill</td>\n",
       "      <td>0.000000</td>\n",
       "      <td>0.000000</td>\n",
       "      <td>1028.75000</td>\n",
       "      <td>0.137367</td>\n",
       "    </tr>\n",
       "    <tr>\n",
       "      <th>4</th>\n",
       "      <td>6073003601</td>\n",
       "      <td>36.01</td>\n",
       "      <td>0.016</td>\n",
       "      <td>0.000000</td>\n",
       "      <td>0.000000</td>\n",
       "      <td>0.317631</td>\n",
       "      <td>86.000000</td>\n",
       "      <td>4.1</td>\n",
       "      <td>25.900000</td>\n",
       "      <td>33.599998</td>\n",
       "      <td>...</td>\n",
       "      <td>97.503467</td>\n",
       "      <td>17.84</td>\n",
       "      <td>88.592914</td>\n",
       "      <td>8.367767</td>\n",
       "      <td>95.735608</td>\n",
       "      <td>South Crest</td>\n",
       "      <td>423.198652</td>\n",
       "      <td>0.355928</td>\n",
       "      <td>1625.00000</td>\n",
       "      <td>0.136549</td>\n",
       "    </tr>\n",
       "  </tbody>\n",
       "</table>\n",
       "<p>5 rows × 41 columns</p>\n",
       "</div>"
      ],
      "text/plain": [
       "     TRACTNUM   TRACT  SevCrwd  TeenBirthProportion  TeenBirthAllWom  \\\n",
       "0  6073005000   50.00    0.110             0.127273         0.014028   \n",
       "1  6073020028  200.28    0.118             0.074468         0.006250   \n",
       "2  6073004501   45.01    0.056             0.700000         0.039019   \n",
       "3  6073004800   48.00    0.151             0.000000         0.000000   \n",
       "4  6073003601   36.01    0.016             0.000000         0.000000   \n",
       "\n",
       "   SingMother  MaltrtAllegRate  FosterCareEntry   TotalPov   ChildPov  \\\n",
       "0    0.141199       157.899990              8.1  42.799999  45.900002   \n",
       "1    0.221421              NaN              0.0  41.000000  50.200001   \n",
       "2    0.048000        24.400000              1.9  17.500000  25.600000   \n",
       "3    0.198259        79.599998              0.8  33.400002  39.799999   \n",
       "4    0.317631        86.000000              4.1  25.900000  33.599998   \n",
       "\n",
       "     ...     PovertyPctl  Unemployment  UnemploymentPctl  PopCharScore  \\\n",
       "0    ...       96.646072           NaN               NaN      8.316532   \n",
       "1    ...       95.069979          4.31          5.174611      5.724663   \n",
       "2    ...       72.336401          5.66         11.534540      4.997402   \n",
       "3    ...       95.536502         10.62         51.452970      7.884312   \n",
       "4    ...       97.503467         17.84         88.592914      8.367767   \n",
       "\n",
       "   PopCharPctl  NeighborhoodName  n_FoodDesert  pct_FoodDesert    LiqCount  \\\n",
       "0    95.146118      Barrio Logan    160.950368        0.210393   556.75000   \n",
       "1    59.814374        San Marcos    920.544771        0.700034         NaN   \n",
       "2    47.811363       Golden Hill      0.000000        0.000000   958.33331   \n",
       "3    91.270538        Grant Hill      0.000000        0.000000  1028.75000   \n",
       "4    95.735608       South Crest    423.198652        0.355928  1625.00000   \n",
       "\n",
       "  Uninsured  \n",
       "0  0.226247  \n",
       "1  0.190999  \n",
       "2  0.144167  \n",
       "3  0.137367  \n",
       "4  0.136549  \n",
       "\n",
       "[5 rows x 41 columns]"
      ]
     },
     "execution_count": 13,
     "metadata": {},
     "output_type": "execute_result"
    }
   ],
   "source": [
    "sd_data.head()"
   ]
  },
  {
   "cell_type": "markdown",
   "metadata": {},
   "source": [
    "### Create linkage file for catchment areas\n",
    "This file links census tracts to agency numbers and will be used by our geographer to create shaded maps showing the catchment areas in San Diego County."
   ]
  },
  {
   "cell_type": "code",
   "execution_count": 14,
   "metadata": {
    "collapsed": false
   },
   "outputs": [],
   "source": [
    "tract_overlay = []\n",
    "for i in catchment_straight_line.index:\n",
    "    agency_index = catchment_straight_line[i]\n",
    "    vals = [\"{:.2f}\".format(sd_data['TRACT'][i])] + list(agency_data.iloc[agency_index][['Agency #', 'Agency Name']]) + list(sd_data.iloc[i][['SNAP_FdStmp', 'pct_FoodDesert','SingMother', 'ChildPov' ]])\n",
    "    tract_overlay.append(pd.Series(vals))\n"
   ]
  },
  {
   "cell_type": "code",
   "execution_count": 15,
   "metadata": {
    "collapsed": false
   },
   "outputs": [
    {
     "data": {
      "text/html": [
       "<div>\n",
       "<table border=\"1\" class=\"dataframe\">\n",
       "  <thead>\n",
       "    <tr style=\"text-align: right;\">\n",
       "      <th></th>\n",
       "      <th>Census Tract</th>\n",
       "      <th>Agency #</th>\n",
       "      <th>Agency Name</th>\n",
       "      <th>SNAP/Food Stamp Rate</th>\n",
       "      <th>Food Desert Rate</th>\n",
       "      <th>Single Mother Rate</th>\n",
       "      <th>Child Poverty Rate</th>\n",
       "    </tr>\n",
       "  </thead>\n",
       "  <tbody>\n",
       "    <tr>\n",
       "      <th>0</th>\n",
       "      <td>50.00</td>\n",
       "      <td>1022</td>\n",
       "      <td>CRF Jary Barretto</td>\n",
       "      <td>0.218569</td>\n",
       "      <td>0.210393</td>\n",
       "      <td>0.141199</td>\n",
       "      <td>45.9</td>\n",
       "    </tr>\n",
       "    <tr>\n",
       "      <th>1</th>\n",
       "      <td>200.28</td>\n",
       "      <td>1342</td>\n",
       "      <td>North County Health Services</td>\n",
       "      <td>0.205973</td>\n",
       "      <td>0.700034</td>\n",
       "      <td>0.221421</td>\n",
       "      <td>50.2</td>\n",
       "    </tr>\n",
       "    <tr>\n",
       "      <th>2</th>\n",
       "      <td>45.01</td>\n",
       "      <td>1062</td>\n",
       "      <td>Way Back Home</td>\n",
       "      <td>0.0832</td>\n",
       "      <td>0</td>\n",
       "      <td>0.048</td>\n",
       "      <td>25.6</td>\n",
       "    </tr>\n",
       "    <tr>\n",
       "      <th>3</th>\n",
       "      <td>48.00</td>\n",
       "      <td>1003</td>\n",
       "      <td>Presbyterian Urban Ministries</td>\n",
       "      <td>0.133462</td>\n",
       "      <td>0</td>\n",
       "      <td>0.198259</td>\n",
       "      <td>39.8</td>\n",
       "    </tr>\n",
       "    <tr>\n",
       "      <th>4</th>\n",
       "      <td>36.01</td>\n",
       "      <td>1096</td>\n",
       "      <td>MAAC Casa de Milagros</td>\n",
       "      <td>0.133244</td>\n",
       "      <td>0.355928</td>\n",
       "      <td>0.317631</td>\n",
       "      <td>33.6</td>\n",
       "    </tr>\n",
       "  </tbody>\n",
       "</table>\n",
       "</div>"
      ],
      "text/plain": [
       "  Census Tract Agency #                    Agency Name SNAP/Food Stamp Rate  \\\n",
       "0        50.00     1022              CRF Jary Barretto             0.218569   \n",
       "1       200.28     1342   North County Health Services             0.205973   \n",
       "2        45.01     1062                  Way Back Home               0.0832   \n",
       "3        48.00     1003  Presbyterian Urban Ministries             0.133462   \n",
       "4        36.01     1096          MAAC Casa de Milagros             0.133244   \n",
       "\n",
       "  Food Desert Rate Single Mother Rate Child Poverty Rate  \n",
       "0         0.210393           0.141199               45.9  \n",
       "1         0.700034           0.221421               50.2  \n",
       "2                0              0.048               25.6  \n",
       "3                0           0.198259               39.8  \n",
       "4         0.355928           0.317631               33.6  "
      ]
     },
     "execution_count": 15,
     "metadata": {},
     "output_type": "execute_result"
    }
   ],
   "source": [
    "linkage = pd.concat(tract_overlay, axis=1).transpose()\n",
    "linkage.columns = ['Census Tract', 'Agency #', 'Agency Name', 'SNAP/Food Stamp Rate', 'Food Desert Rate', 'Single Mother Rate', 'Child Poverty Rate']\n",
    "linkage.head()"
   ]
  },
  {
   "cell_type": "code",
   "execution_count": 16,
   "metadata": {
    "collapsed": false
   },
   "outputs": [],
   "source": [
    "#export the linkage\n",
    "linkage.to_csv('agency_tract_linkage_no_index.csv', index=False)"
   ]
  },
  {
   "cell_type": "markdown",
   "metadata": {},
   "source": [
    "# Find the 'neediest' tracts\n",
    "We have 624 census tracts, but not all of these are needy. We will focus on the neediest of these sites by finding those with both a high Food Stamp rate and Food Desert rate. Both of these rates are given by the census data.\n"
   ]
  },
  {
   "cell_type": "code",
   "execution_count": 17,
   "metadata": {
    "collapsed": false
   },
   "outputs": [],
   "source": [
    "linkage['Needy'] = linkage['SNAP/Food Stamp Rate'] * linkage['Food Desert Rate']"
   ]
  },
  {
   "cell_type": "code",
   "execution_count": 18,
   "metadata": {
    "collapsed": false
   },
   "outputs": [
    {
     "data": {
      "text/html": [
       "<div>\n",
       "<table border=\"1\" class=\"dataframe\">\n",
       "  <thead>\n",
       "    <tr style=\"text-align: right;\">\n",
       "      <th></th>\n",
       "      <th>Census Tract</th>\n",
       "      <th>Agency #</th>\n",
       "      <th>Agency Name</th>\n",
       "      <th>SNAP/Food Stamp Rate</th>\n",
       "      <th>Food Desert Rate</th>\n",
       "      <th>Single Mother Rate</th>\n",
       "      <th>Child Poverty Rate</th>\n",
       "      <th>Needy</th>\n",
       "    </tr>\n",
       "  </thead>\n",
       "  <tbody>\n",
       "    <tr>\n",
       "      <th>247</th>\n",
       "      <td>159.01</td>\n",
       "      <td>1092</td>\n",
       "      <td>Sonshine Haven</td>\n",
       "      <td>0.274194</td>\n",
       "      <td>1</td>\n",
       "      <td>0.247312</td>\n",
       "      <td>47</td>\n",
       "      <td>0.274194</td>\n",
       "    </tr>\n",
       "    <tr>\n",
       "      <th>171</th>\n",
       "      <td>158.02</td>\n",
       "      <td>1410</td>\n",
       "      <td>Chaldean &amp; Middle Eastern Social Services</td>\n",
       "      <td>0.268364</td>\n",
       "      <td>1</td>\n",
       "      <td>0.163636</td>\n",
       "      <td>39.9</td>\n",
       "      <td>0.268364</td>\n",
       "    </tr>\n",
       "    <tr>\n",
       "      <th>134</th>\n",
       "      <td>158.01</td>\n",
       "      <td>1410</td>\n",
       "      <td>Chaldean &amp; Middle Eastern Social Services</td>\n",
       "      <td>0.238204</td>\n",
       "      <td>0.844975</td>\n",
       "      <td>0.217656</td>\n",
       "      <td>43</td>\n",
       "      <td>0.201276</td>\n",
       "    </tr>\n",
       "    <tr>\n",
       "      <th>523</th>\n",
       "      <td>139.09</td>\n",
       "      <td>1017</td>\n",
       "      <td>LJC Ministries Inc.</td>\n",
       "      <td>0.178713</td>\n",
       "      <td>1</td>\n",
       "      <td>0.118348</td>\n",
       "      <td>19.9</td>\n",
       "      <td>0.178713</td>\n",
       "    </tr>\n",
       "    <tr>\n",
       "      <th>84</th>\n",
       "      <td>33.01</td>\n",
       "      <td>1096</td>\n",
       "      <td>MAAC Casa de Milagros</td>\n",
       "      <td>0.214514</td>\n",
       "      <td>0.714309</td>\n",
       "      <td>0.226254</td>\n",
       "      <td>17.5</td>\n",
       "      <td>0.15323</td>\n",
       "    </tr>\n",
       "  </tbody>\n",
       "</table>\n",
       "</div>"
      ],
      "text/plain": [
       "    Census Tract Agency #                                Agency Name  \\\n",
       "247       159.01     1092                             Sonshine Haven   \n",
       "171       158.02     1410  Chaldean & Middle Eastern Social Services   \n",
       "134       158.01     1410  Chaldean & Middle Eastern Social Services   \n",
       "523       139.09     1017                        LJC Ministries Inc.   \n",
       "84         33.01     1096                      MAAC Casa de Milagros   \n",
       "\n",
       "    SNAP/Food Stamp Rate Food Desert Rate Single Mother Rate  \\\n",
       "247             0.274194                1           0.247312   \n",
       "171             0.268364                1           0.163636   \n",
       "134             0.238204         0.844975           0.217656   \n",
       "523             0.178713                1           0.118348   \n",
       "84              0.214514         0.714309           0.226254   \n",
       "\n",
       "    Child Poverty Rate     Needy  \n",
       "247                 47  0.274194  \n",
       "171               39.9  0.268364  \n",
       "134                 43  0.201276  \n",
       "523               19.9  0.178713  \n",
       "84                17.5   0.15323  "
      ]
     },
     "execution_count": 18,
     "metadata": {},
     "output_type": "execute_result"
    }
   ],
   "source": [
    "linkage.sort_values(['Needy'], ascending=0).head()"
   ]
  },
  {
   "cell_type": "markdown",
   "metadata": {},
   "source": [
    "The top three \"neediest\" are all adjacent and in El Cajon. See http://www.usa.com/CA073015901.html , http://www.usa.com/CA073015802.html and http://www.usa.com/CA073015801.html. Let's see how quickly the 'neediness' drops off."
   ]
  },
  {
   "cell_type": "code",
   "execution_count": 19,
   "metadata": {
    "collapsed": false
   },
   "outputs": [
    {
     "data": {
      "image/png": "[encoded data removed]",
      "text/plain": [
       "<matplotlib.figure.Figure at 0x108081150>"
      ]
     },
     "metadata": {},
     "output_type": "display_data"
    }
   ],
   "source": [
    "ordered_need = linkage.sort_values(['Needy'], ascending=0)\n",
    "ordered_need.plot(x=['Census Tract'], y=['Needy'])\n",
    "plt.show()"
   ]
  },
  {
   "cell_type": "markdown",
   "metadata": {},
   "source": [
    "The \"elbow\" appears at approximately 0.5 - 0.6 \"neediness.\" Let's see how many tracts have a neediness above this value."
   ]
  },
  {
   "cell_type": "code",
   "execution_count": 20,
   "metadata": {
    "collapsed": false
   },
   "outputs": [
    {
     "data": {
      "text/plain": [
       "8"
      ]
     },
     "execution_count": 20,
     "metadata": {},
     "output_type": "execute_result"
    }
   ],
   "source": [
    "#how many have neediness about this elbow?\n",
    "np.shape(ordered_need[ordered_need['Needy'] > 0.055])[1]"
   ]
  },
  {
   "cell_type": "code",
   "execution_count": 21,
   "metadata": {
    "collapsed": false
   },
   "outputs": [],
   "source": [
    "#write out the neediest for further analysis\n",
    "ordered_need_top = ordered_need[ordered_need['Needy'] > 0.055]\n",
    "ordered_need_top.to_csv('agency_tract_filtered.csv', index=False)"
   ]
  },
  {
   "cell_type": "markdown",
   "metadata": {},
   "source": [
    "# Estimate how many people the top agencies serve\n",
    "We found that 16 agencies account for 50% of the distributed volume. This section uses the census data and catchment areas to find the approximate number of people these agencies serve.\n"
   ]
  },
  {
   "cell_type": "code",
   "execution_count": 22,
   "metadata": {
    "collapsed": false
   },
   "outputs": [],
   "source": [
    "all_star_agencies = [1189, 1172, 1289, 1064, 1079, 1108, 1065, 1351, 1006, 1146, 1325, 1028, 1381, 1216, 1177, 1178]\n",
    "select = [i in all_star_agencies for i in linkage[\"Agency #\"].values]\n",
    "all_star_selector = linkage[select]"
   ]
  },
  {
   "cell_type": "code",
   "execution_count": 23,
   "metadata": {
    "collapsed": false
   },
   "outputs": [
    {
     "name": "stdout",
     "output_type": "stream",
     "text": [
      "(53, 8)\n"
     ]
    },
    {
     "data": {
      "text/html": [
       "<div>\n",
       "<table border=\"1\" class=\"dataframe\">\n",
       "  <thead>\n",
       "    <tr style=\"text-align: right;\">\n",
       "      <th></th>\n",
       "      <th>Census Tract</th>\n",
       "      <th>Agency #</th>\n",
       "      <th>Agency Name</th>\n",
       "      <th>SNAP/Food Stamp Rate</th>\n",
       "      <th>Food Desert Rate</th>\n",
       "      <th>Single Mother Rate</th>\n",
       "      <th>Child Poverty Rate</th>\n",
       "      <th>Needy</th>\n",
       "    </tr>\n",
       "  </thead>\n",
       "  <tbody>\n",
       "    <tr>\n",
       "      <th>5</th>\n",
       "      <td>186.03</td>\n",
       "      <td>1028</td>\n",
       "      <td>Brother Benno Foundation</td>\n",
       "      <td>0.0523996</td>\n",
       "      <td>0.139732</td>\n",
       "      <td>0.150833</td>\n",
       "      <td>23.2</td>\n",
       "      <td>0.00732188</td>\n",
       "    </tr>\n",
       "    <tr>\n",
       "      <th>18</th>\n",
       "      <td>202.14</td>\n",
       "      <td>1079</td>\n",
       "      <td>Interfaith Community Services</td>\n",
       "      <td>0.117029</td>\n",
       "      <td>0.0647181</td>\n",
       "      <td>0.143658</td>\n",
       "      <td>44.7</td>\n",
       "      <td>0.00757388</td>\n",
       "    </tr>\n",
       "    <tr>\n",
       "      <th>19</th>\n",
       "      <td>206.01</td>\n",
       "      <td>1079</td>\n",
       "      <td>Interfaith Community Services</td>\n",
       "      <td>0.0835821</td>\n",
       "      <td>0.042025</td>\n",
       "      <td>0.251493</td>\n",
       "      <td>28.8</td>\n",
       "      <td>0.00351254</td>\n",
       "    </tr>\n",
       "    <tr>\n",
       "      <th>25</th>\n",
       "      <td>201.09</td>\n",
       "      <td>1289</td>\n",
       "      <td>Mission Vida Nueva Food Bank</td>\n",
       "      <td>0.0780757</td>\n",
       "      <td>0.994965</td>\n",
       "      <td>0.044164</td>\n",
       "      <td>20.3</td>\n",
       "      <td>0.0776826</td>\n",
       "    </tr>\n",
       "    <tr>\n",
       "      <th>26</th>\n",
       "      <td>57.00</td>\n",
       "      <td>1006</td>\n",
       "      <td>San Diego Rescue Mission</td>\n",
       "      <td>0.0586854</td>\n",
       "      <td>0.779764</td>\n",
       "      <td>0</td>\n",
       "      <td>NaN</td>\n",
       "      <td>0.0457608</td>\n",
       "    </tr>\n",
       "  </tbody>\n",
       "</table>\n",
       "</div>"
      ],
      "text/plain": [
       "   Census Tract Agency #                    Agency Name SNAP/Food Stamp Rate  \\\n",
       "5        186.03     1028       Brother Benno Foundation            0.0523996   \n",
       "18       202.14     1079  Interfaith Community Services             0.117029   \n",
       "19       206.01     1079  Interfaith Community Services            0.0835821   \n",
       "25       201.09     1289   Mission Vida Nueva Food Bank            0.0780757   \n",
       "26        57.00     1006       San Diego Rescue Mission            0.0586854   \n",
       "\n",
       "   Food Desert Rate Single Mother Rate Child Poverty Rate       Needy  \n",
       "5          0.139732           0.150833               23.2  0.00732188  \n",
       "18        0.0647181           0.143658               44.7  0.00757388  \n",
       "19         0.042025           0.251493               28.8  0.00351254  \n",
       "25         0.994965           0.044164               20.3   0.0776826  \n",
       "26         0.779764                  0                NaN   0.0457608  "
      ]
     },
     "execution_count": 23,
     "metadata": {},
     "output_type": "execute_result"
    }
   ],
   "source": [
    "print np.shape(all_star_selector)\n",
    "all_star_selector.head()"
   ]
  },
  {
   "cell_type": "markdown",
   "metadata": {},
   "source": [
    "53 census tracts are assigned to these 16 agencies, according to our catchment areas. We will approximate the needy population served by each agency by multipling the tracts' population by their food stamp rate; then aggregating this by agency assignment."
   ]
  },
  {
   "cell_type": "code",
   "execution_count": 24,
   "metadata": {
    "collapsed": false
   },
   "outputs": [],
   "source": [
    "top_distributors = sd_data[['TRACT', 'TotalPopulation', 'SNAP_FdStmp']].copy()\n",
    "top_distributors.columns = ['Census Tract', 'TotalPopulation', 'SNAP/Food Stamp Rate']\n",
    "top_distributors['NeedyPopulation'] = top_distributors['TotalPopulation'] * top_distributors['SNAP/Food Stamp Rate']\n",
    "\n"
   ]
  },
  {
   "cell_type": "code",
   "execution_count": 25,
   "metadata": {
    "collapsed": false
   },
   "outputs": [],
   "source": [
    "top_distributors_need = all_star_selector.join(top_distributors,how='left',lsuffix='Census Tract')"
   ]
  },
  {
   "cell_type": "code",
   "execution_count": 26,
   "metadata": {
    "collapsed": false
   },
   "outputs": [
    {
     "data": {
      "text/html": [
       "<div>\n",
       "<table border=\"1\" class=\"dataframe\">\n",
       "  <thead>\n",
       "    <tr style=\"text-align: right;\">\n",
       "      <th></th>\n",
       "      <th>Census Tract</th>\n",
       "      <th>TotalPopulation</th>\n",
       "      <th>SNAP/Food Stamp Rate</th>\n",
       "      <th>NeedyPopulation</th>\n",
       "    </tr>\n",
       "    <tr>\n",
       "      <th>Agency #</th>\n",
       "      <th></th>\n",
       "      <th></th>\n",
       "      <th></th>\n",
       "      <th></th>\n",
       "    </tr>\n",
       "  </thead>\n",
       "  <tbody>\n",
       "    <tr>\n",
       "      <th>1064</th>\n",
       "      <td>640.43</td>\n",
       "      <td>38481.0</td>\n",
       "      <td>0.680229</td>\n",
       "      <td>2875.262989</td>\n",
       "    </tr>\n",
       "    <tr>\n",
       "      <th>1177</th>\n",
       "      <td>572.04</td>\n",
       "      <td>18170.0</td>\n",
       "      <td>0.505954</td>\n",
       "      <td>2354.270951</td>\n",
       "    </tr>\n",
       "    <tr>\n",
       "      <th>1079</th>\n",
       "      <td>2046.50</td>\n",
       "      <td>46198.0</td>\n",
       "      <td>0.460884</td>\n",
       "      <td>2293.067680</td>\n",
       "    </tr>\n",
       "    <tr>\n",
       "      <th>1289</th>\n",
       "      <td>1007.34</td>\n",
       "      <td>29916.0</td>\n",
       "      <td>0.448452</td>\n",
       "      <td>2221.579863</td>\n",
       "    </tr>\n",
       "    <tr>\n",
       "      <th>1065</th>\n",
       "      <td>108.38</td>\n",
       "      <td>16380.0</td>\n",
       "      <td>0.492430</td>\n",
       "      <td>2058.384995</td>\n",
       "    </tr>\n",
       "    <tr>\n",
       "      <th>1189</th>\n",
       "      <td>915.09</td>\n",
       "      <td>23206.0</td>\n",
       "      <td>0.327881</td>\n",
       "      <td>1715.207106</td>\n",
       "    </tr>\n",
       "    <tr>\n",
       "      <th>1028</th>\n",
       "      <td>1299.64</td>\n",
       "      <td>32935.0</td>\n",
       "      <td>0.309062</td>\n",
       "      <td>1365.100157</td>\n",
       "    </tr>\n",
       "    <tr>\n",
       "      <th>1146</th>\n",
       "      <td>544.20</td>\n",
       "      <td>15381.0</td>\n",
       "      <td>0.184038</td>\n",
       "      <td>731.275970</td>\n",
       "    </tr>\n",
       "    <tr>\n",
       "      <th>1216</th>\n",
       "      <td>27.00</td>\n",
       "      <td>13115.0</td>\n",
       "      <td>0.119736</td>\n",
       "      <td>582.622459</td>\n",
       "    </tr>\n",
       "    <tr>\n",
       "      <th>1006</th>\n",
       "      <td>115.00</td>\n",
       "      <td>4673.0</td>\n",
       "      <td>0.092857</td>\n",
       "      <td>207.436591</td>\n",
       "    </tr>\n",
       "  </tbody>\n",
       "</table>\n",
       "</div>"
      ],
      "text/plain": [
       "          Census Tract  TotalPopulation  SNAP/Food Stamp Rate  NeedyPopulation\n",
       "Agency #                                                                      \n",
       "1064            640.43          38481.0              0.680229      2875.262989\n",
       "1177            572.04          18170.0              0.505954      2354.270951\n",
       "1079           2046.50          46198.0              0.460884      2293.067680\n",
       "1289           1007.34          29916.0              0.448452      2221.579863\n",
       "1065            108.38          16380.0              0.492430      2058.384995\n",
       "1189            915.09          23206.0              0.327881      1715.207106\n",
       "1028           1299.64          32935.0              0.309062      1365.100157\n",
       "1146            544.20          15381.0              0.184038       731.275970\n",
       "1216             27.00          13115.0              0.119736       582.622459\n",
       "1006            115.00           4673.0              0.092857       207.436591"
      ]
     },
     "execution_count": 26,
     "metadata": {},
     "output_type": "execute_result"
    }
   ],
   "source": [
    "top_distributors_need_grouped = top_distributors_need.groupby(['Agency #'])\n",
    "df_to_plot = top_distributors_need_grouped.sum().sort_values(by='NeedyPopulation', ascending=False)\n",
    "df_to_plot"
   ]
  },
  {
   "cell_type": "code",
   "execution_count": 27,
   "metadata": {
    "collapsed": false
   },
   "outputs": [
    {
     "data": {
      "text/plain": [
       "<matplotlib.axes._subplots.AxesSubplot at 0x1083f3490>"
      ]
     },
     "execution_count": 27,
     "metadata": {},
     "output_type": "execute_result"
    },
    {
     "data": {
      "image/png": "[encoded data removed]",
      "text/plain": [
       "<matplotlib.figure.Figure at 0x108354050>"
      ]
     },
     "metadata": {},
     "output_type": "display_data"
    }
   ],
   "source": [
    "df_to_plot.sort_values(by='NeedyPopulation', ascending=False).plot(y='NeedyPopulation',kind='bar')"
   ]
  },
  {
   "cell_type": "markdown",
   "metadata": {},
   "source": [
    "Only 10 of the top 16 agencies appear in this aggregration. This is because the missing 6 do not appear in our catchment assignments. This shows a shortcoming of our catchment areas -- top distribution sites do not appear in it."
   ]
  }
 ],
 "metadata": {
  "kernelspec": {
   "display_name": "Python 2",
   "language": "python",
   "name": "python2"
  },
  "language_info": {
   "codemirror_mode": {
    "name": "ipython",
    "version": 2
   },
   "file_extension": ".py",
   "mimetype": "text/x-python",
   "name": "python",
   "nbconvert_exporter": "python",
   "pygments_lexer": "ipython2",
   "version": "2.7.11"
  }
 },
 "nbformat": 4,
 "nbformat_minor": 0
}
